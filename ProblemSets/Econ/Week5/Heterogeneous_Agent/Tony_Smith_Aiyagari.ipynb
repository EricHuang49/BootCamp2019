{
 "cells": [
  {
   "cell_type": "markdown",
   "metadata": {},
   "source": [
    "# Homework Problem: Anthony Smith (Aiyagari Economy)\n",
    "## Jincheng(Eric) Huang"
   ]
  },
  {
   "cell_type": "markdown",
   "metadata": {},
   "source": [
    "There is a measure one of consumers and a typical consumer solves:\n",
    "$$\n",
    "v(k, \\epsilon ; \\overline{k})=\\max _{k^{\\prime}}\\left[U\\left(r(\\overline{k})k+w(\\overline{k}) \\epsilon+(1-\\delta) k-k^{\\prime}\\right)+\\beta E_{\\epsilon^{\\prime} | \\epsilon} v\\left(k^{\\prime}, \\epsilon^{\\prime} ; \\overline{k}\\right)\\right]\n",
    "$$\n",
    "    subject to $k' \\geq 0$, where $k$ is individual capital, $\\bar{k}$ is aggregate capital and $\\epsilon$ is the consumer's employment status: $\\epsilon \\in \\{\\epsilon_1, \\epsilon_2\\}$, with $\\epsilon_1 = 1$ (employed) and $\\epsilon_2 = 0$ (unemployed)."
   ]
  },
  {
   "cell_type": "markdown",
   "metadata": {},
   "source": [
    "## 1. Characterizing Equations\n",
    "The FOC of the consumer's problem is:\n",
    "$$\n",
    "-U'\\left(r(\\overline{k})+w(\\overline{k}) \\epsilon+(1-\\delta) k-k^{\\prime}\\right) + \n",
    "\\beta E_{\\epsilon' | \\epsilon} v_{k'}\\left(k',\\epsilon';\\overline{k} \\right) = 0\n",
    "$$\n",
    "The envelope condition is:\n",
    "$$\n",
    "v_k (k,\\epsilon,\\overline{k}) = U'\\left(r(\\overline{k})k+w(\\overline{k}) \\epsilon+(1-\\delta) k-k^{\\prime}\\right)\n",
    "\\left(r(\\overline{k})+1-\\delta \\right)\n",
    "$$"
   ]
  },
  {
   "cell_type": "markdown",
   "metadata": {},
   "source": [
    "Combining yields the intertemporal Euler equation:\n",
    "$$\n",
    "U'\\left(r(\\overline{k})k+w(\\overline{k}) \\epsilon+(1-\\delta) k-k^{\\prime}\\right) = \n",
    "\\beta E_{\\epsilon' | \\epsilon} U'\\left(r(\\overline{k'})k'+w(\\overline{k'}) \\epsilon'+(1-\\delta) k'-k'^{\\prime}\\right)\n",
    "\\left(r(\\overline{k'})+1-\\delta \\right)\n",
    "$$"
   ]
  },
  {
   "cell_type": "markdown",
   "metadata": {},
   "source": [
    "## 2. Solve for Policy Functions\n",
    "The pricing functions $r(\\overline{k})=\\alpha \\overline{k}^{\\alpha-1}(1-u)^{1-\\alpha}$ and $w(\\overline{k})=(1-\\alpha) \\overline{k}^{\\alpha}(1-u)^{-\\alpha}$, where aggregate labor supply is equal to $1-u$.\n",
    "\n",
    "Let a period be one year and set $u(c) = \\log(c), \\beta=0.96, \\delta=0.06$, and $\\alpha=0.36$."
   ]
  },
  {
   "cell_type": "markdown",
   "metadata": {},
   "source": [
    "Given the utility function above, the intertemporal Euler equation can be expressed as:\n",
    "$$\n",
    "1/c(\\epsilon,\\bar{k}) = \\beta \\left(r(\\overline{k'})+1-\\delta \\right) E_{\\epsilon' | \\epsilon} \\left[ 1/ c'(\\epsilon',\\bar{k'}) \\right]\n",
    "$$\n",
    "where \n",
    "$$ \n",
    "c(\\epsilon,\\bar{k}) = r(\\overline{k})k+w(\\overline{k}) \\epsilon+(1-\\delta) k-k^{\\prime}\n",
    "$$\n",
    "and\n",
    "$$\n",
    "c'(\\epsilon',\\bar{k'}) = r(\\overline{k'})k'+w(\\overline{k'}) \\epsilon'+(1-\\delta) k'-k'^{\\prime}\n",
    "$$"
   ]
  },
  {
   "cell_type": "markdown",
   "metadata": {},
   "source": [
    "Therefore\n",
    "$$\n",
    "c(\\epsilon,\\bar{k}) =  1/ \\left[\\beta \\left(r(\\overline{k'})+1-\\delta \\right) E_{\\epsilon' | \\epsilon} 1/\\left(r(\\overline{k'})k'+w(\\overline{k'}) \\epsilon'+(1-\\delta) k'-k'^{\\prime}\\right) \\right]\n",
    "$$"
   ]
  },
  {
   "cell_type": "markdown",
   "metadata": {},
   "source": [
    "I use the endogenous grid method from Carroll (2006) to calculate the policy function below."
   ]
  },
  {
   "cell_type": "code",
   "execution_count": 1,
   "metadata": {},
   "outputs": [],
   "source": [
    "import numpy as np\n",
    "from scipy.optimize import fsolve,bisect\n",
    "from scipy import interpolate\n",
    "import matplotlib.pyplot as plt\n",
    "from numba import njit"
   ]
  },
  {
   "cell_type": "code",
   "execution_count": 2,
   "metadata": {},
   "outputs": [],
   "source": [
    "@njit\n",
    "def r(α,k,u):\n",
    "    return α*k**(α-1)*(1-u)**(1-α)\n",
    "\n",
    "@njit\n",
    "def w(α,k,u):\n",
    "    return (1-α)*k**(α)*(1-u)**(-α)\n",
    "\n",
    "@njit\n",
    "def u(c):\n",
    "    return np.log(c)\n",
    "\n",
    "uprime = lambda c: 1/c\n",
    "\n",
    "# The Euler equation corresponding to the form written above\n",
    "def Euler_solve_c(functions,parameters,states,klevels):\n",
    "    gc = functions\n",
    "    α,β,δ,ur = parameters\n",
    "    iϵ,k_grid,ϵ_states,ϵ_P = states\n",
    "    kp,k_bar,kbarp = klevels\n",
    "    \n",
    "    ikp = np.where(k_grid==kp)[0]\n",
    "    nk, nϵ = len(k_grid), len(ϵ_states)\n",
    "    \n",
    "    E_Ucp = 0\n",
    "    for iϵp,ϵp in enumerate(ϵ_states):\n",
    "        E_Ucp = E_Ucp + ϵ_P[iϵ,iϵp] * 1/(gc[iϵp*nk+ikp])\n",
    "    c = 1/(β*(r(α,kbarp,ur)+1-δ)*E_Ucp)\n",
    "    return c\n",
    "\n",
    "# The Endogenous Grid Method to solve for policy and value functions\n",
    "def EGM(parameters,states):\n",
    "    α,β,δ,ur = parameters\n",
    "    k_grid,k_bar,ϵ_states,ϵ_P = states\n",
    "    \n",
    "    nk,nϵ = len(k_grid),len(ϵ_states)\n",
    "    gc = r(α,k_bar,ur)*np.ones((nϵ,1)).dot(k_grid.reshape(1,nk)).reshape(nϵ*nk,)\n",
    "    gk = np.zeros(nϵ*nk,)\n",
    "    V = np.zeros(nϵ*nk,)\n",
    "    max_diff = np.inf\n",
    "    tol = 1e-6\n",
    "    niter = 1\n",
    "    \n",
    "    print('EGM for policy function:')\n",
    "    \n",
    "    while max_diff > tol:\n",
    "        # A vector for expected continuation value. Each capital value stands for k'\n",
    "        ev = np.zeros((nϵ*nk,))\n",
    "        for ikp in range(nk):\n",
    "            idxp = np.arange(ikp,nϵ*nk+ikp,nk)\n",
    "            for iϵ in range(nϵ):            \n",
    "                idx = iϵ*nk + ikp \n",
    "                ev[idx] = ev[idx] + ϵ_P[iϵ,:].dot(V[idxp])\n",
    "        \n",
    "        c_end, k_end, V_end, V_new = np.zeros(nϵ*nk,), np.zeros(nϵ*nk,), np.zeros(nϵ*nk,), np.zeros(nϵ*nk,)\n",
    "        \n",
    "        for iϵ,ϵ_val in enumerate(ϵ_states):\n",
    "            grid_range = np.arange(iϵ*nk,iϵ*nk+nk,1)\n",
    "            k0 = -np.inf\n",
    "            for ikp,kp in enumerate(k_grid):\n",
    "                idxp = iϵ*nk + ikp \n",
    "                c = Euler_solve_c((gc),(α,β,δ,ur),(iϵ,k_grid,ϵ_states,ϵ_P),(kp,k_bar,k_bar))\n",
    "                k = (c+kp-w(α,k_bar,ur)*ϵ_val)/(r(α,k_bar,ur)+1-δ)\n",
    "                if ikp == 0:\n",
    "                    k0 = k \n",
    "                c_end[idxp] = c\n",
    "                k_end[idxp] = k\n",
    "                V_end[idxp] = u(c) + β*ev[idxp]\n",
    "            \n",
    "            k_interp_range = np.where(k_grid>k0)[0]\n",
    "            V_end_interp = interpolate.interp1d(k_end[grid_range],V_end[grid_range],fill_value='extrapolate')\n",
    "            gc_interp = interpolate.interp1d(k_end[grid_range],c_end[grid_range],fill_value='extrapolate')\n",
    "            \n",
    "            for ik,k in enumerate(k_grid):\n",
    "                idx = iϵ*nk + ik\n",
    "                \n",
    "                if k in k_grid[k_interp_range]: \n",
    "                    gc[idx] = gc_interp(k)\n",
    "                    V_new[idx] = V_end_interp(k)\n",
    "                else:\n",
    "                    gc[idx] = r(α,k_bar,ur)*k + w(α,k_bar,ur)*ϵ_val + (1-δ)*k\n",
    "                    V_new[idx] = u(gc[idx]) + β*ev[iϵ*nk]\n",
    "                    \n",
    "                gk[idx] = r(α,k_bar,ur)*k + w(α,k_bar,ur)*ϵ_val + (1-δ)*k - gc[idx]\n",
    "\n",
    "        max_diff = max(np.abs(V_new-V))\n",
    "        V = V_new.copy()\n",
    "        \n",
    "        if niter == 1 or niter % 50 == 0:\n",
    "            print('   Iteration %d: max diff = %1.7f' % (niter,max_diff))\n",
    "                  \n",
    "        niter = niter + 1\n",
    "        \n",
    "    return V,gk\n",
    "\n",
    "# The value function iteration method to solve for policy and value functions\n",
    "def VFI(α,β,δ,ur,k_grid,k_bar,ϵ_states,ϵ_P):\n",
    "    \n",
    "    \n",
    "    nk = len(k_grid)\n",
    "    nϵ = len(ϵ_states)\n",
    "    gk = np.ones((nϵ,1)).dot(k_grid.reshape(1,nk)).reshape(nϵ*nk,)\n",
    "    V = np.zeros(nϵ*nk,)\n",
    "    max_diff = np.inf\n",
    "    tol = 1e-6\n",
    "    niter = 1\n",
    "    \n",
    "    while max_diff > 1e-6:\n",
    "        # A vector for expected continuation value. Each capital value stands for k'\n",
    "        ev = np.zeros((nϵ*nk,))\n",
    "        for ikp in range(nk):\n",
    "            idxp = np.arange(ikp,nϵ*nk+ikp,nk)\n",
    "            for iϵ in range(nϵ):            \n",
    "                idx = iϵ*nk + ikp \n",
    "                ev[idx] = ev[idx] + ϵ_P[iϵ,:].dot(V[idxp])\n",
    "                \n",
    "        V_new = np.zeros(nϵ*nk,)\n",
    "        \n",
    "        for iϵ,ϵ_val in enumerate(ϵ_states):\n",
    "            for ik,k in enumerate(k_grid):\n",
    "                idx = iϵ*nk + ik\n",
    "                \n",
    "                if niter % 5 == 1 :\n",
    "                    vv = -np.inf\n",
    "                    for ikp,kp in enumerate(k_grid):\n",
    "                        idxp = iϵ*nk + ikp\n",
    "                        c = r(α,k_bar,ur)*k + w(α,k_bar,ur)*ϵ_val + (1-δ)*k - kp\n",
    "                        if c<=0:\n",
    "                            break\n",
    "                        else:\n",
    "                            value = u(c) + β*ev[idxp]\n",
    "                            if value > vv:\n",
    "                                vv = value\n",
    "                                gk[idx] = kp\n",
    "                                V_new[idx] = value\n",
    "                else:\n",
    "                    kp = gk[idx]\n",
    "                    idxp = iϵ*nk + np.where(k_grid==kp)[0]\n",
    "                    c = r(α,k_bar,ur)*k + w(α,k_bar,ur)*ϵ_val + (1-δ)*k - kp \n",
    "                    V_new[idx] = u(c) + β*ev[idxp]\n",
    "        \n",
    "        max_diff = max(np.abs(V_new-V))\n",
    "        V = V_new.copy()\n",
    "        \n",
    "        if niter == 1 or niter % 50 == 0:\n",
    "            print('   Iteration %d: max diff = %1.7f' % (niter,max_diff))\n",
    "                  \n",
    "        niter = niter + 1\n",
    "    return V,gk"
   ]
  },
  {
   "cell_type": "code",
   "execution_count": 3,
   "metadata": {},
   "outputs": [],
   "source": [
    "# Model parameters\n",
    "β = .96\n",
    "δ = .06\n",
    "α = .36\n",
    "nk = 200\n",
    "ur_ss = .1      # target unemployment rate at 10%\n",
    "ϵ_ee = .9       # probability of staying employed in the next period\n",
    "\n",
    "# Functions for calibration\n",
    "def calculate_ur_ss(ϵ_uu,ϵ_ee):\n",
    "    P = np.array([[ϵ_uu,1-ϵ_uu],[1-ϵ_ee,ϵ_ee]])\n",
    "    mu = np.array([.5,.5])\n",
    "    diff = np.inf\n",
    "    \n",
    "    while diff > 1e-8:\n",
    "        mu_new = mu.dot(P)\n",
    "        diff = max(np.abs(mu_new-mu))\n",
    "        mu = mu_new.copy()\n",
    "        \n",
    "    return mu[0]\n",
    "\n",
    "# Calibrate the probability of staying unemployed to match the unemployment rate target\n",
    "ϵ_uu = fsolve(lambda ϵ_uu,ϵ_ee: calculate_ur_ss(ϵ_uu,ϵ_ee)-ur_ss,.1,args=(ϵ_ee))\n",
    "ϵ_states = np.array([0.,1.])\n",
    "ϵ_P = np.array([[ϵ_uu,1-ϵ_uu],[1-ϵ_ee,ϵ_ee]])\n",
    "nϵ = len(ϵ_states)\n",
    "\n",
    "# Generate a grid for capital\n",
    "k_grid = np.linspace(0.001,40,nk).reshape(nk,)"
   ]
  },
  {
   "cell_type": "markdown",
   "metadata": {},
   "source": [
    "## 3. Solve for the Steady State Distribution\n",
    "Now that I have the policy function, I use the following steps to calculate the steady state:\n",
    "1. Guess on $\\overline{k}$, the aggregate capital level. Here I use the capital level from the representative-agent economy.\n",
    "2. Use the policy function and the law of motion for $\\epsilon$ to calculate the state transition matrix $P(k_i \\epsilon_j,k_m \\epsilon_n)$.\n",
    "3. Find the invariant distribution $\\mu(k,\\epsilon)$ associated with the transition matrix.\n",
    "4. Integrate each capital level on the grid based on the density function $\\mu(k,\\epsilon)$ to get $\\hat{\\overline{k}}$.\n",
    "5. If $\\hat{\\overline{k}}$ is close to $\\overline{k}$, stop. Otherwise, update $\\overline{k}$ and repeat from step 1."
   ]
  },
  {
   "cell_type": "code",
   "execution_count": 4,
   "metadata": {},
   "outputs": [],
   "source": [
    "# Calculate aggregate capital in a rep. agent economy\n",
    "f = lambda k,α,β,ur: 1/β-1+δ-r(α,k,ur)\n",
    "k_ss_rep = fsolve(f,.1,args=(α,β,ur_ss))  # steady state capital in rep agent case\n",
    "\n",
    "# Get state transition matrix based on policy function and exogenous state transition\n",
    "def gen_transition(gk,k_grid,ϵ_P):\n",
    "    nϵ = ϵ_P.shape[0]\n",
    "    nk = np.int(len(gk)/nϵ)\n",
    "    \n",
    "    P = np.zeros((nϵ*nk,nϵ*nk))\n",
    "    for iϵ in range(nϵ):\n",
    "        for ik in range(nk):\n",
    "            i = iϵ*nk + ik\n",
    "            kp = gk[i]\n",
    "            if kp > max(k_grid):\n",
    "                ikp1 = nk-1\n",
    "            else:\n",
    "                ikp1 = min(j for j,kj in enumerate(k_grid) if kj>=kp)\n",
    "            if kp < min(k_grid):\n",
    "                ikp2 = 0\n",
    "            else:\n",
    "                ikp2 = max(j for j,kj in enumerate(k_grid) if kj<=kp)\n",
    "            \n",
    "            if ikp1 != ikp2:\n",
    "                coeff1 = (k_grid[ikp1]-kp)/(k_grid[ikp1]-k_grid[ikp2])\n",
    "                coeff2 = (kp-k_grid[ikp2])/(k_grid[ikp1]-k_grid[ikp2])\n",
    "            else:\n",
    "                coeff1 = 1\n",
    "                coeff2 = 1\n",
    "                \n",
    "            kp_distribution = np.zeros((nk,1))\n",
    "            kp_distribution[ikp1] = coeff2\n",
    "            kp_distribution[ikp2] = coeff1\n",
    "            P[i,:] = ϵ_P[iϵ,:].reshape(nϵ,1).dot(kp_distribution.T).reshape(nϵ*nk,)   \n",
    "    return P\n",
    "\n",
    "# Get steady state distribution based on the state transition matrix\n",
    "def get_distribution(P):\n",
    "    n = P.shape[0]\n",
    "    μ = np.ones((n,))/n\n",
    "    max_diff = np.inf\n",
    "    while max_diff > 1e-8:\n",
    "        μ_new = μ.dot(P)\n",
    "        max_diff = max(np.abs(μ_new-μ))\n",
    "        μ = μ_new.copy() \n",
    "    return μ"
   ]
  },
  {
   "cell_type": "code",
   "execution_count": 5,
   "metadata": {},
   "outputs": [],
   "source": [
    "niter = 1\n",
    "diff = np.inf\n",
    "\n",
    "# Returns the error of calculated capital level based on the guess of k bar\n",
    "def solve_k_equilibrium(k_bar,α,β,δ,ur_ss,k_grid,ϵ_states,ϵ_P):\n",
    "    nϵ,nk = len(ϵ_states),len(k_grid)\n",
    "\n",
    "    V,gk = EGM((α,β,δ,ur_ss),(k_grid,k_bar,ϵ_states,ϵ_P))\n",
    "    P = gen_transition(gk,k_grid,ϵ_P)\n",
    "    μ = get_distribution(P)\n",
    "    \n",
    "    k_grid_long = np.ones((2,1)).dot(k_grid.reshape((1,nk))).reshape((nk*nϵ,1))\n",
    "    k_bar_hat = μ.dot(k_grid_long)\n",
    "    print('k_bar_hat: %1.4f' % k_bar_hat)\n",
    "    print('Diff: %1.5f' % (k_bar_hat-k_bar))\n",
    "    return k_bar_hat-k_bar\n"
   ]
  },
  {
   "cell_type": "code",
   "execution_count": 6,
   "metadata": {},
   "outputs": [
    {
     "name": "stdout",
     "output_type": "stream",
     "text": [
      "EGM for policy function:\n",
      "   Iteration 1: max diff = 6.8619164\n",
      "   Iteration 50: max diff = 0.1404325\n",
      "   Iteration 100: max diff = 0.0247294\n",
      "   Iteration 150: max diff = 0.0048472\n",
      "   Iteration 200: max diff = 0.0009518\n",
      "   Iteration 250: max diff = 0.0001825\n",
      "   Iteration 300: max diff = 0.0000341\n",
      "   Iteration 350: max diff = 0.0000062\n",
      "   Iteration 400: max diff = 0.0000011\n",
      "k_bar_hat: 39.8487\n",
      "Diff: 33.84874\n",
      "EGM for policy function:\n",
      "   Iteration 1: max diff = 6.8715561\n",
      "   Iteration 50: max diff = 0.1107089\n",
      "   Iteration 100: max diff = 0.0124424\n",
      "   Iteration 150: max diff = 0.0014491\n",
      "   Iteration 200: max diff = 0.0001734\n",
      "   Iteration 250: max diff = 0.0000212\n",
      "   Iteration 300: max diff = 0.0000027\n",
      "k_bar_hat: 2.6655\n",
      "Diff: -4.33452\n",
      "EGM for policy function:\n",
      "   Iteration 1: max diff = 6.8670288\n",
      "   Iteration 50: max diff = 0.1217101\n",
      "   Iteration 100: max diff = 0.0154954\n",
      "   Iteration 150: max diff = 0.0020132\n",
      "   Iteration 200: max diff = 0.0002619\n",
      "   Iteration 250: max diff = 0.0000340\n",
      "   Iteration 300: max diff = 0.0000044\n",
      "k_bar_hat: 19.4925\n",
      "Diff: 12.99253\n",
      "EGM for policy function:\n",
      "   Iteration 1: max diff = 6.8693587\n",
      "   Iteration 50: max diff = 0.1156222\n",
      "   Iteration 100: max diff = 0.0136849\n",
      "   Iteration 150: max diff = 0.0016457\n",
      "   Iteration 200: max diff = 0.0001993\n",
      "   Iteration 250: max diff = 0.0000244\n",
      "   Iteration 300: max diff = 0.0000030\n",
      "k_bar_hat: 3.4532\n",
      "Diff: -3.29681\n",
      "EGM for policy function:\n",
      "   Iteration 1: max diff = 6.8682111\n",
      "   Iteration 50: max diff = 0.1185025\n",
      "   Iteration 100: max diff = 0.0144961\n",
      "   Iteration 150: max diff = 0.0018023\n",
      "   Iteration 200: max diff = 0.0002246\n",
      "   Iteration 250: max diff = 0.0000280\n",
      "   Iteration 300: max diff = 0.0000035\n",
      "k_bar_hat: 4.6103\n",
      "Diff: -2.01471\n",
      "EGM for policy function:\n",
      "   Iteration 1: max diff = 6.8676244\n",
      "   Iteration 50: max diff = 0.1200552\n",
      "   Iteration 100: max diff = 0.0149647\n",
      "   Iteration 150: max diff = 0.0018978\n",
      "   Iteration 200: max diff = 0.0002410\n",
      "   Iteration 250: max diff = 0.0000306\n",
      "   Iteration 300: max diff = 0.0000039\n",
      "k_bar_hat: 6.3662\n",
      "Diff: -0.19632\n",
      "EGM for policy function:\n",
      "   Iteration 1: max diff = 6.8673278\n",
      "   Iteration 50: max diff = 0.1208704\n",
      "   Iteration 100: max diff = 0.0152209\n",
      "   Iteration 150: max diff = 0.0019523\n",
      "   Iteration 200: max diff = 0.0002506\n",
      "   Iteration 250: max diff = 0.0000322\n",
      "   Iteration 300: max diff = 0.0000041\n",
      "k_bar_hat: 8.9511\n",
      "Diff: 2.41980\n",
      "EGM for policy function:\n",
      "   Iteration 1: max diff = 6.8674764\n",
      "   Iteration 50: max diff = 0.1204595\n",
      "   Iteration 100: max diff = 0.0150907\n",
      "   Iteration 150: max diff = 0.0019243\n",
      "   Iteration 200: max diff = 0.0002456\n",
      "   Iteration 250: max diff = 0.0000313\n",
      "   Iteration 300: max diff = 0.0000040\n",
      "k_bar_hat: 7.3316\n",
      "Diff: 0.78470\n",
      "EGM for policy function:\n",
      "   Iteration 1: max diff = 6.8675505\n",
      "   Iteration 50: max diff = 0.1202565\n",
      "   Iteration 100: max diff = 0.0150272\n",
      "   Iteration 150: max diff = 0.0019109\n",
      "   Iteration 200: max diff = 0.0002433\n",
      "   Iteration 250: max diff = 0.0000310\n",
      "   Iteration 300: max diff = 0.0000039\n",
      "k_bar_hat: 6.7954\n",
      "Diff: 0.24068\n",
      "EGM for policy function:\n",
      "   Iteration 1: max diff = 6.8675875\n",
      "   Iteration 50: max diff = 0.1201557\n",
      "   Iteration 100: max diff = 0.0149959\n",
      "   Iteration 150: max diff = 0.0019043\n",
      "   Iteration 200: max diff = 0.0002421\n",
      "   Iteration 250: max diff = 0.0000308\n",
      "   Iteration 300: max diff = 0.0000039\n",
      "k_bar_hat: 6.5696\n",
      "Diff: 0.01099\n",
      "EGM for policy function:\n",
      "   Iteration 1: max diff = 6.8676059\n",
      "   Iteration 50: max diff = 0.1201054\n",
      "   Iteration 100: max diff = 0.0149803\n",
      "   Iteration 150: max diff = 0.0019010\n",
      "   Iteration 200: max diff = 0.0002415\n",
      "   Iteration 250: max diff = 0.0000307\n",
      "   Iteration 300: max diff = 0.0000039\n",
      "k_bar_hat: 6.4653\n",
      "Diff: -0.09524\n",
      "EGM for policy function:\n",
      "   Iteration 1: max diff = 6.8675967\n",
      "   Iteration 50: max diff = 0.1201305\n",
      "   Iteration 100: max diff = 0.0149881\n",
      "   Iteration 150: max diff = 0.0019027\n",
      "   Iteration 200: max diff = 0.0002418\n",
      "   Iteration 250: max diff = 0.0000307\n",
      "   Iteration 300: max diff = 0.0000039\n",
      "k_bar_hat: 6.5168\n",
      "Diff: -0.04280\n",
      "EGM for policy function:\n",
      "   Iteration 1: max diff = 6.8675921\n",
      "   Iteration 50: max diff = 0.1201431\n",
      "   Iteration 100: max diff = 0.0149920\n",
      "   Iteration 150: max diff = 0.0019035\n",
      "   Iteration 200: max diff = 0.0002419\n",
      "   Iteration 250: max diff = 0.0000308\n",
      "   Iteration 300: max diff = 0.0000039\n",
      "k_bar_hat: 6.5430\n",
      "Diff: -0.01608\n",
      "EGM for policy function:\n",
      "   Iteration 1: max diff = 6.8675898\n",
      "   Iteration 50: max diff = 0.1201494\n",
      "   Iteration 100: max diff = 0.0149939\n",
      "   Iteration 150: max diff = 0.0019039\n",
      "   Iteration 200: max diff = 0.0002420\n",
      "   Iteration 250: max diff = 0.0000308\n",
      "   Iteration 300: max diff = 0.0000039\n",
      "k_bar_hat: 6.5562\n",
      "Diff: -0.00259\n",
      "EGM for policy function:\n",
      "   Iteration 1: max diff = 6.8675886\n",
      "   Iteration 50: max diff = 0.1201525\n",
      "   Iteration 100: max diff = 0.0149949\n",
      "   Iteration 150: max diff = 0.0019041\n",
      "   Iteration 200: max diff = 0.0002421\n",
      "   Iteration 250: max diff = 0.0000308\n",
      "   Iteration 300: max diff = 0.0000039\n",
      "k_bar_hat: 6.5629\n",
      "Diff: 0.00419\n",
      "EGM for policy function:\n",
      "   Iteration 1: max diff = 6.8675892\n",
      "   Iteration 50: max diff = 0.1201509\n",
      "   Iteration 100: max diff = 0.0149944\n",
      "   Iteration 150: max diff = 0.0019040\n",
      "   Iteration 200: max diff = 0.0002420\n",
      "   Iteration 250: max diff = 0.0000308\n",
      "   Iteration 300: max diff = 0.0000039\n",
      "k_bar_hat: 6.5596\n",
      "Diff: 0.00080\n",
      "EGM for policy function:\n",
      "   Iteration 1: max diff = 6.8675895\n",
      "   Iteration 50: max diff = 0.1201502\n",
      "   Iteration 100: max diff = 0.0149942\n",
      "   Iteration 150: max diff = 0.0019040\n",
      "   Iteration 200: max diff = 0.0002420\n",
      "   Iteration 250: max diff = 0.0000308\n",
      "   Iteration 300: max diff = 0.0000039\n",
      "k_bar_hat: 6.5579\n",
      "Diff: -0.00090\n"
     ]
    }
   ],
   "source": [
    "# Use bisection method to solve for equilibrium capital\n",
    "k_bar = bisect(solve_k_equilibrium,6,7,args=(α,β,δ,ur_ss,k_grid,ϵ_states,ϵ_P),rtol=5e-6)"
   ]
  },
  {
   "cell_type": "code",
   "execution_count": 30,
   "metadata": {},
   "outputs": [
    {
     "name": "stdout",
     "output_type": "stream",
     "text": [
      "The steady state capital in the Aiyagari model is: 6.5588\n",
      "The steady state capital in the representative agent model is: 6.4901\n"
     ]
    }
   ],
   "source": [
    "print('The steady state capital in the Aiyagari model is: %1.4f' % k_bar)\n",
    "print('The steady state capital in the representative agent model is: %1.4f' % k_ss_rep)"
   ]
  },
  {
   "cell_type": "markdown",
   "metadata": {},
   "source": [
    "Notice that the steady state capital in the Aiyagari model is higher than the level in the representative agent model. This is due to agents' risk aversion and borrowing constraint. For people at the lower end of wealth distribution, their precautionary savings motive is strong due to their risk aversion and borrowing constraint. This leads to a higher overall level of capital in the economy."
   ]
  },
  {
   "cell_type": "code",
   "execution_count": 7,
   "metadata": {},
   "outputs": [
    {
     "name": "stdout",
     "output_type": "stream",
     "text": [
      "EGM for policy function:\n",
      "   Iteration 1: max diff = 6.8675895\n",
      "   Iteration 50: max diff = 0.1201502\n",
      "   Iteration 100: max diff = 0.0149942\n",
      "   Iteration 150: max diff = 0.0019040\n",
      "   Iteration 200: max diff = 0.0002420\n",
      "   Iteration 250: max diff = 0.0000308\n",
      "   Iteration 300: max diff = 0.0000039\n"
     ]
    }
   ],
   "source": [
    "# Recover steady state distribution\n",
    "V,gk = EGM((α,β,δ,ur_ss),(k_grid,k_bar,ϵ_states,ϵ_P))\n",
    "P = gen_transition(gk,k_grid,ϵ_P)\n",
    "μ = get_distribution(P)"
   ]
  },
  {
   "cell_type": "markdown",
   "metadata": {},
   "source": [
    "Below we plot the steady state distribution of capital for each value of $\\epsilon$. Note that the ergodic distribution is not centered around the steady state capital, because the distribution is more skewed to the left."
   ]
  },
  {
   "cell_type": "code",
   "execution_count": 28,
   "metadata": {},
   "outputs": [
    {
     "data": {
      "image/png": "[encoded data removed]",
      "text/plain": [
       "<Figure size 432x288 with 1 Axes>"
      ]
     },
     "metadata": {
      "needs_background": "light"
     },
     "output_type": "display_data"
    }
   ],
   "source": [
    "plt.plot(k_grid,μ[:nk],label='ϵ=0')\n",
    "plt.plot(k_grid,μ[nk:],label='ϵ=1')\n",
    "plt.bar(k_bar,.03,label=r'$k_{ss}$')\n",
    "plt.ylim([0,0.03])\n",
    "plt.xlabel('k')\n",
    "plt.ylabel('Probability')\n",
    "plt.legend()\n",
    "plt.show()"
   ]
  },
  {
   "cell_type": "markdown",
   "metadata": {},
   "source": [
    "Here we plot the capital policy functions for each $\\epsilon$. We can see that for unemployed agents with low capital, they tend to save less capital due to the borrowing constraint."
   ]
  },
  {
   "cell_type": "code",
   "execution_count": 9,
   "metadata": {},
   "outputs": [
    {
     "data": {
      "image/png": "[encoded data removed]",
      "text/plain": [
       "<Figure size 432x288 with 1 Axes>"
      ]
     },
     "metadata": {
      "needs_background": "light"
     },
     "output_type": "display_data"
    }
   ],
   "source": [
    "plt.plot(k_grid[:100],gk[:100],label='ϵ=0')\n",
    "plt.plot(k_grid[:100],gk[nk:nk+100],label='ϵ=1')\n",
    "plt.plot(k_grid[:100],k_grid[:100],'--',label='45 degree')\n",
    "plt.xlabel('k')\n",
    "plt.ylabel('k prime')\n",
    "plt.legend()\n",
    "plt.show()"
   ]
  },
  {
   "cell_type": "code",
   "execution_count": 10,
   "metadata": {},
   "outputs": [
    {
     "name": "stdout",
     "output_type": "stream",
     "text": [
      "Coefficient of variation for capital is: 1.7916\n"
     ]
    }
   ],
   "source": [
    "k_grid_long = np.ones((nϵ,1)).dot(k_grid.reshape((1,nk))).reshape((nk*nϵ,1))\n",
    "k_std = μ.dot(k_grid_long**2) - (μ.dot(k_grid_long))**2\n",
    "coeff_of_var = k_std / k_bar\n",
    "print('Coefficient of variation for capital is: %1.4f' % coeff_of_var)"
   ]
  }
 ],
 "metadata": {
  "kernelspec": {
   "display_name": "Python 3",
   "language": "python",
   "name": "python3"
  },
  "language_info": {
   "codemirror_mode": {
    "name": "ipython",
    "version": 3
   },
   "file_extension": ".py",
   "mimetype": "text/x-python",
   "name": "python",
   "nbconvert_exporter": "python",
   "pygments_lexer": "ipython3",
   "version": "3.7.3"
  }
 },
 "nbformat": 4,
 "nbformat_minor": 2
}
