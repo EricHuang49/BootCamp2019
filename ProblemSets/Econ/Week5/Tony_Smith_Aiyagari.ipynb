{
 "cells": [
  {
   "cell_type": "markdown",
   "metadata": {},
   "source": [
    "# Homework Problem: Anthony Smith (Aiyagari Economy)\n",
    "## Jincheng(Eric) Huang"
   ]
  },
  {
   "cell_type": "markdown",
   "metadata": {},
   "source": [
    "There is a measure one of consumers and a typical consumer solves:\n",
    "$$\n",
    "v(k, \\epsilon ; \\overline{k})=\\max _{k^{\\prime}}\\left[U\\left(r(\\overline{k})k+w(\\overline{k}) \\epsilon+(1-\\delta) k-k^{\\prime}\\right)+\\beta E_{\\epsilon^{\\prime} | \\epsilon} v\\left(k^{\\prime}, \\epsilon^{\\prime} ; \\overline{k}\\right)\\right]\n",
    "$$\n",
    "    subject to $k' \\geq 0$, where $k$ is individual capital, $\\bar{k}$ is aggregate capital and $\\epsilon$ is the consumer's employment status: $\\epsilon \\in \\{\\epsilon_1, \\epsilon_2\\}$, with $\\epsilon_1 = 1$ (employed) and $\\epsilon_2 = 0$ (unemployed)."
   ]
  },
  {
   "cell_type": "markdown",
   "metadata": {},
   "source": [
    "## 1. Characterizing Equations\n",
    "The FOC of the consumer's problem is:\n",
    "$$\n",
    "-U'\\left(r(\\overline{k})+w(\\overline{k}) \\epsilon+(1-\\delta) k-k^{\\prime}\\right) + \n",
    "\\beta E_{\\epsilon' | \\epsilon} v_{k'}\\left(k',\\epsilon';\\overline{k} \\right) = 0\n",
    "$$\n",
    "The envelope condition is:\n",
    "$$\n",
    "v_k (k,\\epsilon,\\overline{k}) = U'\\left(r(\\overline{k})k+w(\\overline{k}) \\epsilon+(1-\\delta) k-k^{\\prime}\\right)\n",
    "\\left(r(\\overline{k})+1-\\delta \\right)\n",
    "$$"
   ]
  },
  {
   "cell_type": "markdown",
   "metadata": {},
   "source": [
    "Combining yields the intertemporal Euler equation:\n",
    "$$\n",
    "U'\\left(r(\\overline{k})k+w(\\overline{k}) \\epsilon+(1-\\delta) k-k^{\\prime}\\right) = \n",
    "\\beta E_{\\epsilon' | \\epsilon} U'\\left(r(\\overline{k'})k'+w(\\overline{k'}) \\epsilon'+(1-\\delta) k'-k'^{\\prime}\\right)\n",
    "\\left(r(\\overline{k'})+1-\\delta \\right)\n",
    "$$"
   ]
  },
  {
   "cell_type": "markdown",
   "metadata": {},
   "source": [
    "## 2. Solve for Policy Functions\n",
    "The pricing functions $r(\\overline{k})=\\alpha \\overline{k}^{\\alpha-1}(1-u)^{1-\\alpha}$ and $w(\\overline{k})=(1-\\alpha) \\overline{k}^{\\alpha}(1-u)^{-\\alpha}$, where aggregate labor supply is equal to $1-u$.\n",
    "\n",
    "Let a period be one year and set $u(c) = \\log(c), \\beta=0.96, \\delta=0.06$, and $\\alpha=0.36$."
   ]
  },
  {
   "cell_type": "markdown",
   "metadata": {},
   "source": [
    "Given the utility function above, the intertemporal Euler equation can be expressed as:\n",
    "$$\n",
    "1/\\left(r(\\overline{k})k+w(\\overline{k}) \\epsilon+(1-\\delta) k-k^{\\prime}\\right) = \\beta \\left(r(\\overline{k'})+1-\\delta \\right) E_{\\epsilon' | \\epsilon} \\left[ 1/\\left(r(\\overline{k'})k'+w(\\overline{k'}) \\epsilon'+(1-\\delta) k'-k'^{\\prime}\\right) \\right]\n",
    "$$"
   ]
  },
  {
   "cell_type": "markdown",
   "metadata": {},
   "source": [
    "Therefore\n",
    "$$\n",
    "k = 1/ \\left(r(\\overline{k}) + 1-\\delta \\right) \\left\\{ 1/ \\left[\\beta \\left(r(\\overline{k'})+1-\\delta \\right) E_{\\epsilon' | \\epsilon} 1/\\left(r(\\overline{k'})k'+w(\\overline{k'}) \\epsilon'+(1-\\delta) k'-k'^{\\prime}\\right) \\right]  - w(\\overline{k})\\epsilon + k' \\right\\}\n",
    "$$"
   ]
  },
  {
   "cell_type": "markdown",
   "metadata": {},
   "source": [
    "I use the endogenous grid method from Carroll (2006) to calculate the policy function below."
   ]
  },
  {
   "cell_type": "code",
   "execution_count": 1,
   "metadata": {},
   "outputs": [],
   "source": [
    "import numpy as np\n",
    "from scipy.optimize import fsolve\n",
    "from scipy import interpolate\n",
    "import matplotlib.pyplot as plt"
   ]
  },
  {
   "cell_type": "code",
   "execution_count": 169,
   "metadata": {},
   "outputs": [],
   "source": [
    "r = lambda α,k,u: α*k**(α-1)*(1-u)**(1-α)\n",
    "w = lambda α,k,u: (1-α)*k**(α)*(1-u)**(-α)\n",
    "u = lambda c: np.log(c)\n",
    "uprime = lambda c: 1/c\n",
    "\n",
    "def Euler_solve_k(functions,parameters,states,klevels):\n",
    "    r,w,gk = functions\n",
    "    α,β,δ,ur = parameters\n",
    "    iϵ,k_grid,ϵ_states,ϵ_P = states\n",
    "    kp,k_bar,kbarp = klevels\n",
    "    \n",
    "    ikp = np.where(k_grid==kp)[0]\n",
    "    nk, nϵ = len(k_grid), len(ϵ_states)\n",
    "    \n",
    "    E_Vk = 0\n",
    "    for iϵp,ϵp in enumerate(ϵ_states):\n",
    "        E_Vk = E_Vk + ϵ_P[iϵ,iϵp] * 1/(r(α,kbarp,ur)*kbarp + w(α,kbarp,ur)*ϵp +(1-δ)*kp - gk[iϵp*nk+ikp])\n",
    "    k = 1/(r(α,kbarp,ur)+1-δ) * (1/(β*(r(α,kbarp,ur)+1-δ)*E_Vk) -w(α,kbarp,ur)*ϵ_states[iϵ] + kp)\n",
    "    return k\n",
    "\n",
    "def EGM(functions,parameters,states):\n",
    "    r,w,u = functions\n",
    "    α,β,δ,ur = parameters\n",
    "    k_grid,k_bar,ϵ_states,ϵ_P = states\n",
    "    \n",
    "    nk,nϵ = len(k_grid),len(ϵ_states)\n",
    "    gk = np.ones((nϵ,1)).dot(k_grid.reshape(1,nk)).reshape(nϵ*nk,)\n",
    "    V = np.zeros(nϵ*nk,)\n",
    "    max_diff = np.inf\n",
    "    tol = 1e-6\n",
    "    niter = 1\n",
    "    \n",
    "    print('EGM for policy function:')\n",
    "    \n",
    "    while max_diff > tol:\n",
    "        # A vector for expected continuation value. Each capital value stands for k'\n",
    "        ev = np.zeros((nϵ*nk,))\n",
    "        for ikp in range(nk):\n",
    "            idxp = np.arange(ikp,nϵ*nk+ikp,nk)\n",
    "            for iϵ in range(nϵ):            \n",
    "                idx = iϵ*nk + ikp \n",
    "                ev[idx] = ev[idx] + ϵ_P[iϵ,:].dot(V[idxp])\n",
    "        \n",
    "        k_end, V_end, V_new, gk = np.zeros(nϵ*nk,), np.zeros(nϵ*nk,), np.zeros(nϵ*nk,), np.zeros(nϵ*nk,)\n",
    "        \n",
    "        for iϵ,ϵ_val in enumerate(ϵ_states):\n",
    "            grid_range = np.arange(iϵ*nk,iϵ*nk+nk,1)\n",
    "            \n",
    "            for ikp,kp in enumerate(k_grid):\n",
    "                idxp = iϵ*nk + ikp \n",
    "                k = Euler_solve_k((r,w,gk),(α,β,δ,ur),(iϵ,k_grid,ϵ_states,ϵ_P),(kp,k_bar,k_bar))\n",
    "                k_end[idxp] = k\n",
    "                c = r(α,k_bar,ur)*k + w(α,k_bar,ur)*ϵ_val + (1-δ)*k - kp\n",
    "                V_end[idxp] = u(c) + β*ev[idxp]\n",
    "                \n",
    "            V_end_interp = interpolate.interp1d(k_end[grid_range],V_end[grid_range],fill_value='extrapolate')\n",
    "            gk_interp = interpolate.interp1d(k_end[grid_range],k_grid,fill_value='extrapolate')\n",
    "            \n",
    "            for ik,k in enumerate(k_grid):\n",
    "                idx = iϵ*nk + ik\n",
    "                V_new[idx] = V_end_interp(k)\n",
    "                gk[idx] = max(gk_interp(k),0)\n",
    "        \n",
    "        max_diff = max(np.abs(V_new-V))\n",
    "        V = V_new.copy()\n",
    "        \n",
    "        if niter == 1 or niter % 50 == 0:\n",
    "            print('   Iteration %d: max diff = %1.7f' % (niter,max_diff))\n",
    "                  \n",
    "        niter = niter + 1\n",
    "    return V,gk\n",
    "\n",
    "def VFI(functions,parameters,states):\n",
    "    r,w,u = functions\n",
    "    α,β,δ,ur = parameters\n",
    "    k_grid,k_bar,ϵ_states,ϵ_P = states\n",
    "    \n",
    "    nk,nϵ = len(k_grid),len(ϵ_states)\n",
    "    gk = np.ones((nϵ,1)).dot(k_grid.reshape(1,nk)).reshape(nϵ*nk,)\n",
    "    V = np.zeros(nϵ*nk,)\n",
    "    max_diff = np.inf\n",
    "    tol = 1e-6\n",
    "    niter = 1\n",
    "    \n",
    "    while max_diff > 1e-6:\n",
    "        # A vector for expected continuation value. Each capital value stands for k'\n",
    "        ev = np.zeros((nϵ*nk,))\n",
    "        for ikp in range(nk):\n",
    "            idxp = np.arange(ikp,nϵ*nk+ikp,nk)\n",
    "            for iϵ in range(nϵ):            \n",
    "                idx = iϵ*nk + ikp \n",
    "                ev[idx] = ev[idx] + ϵ_P[iϵ,:].dot(V[idxp])\n",
    "                \n",
    "        V_new = np.zeros(nϵ*nk,)\n",
    "        \n",
    "        for iϵ,ϵ_val in enumerate(ϵ_states):\n",
    "            for ik,k in enumerate(k_grid):\n",
    "                idx = iϵ*nk + ik\n",
    "                \n",
    "                if niter % 5 == 1 :\n",
    "                    vv = -np.inf\n",
    "                    for ikp,kp in enumerate(k_grid):\n",
    "                        idxp = iϵ*nk + ikp\n",
    "                        c = r(α,k_bar,ur)*k + w(α,k_bar,ur)*ϵ_val + (1-δ)*k - kp\n",
    "                        if c<=0:\n",
    "                            break\n",
    "                        else:\n",
    "                            value = u(c) + β*ev[idxp]\n",
    "                            if value > vv:\n",
    "                                vv = value\n",
    "                                gk[idx] = kp\n",
    "                                V_new[idx] = value\n",
    "                else:\n",
    "                    kp = gk[idx]\n",
    "                    idxp = iϵ*nk + np.where(k_grid==kp)[0]\n",
    "                    c = r(α,k_bar,ur)*k + w(α,k_bar,ur)*ϵ_val + (1-δ)*k - kp \n",
    "                    V_new[idx] = u(c) + β*ev[idxp]\n",
    "        \n",
    "        max_diff = max(np.abs(V_new-V))\n",
    "        V = V_new.copy()\n",
    "        \n",
    "        if niter == 1 or niter % 50 == 0:\n",
    "            print('   Iteration %d: max diff = %1.7f' % (niter,max_diff))\n",
    "                  \n",
    "        niter = niter + 1\n",
    "    return V,gk"
   ]
  },
  {
   "cell_type": "code",
   "execution_count": 174,
   "metadata": {},
   "outputs": [],
   "source": [
    "# Model parameters\n",
    "β = .96\n",
    "δ = .06\n",
    "α = .36\n",
    "nk = 150\n",
    "ur_ss = .1      # target unemployment rate at 10%\n",
    "ϵ_ee = .9       # probability of staying employed in the next period\n",
    "\n",
    "# Functions for calibration\n",
    "def calculate_ur_ss(ϵ_uu,ϵ_ee):\n",
    "    P = np.array([[ϵ_uu,1-ϵ_uu],[1-ϵ_ee,ϵ_ee]])\n",
    "    mu = np.array([.5,.5])\n",
    "    diff = np.inf\n",
    "    \n",
    "    while diff > 1e-8:\n",
    "        mu_new = mu.dot(P)\n",
    "        diff = max(np.abs(mu_new-mu))\n",
    "        mu = mu_new.copy()\n",
    "        \n",
    "    return mu[0]\n",
    "\n",
    "# Calibrate the probability of staying unemployed to match the unemployment rate target\n",
    "ϵ_uu = fsolve(lambda ϵ_uu,ϵ_ee: calculate_ur_ss(ϵ_uu,ϵ_ee)-ur_ss,.1,args=(ϵ_ee))\n",
    "ϵ_states = np.array([0.,1.])\n",
    "ϵ_P = np.array([[ϵ_uu,1-ϵ_uu],[1-ϵ_ee,ϵ_ee]])\n",
    "nϵ = len(ϵ_states)\n",
    "\n",
    "# Generate a grid for capital\n",
    "k_grid = np.linspace(0.001,40,nk).reshape(nk,)"
   ]
  },
  {
   "cell_type": "code",
   "execution_count": 173,
   "metadata": {},
   "outputs": [
    {
     "name": "stdout",
     "output_type": "stream",
     "text": [
      "   Iteration 1: max diff = 10.0858091\n",
      "   Iteration 50: max diff = 0.1130942\n",
      "   Iteration 100: max diff = 0.0130869\n",
      "   Iteration 150: max diff = 0.0016512\n",
      "   Iteration 200: max diff = 0.0002136\n",
      "   Iteration 250: max diff = 0.0000277\n",
      "   Iteration 300: max diff = 0.0000036\n"
     ]
    }
   ],
   "source": [
    "V,gk = VFI((r,w,u),(α,β,δ,ur_ss),(k_grid,k_ss_rep,ϵ_states,ϵ_P))"
   ]
  },
  {
   "cell_type": "code",
   "execution_count": 175,
   "metadata": {},
   "outputs": [
    {
     "data": {
      "text/plain": [
       "[<matplotlib.lines.Line2D at 0x13240e0518>]"
      ]
     },
     "execution_count": 175,
     "metadata": {},
     "output_type": "execute_result"
    },
    {
     "data": {
      "image/png": "[encoded data removed]",
      "text/plain": [
       "<Figure size 432x288 with 1 Axes>"
      ]
     },
     "metadata": {
      "needs_background": "light"
     },
     "output_type": "display_data"
    }
   ],
   "source": [
    "plt.plot(gk)"
   ]
  },
  {
   "cell_type": "markdown",
   "metadata": {},
   "source": [
    "## 3. Solve for the Steady State Distribution\n",
    "Now that I have the policy function, I use the following steps to calculate the steady state:\n",
    "1. Guess on $\\overline{k}$, the aggregate capital level. Here I use the capital level from the representative-agent economy.\n",
    "2. Use the policy function and the law of motion for $\\epsilon$ to calculate the state transition matrix $P(k_i \\epsilon_j,k_m \\epsilon_n)$.\n",
    "3. Find the invariant distribution $\\mu(k,\\epsilon)$ associated with the transition matrix.\n",
    "4. Integrate each capital level on the grid based on the density function $\\mu(k,\\epsilon)$ to get $\\hat{\\overline{k}}$.\n",
    "5. If $\\hat{\\overline{k}}$ is close to $\\overline{k}$, stop. Otherwise, update $\\overline{k}$ and repeat from step 1."
   ]
  },
  {
   "cell_type": "code",
   "execution_count": 180,
   "metadata": {},
   "outputs": [],
   "source": [
    "# Calculate aggregate capital in a rep. agent economy\n",
    "f = lambda k,α,β,ur: 1/β-1+δ-r(α,k,ur)\n",
    "k_ss_rep = fsolve(f,.1,args=(α,β,ur_ss))  # steady state capital in rep agent case\n",
    "\n",
    "def gen_transition(gk,k_grid,ϵ_P):\n",
    "    nϵ = ϵ_P.shape[0]\n",
    "    nk = np.int(len(gk)/nϵ)\n",
    "    \n",
    "    P = np.zeros((nϵ*nk,nϵ*nk))\n",
    "    for iϵ in range(nϵ):\n",
    "        for ik in range(nk):\n",
    "            i = iϵ*nk + ik\n",
    "            kp = gk[i]\n",
    "            ikp1 = min(j for j,kj in enumerate(k_grid) if kj>=kp)\n",
    "            ikp2 = max(j for j,kj in enumerate(k_grid) if kj<=kp)\n",
    "            \n",
    "            if ikp1 != ikp2:\n",
    "                coeff1 = (k_grid[ikp1]-kp)/(k_grid[ikp1]-k_grid[ikp2])\n",
    "                coeff2 = (kp-k_grid[ikp2])/(k_grid[ikp1]-k_grid[ikp2])\n",
    "            else:\n",
    "                coeff1 = 1\n",
    "                coeff2 = 1\n",
    "                \n",
    "            kp_distribution = np.zeros((nk,1))\n",
    "            kp_distribution[ikp1] = coeff2\n",
    "            kp_distribution[ikp2] = coeff1\n",
    "            P[i,:] = ϵ_P[iϵ,:].reshape(nϵ,1).dot(kp_distribution.T).reshape(nϵ*nk,)   \n",
    "    return P"
   ]
  },
  {
   "cell_type": "code",
   "execution_count": 182,
   "metadata": {},
   "outputs": [
    {
     "name": "stdout",
     "output_type": "stream",
     "text": [
      "   Iteration 1: max diff = 10.0858091\n",
      "   Iteration 50: max diff = 0.1139351\n",
      "   Iteration 100: max diff = 0.0130189\n",
      "   Iteration 150: max diff = 0.0015478\n",
      "   Iteration 200: max diff = 0.0001828\n",
      "   Iteration 250: max diff = 0.0000211\n",
      "   Iteration 300: max diff = 0.0000024\n",
      "Aggregate k iteration 1: diff = 9.08102\n",
      "[15.57108204]\n",
      "   Iteration 1: max diff = 10.5265246\n",
      "   Iteration 50: max diff = 0.0757213\n",
      "   Iteration 100: max diff = 0.0072554\n",
      "   Iteration 150: max diff = 0.0009273\n",
      "   Iteration 200: max diff = 0.0001204\n",
      "   Iteration 250: max diff = 0.0000156\n",
      "   Iteration 300: max diff = 0.0000020\n",
      "Aggregate k iteration 2: diff = 6.71838\n",
      "[1.58787943]\n",
      "   Iteration 1: max diff = 10.1993327\n",
      "   Iteration 50: max diff = 0.0995992\n",
      "   Iteration 100: max diff = 0.0088941\n",
      "   Iteration 150: max diff = 0.0010279\n",
      "   Iteration 200: max diff = 0.0001246\n",
      "   Iteration 250: max diff = 0.0000147\n",
      "   Iteration 300: max diff = 0.0000018\n",
      "Aggregate k iteration 3: diff = 4.66540\n",
      "[2.29718468]\n",
      "   Iteration 1: max diff = 9.9745412\n",
      "   Iteration 50: max diff = 0.1314363\n",
      "   Iteration 100: max diff = 0.0167178\n",
      "   Iteration 150: max diff = 0.0021714\n",
      "   Iteration 200: max diff = 0.0002820\n",
      "   Iteration 250: max diff = 0.0000366\n",
      "   Iteration 300: max diff = 0.0000048\n",
      "Aggregate k iteration 4: diff = 33.49910\n",
      "[39.52860894]\n",
      "   Iteration 1: max diff = 12.0137089\n",
      "   Iteration 50: max diff = 0.0772892\n",
      "   Iteration 100: max diff = 0.0097580\n",
      "   Iteration 150: max diff = 0.0012674\n",
      "   Iteration 200: max diff = 0.0001646\n",
      "   Iteration 250: max diff = 0.0000214\n",
      "   Iteration 300: max diff = 0.0000028\n",
      "Aggregate k iteration 5: diff = 11.14145\n",
      "[1.58787932]\n",
      "   Iteration 1: max diff = 11.1263942\n",
      "   Iteration 50: max diff = 0.0713002\n",
      "   Iteration 100: max diff = 0.0085286\n",
      "   Iteration 150: max diff = 0.0011077\n",
      "   Iteration 200: max diff = 0.0001439\n",
      "   Iteration 250: max diff = 0.0000187\n",
      "   Iteration 300: max diff = 0.0000024\n",
      "Aggregate k iteration 6: diff = 8.91316\n",
      "[1.58787936]\n",
      "   Iteration 1: max diff = 10.6305535\n",
      "   Iteration 50: max diff = 0.0753030\n",
      "   Iteration 100: max diff = 0.0075480\n",
      "   Iteration 150: max diff = 0.0009653\n",
      "   Iteration 200: max diff = 0.0001254\n",
      "   Iteration 250: max diff = 0.0000163\n",
      "   Iteration 300: max diff = 0.0000021\n",
      "Aggregate k iteration 7: diff = 7.13053\n",
      "[1.58787931]\n",
      "   Iteration 1: max diff = 10.2786398\n",
      "   Iteration 50: max diff = 0.0899345\n",
      "   Iteration 100: max diff = 0.0082218\n",
      "   Iteration 150: max diff = 0.0008770\n",
      "   Iteration 200: max diff = 0.0001101\n",
      "   Iteration 250: max diff = 0.0000143\n",
      "   Iteration 300: max diff = 0.0000019\n",
      "Aggregate k iteration 8: diff = 5.23223\n",
      "[2.06007136]\n",
      "   Iteration 1: max diff = 10.0269422\n",
      "   Iteration 50: max diff = 0.1223905\n",
      "   Iteration 100: max diff = 0.0151520\n",
      "   Iteration 150: max diff = 0.0019673\n",
      "   Iteration 200: max diff = 0.0002555\n",
      "   Iteration 250: max diff = 0.0000332\n",
      "   Iteration 300: max diff = 0.0000043\n",
      "Aggregate k iteration 9: diff = 33.21724\n",
      "[39.46309908]\n",
      "   Iteration 1: max diff = 12.1044857\n",
      "   Iteration 50: max diff = 0.0780118\n",
      "   Iteration 100: max diff = 0.0098538\n",
      "   Iteration 150: max diff = 0.0012798\n",
      "   Iteration 200: max diff = 0.0001662\n",
      "   Iteration 250: max diff = 0.0000216\n",
      "   Iteration 300: max diff = 0.0000028\n",
      "Aggregate k iteration 10: diff = 11.30142\n",
      "[1.58787928]\n",
      "   Iteration 1: max diff = 11.1663882\n",
      "   Iteration 50: max diff = 0.0712310\n",
      "   Iteration 100: max diff = 0.0086042\n",
      "   Iteration 150: max diff = 0.0011175\n"
     ]
    },
    {
     "ename": "KeyboardInterrupt",
     "evalue": "",
     "output_type": "error",
     "traceback": [
      "\u001b[0;31m---------------------------------------------------------------------------\u001b[0m",
      "\u001b[0;31mKeyboardInterrupt\u001b[0m                         Traceback (most recent call last)",
      "\u001b[0;32m<ipython-input-182-7d9dbdb41916>\u001b[0m in \u001b[0;36m<module>\u001b[0;34m\u001b[0m\n\u001b[1;32m      3\u001b[0m \u001b[0mk_bar\u001b[0m \u001b[0;34m=\u001b[0m \u001b[0mk_ss_rep\u001b[0m\u001b[0;34m\u001b[0m\u001b[0;34m\u001b[0m\u001b[0m\n\u001b[1;32m      4\u001b[0m \u001b[0;32mwhile\u001b[0m \u001b[0mdiff\u001b[0m \u001b[0;34m>\u001b[0m \u001b[0;36m1e-6\u001b[0m\u001b[0;34m:\u001b[0m\u001b[0;34m\u001b[0m\u001b[0;34m\u001b[0m\u001b[0m\n\u001b[0;32m----> 5\u001b[0;31m     \u001b[0mV\u001b[0m\u001b[0;34m,\u001b[0m\u001b[0mgk\u001b[0m \u001b[0;34m=\u001b[0m \u001b[0mVFI\u001b[0m\u001b[0;34m(\u001b[0m\u001b[0;34m(\u001b[0m\u001b[0mr\u001b[0m\u001b[0;34m,\u001b[0m\u001b[0mw\u001b[0m\u001b[0;34m,\u001b[0m\u001b[0mu\u001b[0m\u001b[0;34m)\u001b[0m\u001b[0;34m,\u001b[0m\u001b[0;34m(\u001b[0m\u001b[0mα\u001b[0m\u001b[0;34m,\u001b[0m\u001b[0mβ\u001b[0m\u001b[0;34m,\u001b[0m\u001b[0mδ\u001b[0m\u001b[0;34m,\u001b[0m\u001b[0mur_ss\u001b[0m\u001b[0;34m)\u001b[0m\u001b[0;34m,\u001b[0m\u001b[0;34m(\u001b[0m\u001b[0mk_grid\u001b[0m\u001b[0;34m,\u001b[0m\u001b[0mk_bar\u001b[0m\u001b[0;34m,\u001b[0m\u001b[0mϵ_states\u001b[0m\u001b[0;34m,\u001b[0m\u001b[0mϵ_P\u001b[0m\u001b[0;34m)\u001b[0m\u001b[0;34m)\u001b[0m\u001b[0;34m\u001b[0m\u001b[0;34m\u001b[0m\u001b[0m\n\u001b[0m\u001b[1;32m      6\u001b[0m     \u001b[0mP\u001b[0m \u001b[0;34m=\u001b[0m \u001b[0mgen_transition\u001b[0m\u001b[0;34m(\u001b[0m\u001b[0mgk\u001b[0m\u001b[0;34m,\u001b[0m\u001b[0mk_grid\u001b[0m\u001b[0;34m,\u001b[0m\u001b[0mϵ_P\u001b[0m\u001b[0;34m)\u001b[0m\u001b[0;34m\u001b[0m\u001b[0;34m\u001b[0m\u001b[0m\n\u001b[1;32m      7\u001b[0m     \u001b[0mμ\u001b[0m \u001b[0;34m=\u001b[0m \u001b[0mnp\u001b[0m\u001b[0;34m.\u001b[0m\u001b[0mones\u001b[0m\u001b[0;34m(\u001b[0m\u001b[0;34m(\u001b[0m\u001b[0mnϵ\u001b[0m\u001b[0;34m*\u001b[0m\u001b[0mnk\u001b[0m\u001b[0;34m,\u001b[0m\u001b[0;34m)\u001b[0m\u001b[0;34m)\u001b[0m\u001b[0;34m/\u001b[0m\u001b[0;34m(\u001b[0m\u001b[0mnϵ\u001b[0m\u001b[0;34m*\u001b[0m\u001b[0mnk\u001b[0m\u001b[0;34m)\u001b[0m\u001b[0;34m\u001b[0m\u001b[0;34m\u001b[0m\u001b[0m\n",
      "\u001b[0;32m<ipython-input-169-b2d71564b43c>\u001b[0m in \u001b[0;36mVFI\u001b[0;34m(functions, parameters, states)\u001b[0m\n\u001b[1;32m    107\u001b[0m                         \u001b[0;32melse\u001b[0m\u001b[0;34m:\u001b[0m\u001b[0;34m\u001b[0m\u001b[0;34m\u001b[0m\u001b[0m\n\u001b[1;32m    108\u001b[0m                             \u001b[0mvalue\u001b[0m \u001b[0;34m=\u001b[0m \u001b[0mu\u001b[0m\u001b[0;34m(\u001b[0m\u001b[0mc\u001b[0m\u001b[0;34m)\u001b[0m \u001b[0;34m+\u001b[0m \u001b[0mβ\u001b[0m\u001b[0;34m*\u001b[0m\u001b[0mev\u001b[0m\u001b[0;34m[\u001b[0m\u001b[0midxp\u001b[0m\u001b[0;34m]\u001b[0m\u001b[0;34m\u001b[0m\u001b[0;34m\u001b[0m\u001b[0m\n\u001b[0;32m--> 109\u001b[0;31m                             \u001b[0;32mif\u001b[0m \u001b[0mvalue\u001b[0m \u001b[0;34m>\u001b[0m \u001b[0mvv\u001b[0m\u001b[0;34m:\u001b[0m\u001b[0;34m\u001b[0m\u001b[0;34m\u001b[0m\u001b[0m\n\u001b[0m\u001b[1;32m    110\u001b[0m                                 \u001b[0mvv\u001b[0m \u001b[0;34m=\u001b[0m \u001b[0mvalue\u001b[0m\u001b[0;34m\u001b[0m\u001b[0;34m\u001b[0m\u001b[0m\n\u001b[1;32m    111\u001b[0m                                 \u001b[0mgk\u001b[0m\u001b[0;34m[\u001b[0m\u001b[0midx\u001b[0m\u001b[0;34m]\u001b[0m \u001b[0;34m=\u001b[0m \u001b[0mkp\u001b[0m\u001b[0;34m\u001b[0m\u001b[0;34m\u001b[0m\u001b[0m\n",
      "\u001b[0;31mKeyboardInterrupt\u001b[0m: "
     ]
    }
   ],
   "source": [
    "niter = 1\n",
    "diff = np.inf\n",
    "k_bar = k_ss_rep\n",
    "while diff > 1e-6:\n",
    "    V,gk = VFI((r,w,u),(α,β,δ,ur_ss),(k_grid,k_bar,ϵ_states,ϵ_P))\n",
    "    P = gen_transition(gk,k_grid,ϵ_P)\n",
    "    μ = np.ones((nϵ*nk,))/(nϵ*nk)\n",
    "    max_diff = np.inf\n",
    "    while max_diff > 1e-8:\n",
    "        μ_new = μ.dot(P)\n",
    "        max_diff = max(np.abs(μ_new-μ))\n",
    "        μ = μ_new.copy()\n",
    "    \n",
    "    k_grid_long = np.ones((2,1)).dot(k_grid.reshape((1,nk))).reshape((nk*nϵ,1))\n",
    "    k_bar_hat = μ.dot(k_grid_long)\n",
    "    diff = np.abs(k_bar_hat - k_bar)\n",
    "    print('Aggregate k iteration %d: diff = %1.5f' % (niter,diff))\n",
    "    print(k_bar_hat)\n",
    "    niter = niter + 1\n",
    "    k_bar = 0.8*k_bar + 0.2*k_bar_hat"
   ]
  },
  {
   "cell_type": "code",
   "execution_count": null,
   "metadata": {},
   "outputs": [],
   "source": []
  }
 ],
 "metadata": {
  "kernelspec": {
   "display_name": "Python 3",
   "language": "python",
   "name": "python3"
  },
  "language_info": {
   "codemirror_mode": {
    "name": "ipython",
    "version": 3
   },
   "file_extension": ".py",
   "mimetype": "text/x-python",
   "name": "python",
   "nbconvert_exporter": "python",
   "pygments_lexer": "ipython3",
   "version": "3.7.3"
  }
 },
 "nbformat": 4,
 "nbformat_minor": 2
}
