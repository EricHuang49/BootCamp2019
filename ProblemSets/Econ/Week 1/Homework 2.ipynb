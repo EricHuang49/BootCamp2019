{
 "cells": [
  {
   "cell_type": "markdown",
   "metadata": {},
   "source": [
    "# Homework 2\n",
    "## Jincheng(Eric) Huang"
   ]
  },
  {
   "cell_type": "markdown",
   "metadata": {},
   "source": [
    "Suppose capital depreciated fully in each period. The Bellman equation describing the agent's problem is as follows:\n",
    "$$V(z,k)=\\max_{k'} \\log(f(z,k)-k') + \\beta \\mathbb E_{z'|z} V(z',k')$$\n",
    "By the FOC and Envelope condition, we can get the following Euler equation:\n",
    "$$\\frac{1}{f(z,k)-k'} = \\beta \\mathbb E\\Bigg[\\frac{f'(z',k')}{f(z',k')-k'(k')}\\Bigg].$$"
   ]
  },
  {
   "cell_type": "markdown",
   "metadata": {},
   "source": [
    "## (1). Approximate capital policy function using piecewise linear function\n",
    "The steps for policy-time iteration using functional approximation are the following:\n",
    "1. Set capital grid $K=[K_1,K_2,...,K_n]$, guess capital policy function $K'(z,k)$ and error tolerance $\\bar\\epsilon$.\n",
    "2. Solve for the system of non-linear equations at grid points  $\\forall j\\in{1,...,n}$:\n",
    "$$R(z,k_j)\\equiv \\frac{1}{f(z,k_j)-K'(z,k_j)} - \\beta \\mathbb E\\Bigg[\\frac{f'(z',K'(z,k_j))}{f(z',K'(z,k_j))-L(z',K'(z,k_j);k,K')}\\Bigg] = 0$$ where $L(s,x;k,K')$ is the interpolated value of the policy function K' at states $z=s,k=x$. <br>\n",
    "In the discrete shock case, states are iid and occur with equal probabilities, so the error function $$R(z,k_j)\\equiv \\frac{1}{f(z,k_j)-K'(z,k_j)} - \\frac{\\beta}{2} \\Bigg[\\frac{f'(1,K'(z,k_j))}{f(1,K'(z,k_j))-L(1,K'(z,k_j);k,K')} + \\frac{f'(2,K'(z,k_j))}{f(2,K'(z,k_j))-L(2,K'(z,k_j);k,K')}\\Bigg]$$\n",
    "3. Calculate error $\\epsilon = \\max_{z,j} R(z,k_j)$. Continue iteration if $\\epsilon > \\bar\\epsilon$. Stop otherwise."
   ]
  },
  {
   "cell_type": "code",
   "execution_count": 1,
   "metadata": {},
   "outputs": [
    {
     "data": {
      "text/plain": [
       "<Figure size 640x480 with 1 Axes>"
      ]
     },
     "metadata": {},
     "output_type": "display_data"
    }
   ],
   "source": [
    "from scipy.interpolate import interp1d\n",
    "from scipy.optimize import fsolve, root\n",
    "from matplotlib import pyplot as plt\n",
    "import numpy.polynomial.chebyshev as cheb\n",
    "import numpy as np\n",
    "\n",
    "# Production function\n",
    "# z: aggregate state (TFP), k: current capital\n",
    "def f(z,k):\n",
    "    if z == 1:\n",
    "        return 0.9*k**0.3 + 0.3*k\n",
    "    else:\n",
    "        return 1.1*k**0.3 + 0.9*k\n",
    "\n",
    "# Derivative of production function\n",
    "def fp(z,k):\n",
    "    if z == 1:\n",
    "        return 0.27*k**(-0.7) + 0.3\n",
    "    else:\n",
    "        return 0.33*k**(-0.7) + 0.9\n",
    "\n",
    "# Residual function evaluated at k=x\n",
    "# kp: capital policy function (nk*nz)\n",
    "def R(x,z,beta,k,kp,kgrid):\n",
    "    lhs = 1 / (f(z,k)-x)\n",
    "    L1 = interp1d(kgrid,kp[:,0])\n",
    "    L2 = interp1d(kgrid,kp[:,1])\n",
    "    rhs = beta * 0.5*(fp(1,x)/(f(1,x)-L1(x)) + fp(2,x)/(f(2,x)-L2(x)))\n",
    "    return abs(lhs-rhs)                 \n",
    "\n",
    "nk = 30                             # number of capital grid points\n",
    "kmin = 0.1                          # minimum capital\n",
    "kmax = 1.5                          # maximum capital\n",
    "kgrid = np.linspace(kmin,kmax,nk)\n",
    "tol = 1e-5                          # tolerance level for error\n",
    "gk = np.zeros((nk,2))               # capital policy function\n",
    "maxDiff = np.inf\n",
    "beta = 0.9\n",
    "\n",
    "# Main step: find capital policy that satisfies the Euler equation\n",
    "while maxDiff > tol:\n",
    "    gkTemp = np.zeros((nk,2))       # capital policy in the next iteration\n",
    "    residuals = np.zeros((nk,2))\n",
    "    for ik in range(nk):\n",
    "        for iz in range(2):\n",
    "            k = kgrid[ik]\n",
    "            z = iz + 1\n",
    "            ksol = fsolve(R,0.1,args=(z,beta,k,gk,kgrid))\n",
    "            gkTemp[ik,iz] = ksol\n",
    "    \n",
    "    for ik in range(nk):\n",
    "        for iz in range(2):\n",
    "            k = kgrid[ik]\n",
    "            z = iz + 1\n",
    "            residuals[ik,iz] = R(gkTemp[ik,iz],z,beta,k,gkTemp,kgrid)\n",
    "            \n",
    "    maxDiff = abs(residuals).max()\n",
    "    gk = np.copy(gkTemp)\n",
    "\n",
    "# Plot the policy functions\n",
    "plt.plot(kgrid,gk[:,0],label='z=1')\n",
    "plt.plot(kgrid,gk[:,1],label='z=2')\n",
    "plt.ylim([min(kgrid),max(kgrid)])\n",
    "plt.xlabel(r\"$k$\")\n",
    "plt.ylabel(r\"$k'$\")\n",
    "plt.legend()\n",
    "plt.show()\n"
   ]
  },
  {
   "cell_type": "markdown",
   "metadata": {},
   "source": [
    "## (2). Approximate capital policy function using Chebyshev polynomial and collocation points\n",
    "The steps are the following:\n",
    "1. Set grid points $K=[K_1,K_2,...,K_n]$ by choosing $n,K_{min},K_{max}$ and setting $K_j = (Z^n_j+1)(K_{max}-K_{min})/2+K_{min}$, where $Z^n_j,j=1,...,n$ are the Chebyshev zeros of the polynomials. Guess coefficients ${\\theta^i_j}$ for Chebyshev basis functions ${T_1(x),...,T_n(x)}$.\n",
    "2. Solve for $\\theta$'s in the system of non-linear equations, $\\forall j\\in{1,...,n}$:\n",
    "$$R(z_i,K_j;\\theta)\\equiv \\frac{1}{f(z_i,k_j)-K'(z_i,k_j;\\theta)} - \\beta \\mathbb E\\Bigg[\\frac{f'(z',K'(z_i,k_j;\\theta))}{f(z',K'(z_i,k_j;\\theta))-K'(z',K'(z_i,k_j;\\theta);\\theta)}\\Bigg] = 0$$ where $K'(z_i,k_j;\\theta)=\\sum_j \\theta^i_j T_j(x)$ Chebyshev approximations of the policy function.\n",
    "3. (a) Calculate error: $\\epsilon = \\max_{i,j} R_{i,j}$ <br>\n",
    "(b) Stop if $\\epsilon<\\bar \\epsilon$, otherwise reiterate."
   ]
  },
  {
   "cell_type": "code",
   "execution_count": 2,
   "metadata": {},
   "outputs": [
    {
     "data": {
      "image/png": "[encoded data removed]",
      "text/plain": [
       "<Figure size 432x288 with 1 Axes>"
      ]
     },
     "metadata": {
      "needs_background": "light"
     },
     "output_type": "display_data"
    }
   ],
   "source": [
    "# Residual function of the Euler equation\n",
    "def R_chebyshev(x,n,beta,kgrid,kmin,kmax):\n",
    "    res = np.zeros((n*2,1))                      # residuals of Euler equations evaluated at grid points\n",
    "    coeff = np.zeros((2,n))                      # coefficients of Chebyshev polynomials\n",
    "    coeff[0,:] = x[0:n]\n",
    "    coeff[1,:] = x[n:]\n",
    "    \n",
    "    # Create Chebyshev basis functions\n",
    "    z = -np.cos((2*(np.linspace(1,n,n))-1)/(2*n)*np.pi)  # Chebyshev zeros in [-1,1]\n",
    "    T_k = np.ones((n,n))                                 # columns are polynomials of different degrees\n",
    "    T_k[:,1] = z\n",
    "    for i in range(2,n):\n",
    "        T_k[:,i] = 2*z*T_k[:,i-1] - T_k[:,i-2]\n",
    "    \n",
    "    lhs = np.zeros((2*n,))\n",
    "    rhs = np.zeros((2*n,))\n",
    "    \n",
    "    # Iterate over the two aggregate states\n",
    "    for iz in range(2):\n",
    "        gk = np.zeros((n,1))                             # capital policy function at current z\n",
    "        \n",
    "        # Iterate over capital in this period\n",
    "        for ik in range(n):\n",
    "            k = kgrid[ik]\n",
    "            kp = coeff[iz,:].dot(T_k[ik,:])\n",
    "            \n",
    "            # Make sure capital next period is in the [kmin,kmax] range, and consumption > 0\n",
    "            kp = max(kp,kmin+0.01)\n",
    "            kp = min(kp,kmax-0.01,f(iz+1,k)-0.01)            \n",
    "            gk[ik] = kp\n",
    "        \n",
    "        gk_scaled = (2*gk-(kmin+kmax))/(kmax-kmin)      # rescale capital policy to the [-1,1] range\n",
    "        \n",
    "        # Create Chebyshev basis functions evaluated at capital in the next period\n",
    "        T_g_k = np.ones((n,n))\n",
    "        T_g_k[:,[1]] = gk_scaled\n",
    "        for i in range(2,n):\n",
    "            T_g_k[:,[i]] = 2*gk_scaled*T_g_k[:,[i-1]] - T_g_k[:,[i-2]]\n",
    "        \n",
    "        # Iterate over capital in this period\n",
    "        for ik in range(n):\n",
    "            k = kgrid[ik]\n",
    "            kpp = np.zeros((2,1))                      # capital two periods later\n",
    "            \n",
    "            # Iterate over aggregate states in the next period\n",
    "            for izp in range(2):              \n",
    "                kpp[izp] = coeff[izp,:].dot(T_g_k[ik,:])\n",
    "                \n",
    "                # Make sure capital two periods later is also in [kmin,kmax], and consumption in the next period > 0\n",
    "                kpp[izp] = max(kpp[izp],kmin+0.01)\n",
    "                kpp[izp] = min(kpp[izp],kmax-0.01,f(izp+1,gk[ik])-0.01)\n",
    "            \n",
    "            lhs[iz*n+ik] = 1 / (f(iz+1,k)-gk[ik])      # left hand side of the Euler equation\n",
    "            rhs[iz*n+ik] = beta * 0.5 * (fp(1,gk[ik])/(f(1,gk[ik])-kpp[0]) + fp(2,gk[ik])/(f(2,gk[ik])-kpp[1]))\n",
    "                                                       # right hand side of the Euler equation\n",
    "            \n",
    "    res = abs(lhs - rhs)\n",
    "    return res\n",
    "\n",
    "###################################################\n",
    "maxDiff = np.inf\n",
    "n_list = np.array((3,4,5,6))                           # gradually increase the degree of Chebyshev polynomials (otherwise hard to converge)\n",
    "n = min(n_list)\n",
    "coeff = np.vstack((np.array((0.3)),np.zeros((n-1,1)),np.array((0.8)),np.zeros((n-1,1))))\n",
    "                                                       # coefficients of the Chebyshev polynomials (coefficient of the constant term should be close to steady state capital)\n",
    "for n in n_list:\n",
    "    z = -np.cos((2*(np.linspace(1,n,n))-1)/(2*n)*np.pi)   # Chebyshev zeros\n",
    "    kgrid_colloc = kmin + (z+1)*(kmax-kmin)/2             # capital grid\n",
    "    \n",
    "    if n > min(n_list):\n",
    "        coeff = np.vstack((np.array((0.3)),np.zeros((n-1,1)),np.array((0.8)),np.zeros((n-1,1))))\n",
    "        coeff[0:nOld] = coeff_sol[0:nOld].reshape(nOld,1)\n",
    "        coeff[n:n+nOld] = coeff_sol[nOld:].reshape(nOld,1)\n",
    "    \n",
    "    # Solve for the coefficients\n",
    "    while maxDiff > tol:\n",
    "        coeff_sol = fsolve(R_chebyshev,coeff,args=(n,beta,kgrid_colloc,kmin,kmax))\n",
    "        residuals = R_chebyshev(coeff_sol,n,beta,kgrid_colloc,kmin,kmax)\n",
    "        maxDiff = residuals.max()\n",
    "        \n",
    "    maxDiff = np.inf\n",
    "    nOld = n\n",
    "\n",
    "# Recover policy functions from the coefficients\n",
    "T_k = np.ones((n,n))\n",
    "z = -np.cos((2*(np.linspace(1,n,n))-1)/(2*n)*np.pi)\n",
    "kgrid_colloc = kmin + (z+1)*(kmax-kmin)/2\n",
    "T_k[:,1] = z\n",
    "for i in range(2,n):\n",
    "    T_k[:,i] = 2*z*T_k[:,i-1] - T_k[:,i-2]\n",
    "\n",
    "gk = np.zeros((n,2))                                       # capital policy function\n",
    "for iz in range(2):    \n",
    "    for ik in range(n):\n",
    "        k = kgrid[ik]\n",
    "        kp = coeff[iz*n:(iz+1)*n].T.dot(T_k[ik,:])\n",
    "        gk[ik,iz] = kp\n",
    "\n",
    "# Plot the results\n",
    "plt.plot(kgrid_colloc,gk[:,0],label='z=1')\n",
    "plt.plot(kgrid_colloc,gk[:,1],label='z=2')\n",
    "plt.ylim([min(kgrid),max(kgrid)])\n",
    "plt.xlabel(r\"$k$\")\n",
    "plt.ylabel(r\"$k'$\")\n",
    "plt.legend()\n",
    "plt.show()\n"
   ]
  },
  {
   "cell_type": "code",
   "execution_count": null,
   "metadata": {},
   "outputs": [],
   "source": []
  }
 ],
 "metadata": {
  "kernelspec": {
   "display_name": "Python 3",
   "language": "python",
   "name": "python3"
  },
  "language_info": {
   "codemirror_mode": {
    "name": "ipython",
    "version": 3
   },
   "file_extension": ".py",
   "mimetype": "text/x-python",
   "name": "python",
   "nbconvert_exporter": "python",
   "pygments_lexer": "ipython3",
   "version": "3.7.3"
  }
 },
 "nbformat": 4,
 "nbformat_minor": 2
}
