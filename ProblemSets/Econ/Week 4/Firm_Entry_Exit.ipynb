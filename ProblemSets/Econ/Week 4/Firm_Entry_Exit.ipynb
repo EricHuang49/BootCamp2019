{
 "cells": [
  {
   "cell_type": "code",
   "execution_count": 1,
   "metadata": {},
   "outputs": [],
   "source": [
    "#pip install quantecon"
   ]
  },
  {
   "cell_type": "code",
   "execution_count": 1,
   "metadata": {},
   "outputs": [],
   "source": [
    "import numpy as np\n",
    "import math\n",
    "from scipy.optimize import fsolve\n",
    "from quantecon.markov.approximation import tauchen\n",
    "import matplotlib.pyplot as plt\n",
    "from scipy import interpolate"
   ]
  },
  {
   "cell_type": "code",
   "execution_count": 43,
   "metadata": {},
   "outputs": [],
   "source": [
    "# Define parameter values\n",
    "θ = .21\n",
    "ν = .64\n",
    "δ = .1\n",
    "β = .96\n",
    "φ = .5\n",
    "ρ = .9\n",
    "σ = .02\n",
    "N_rep = .6   # assume steady state labor supply from rep. household\n",
    "tol = 1e-6\n",
    "ϵ = tauchen(ρ,σ,0,3,11)"
   ]
  },
  {
   "cell_type": "code",
   "execution_count": 55,
   "metadata": {},
   "outputs": [],
   "source": [
    "'''\n",
    "------------------------------------------------------------------------\n",
    "Steady state functions\n",
    "------------------------------------------------------------------------\n",
    "'''\n",
    "\n",
    "# Firm labor demand given w and k\n",
    "n_star = lambda ν,θ,ϵ,w,k: (k>0)*(w/(math.exp(ϵ)*ν*k**θ))**(1/(ν-1))\n",
    "# Derivative of firm profit wrt k\n",
    "π_k = lambda ν,θ,ϵ,w,k: θ*math.exp(ϵ)*k**(θ-1)*(w/(ν*math.exp(ϵ)*k**θ))**(ν/(ν-1))\n",
    "# Derivative of value function V wrt k\n",
    "V_k = lambda ν,θ,δ,φ,ϵ,w,k: π_k(ν,θ,ϵ,w,k) - φ/2*δ**2+(φ-1)*δ+1\n",
    "\n",
    "# Left hand side of firm FOC\n",
    "def foc(k,w,parameters):\n",
    "    β,ν,θ,δ,φ,ϵ = parameters\n",
    "    foc_lhs = -1-φ*δ + β*V_k(ν,θ,δ,φ,ϵ,w,k)\n",
    "    return foc_lhs\n",
    "\n",
    "# Solve for steady state capital given w\n",
    "def get_Kss(w,parameters):\n",
    "    kss = fsolve(foc,.1,args=(w,parameters))\n",
    "    return kss\n",
    "\n",
    "# Solve the steady state capital and w\n",
    "def excess_labor_supply(w,parameters):\n",
    "    β,ν,θ,δ,φ,N_rep = parameters\n",
    "    k = get_Kss(w,[β,ν,θ,δ,φ,0])\n",
    "    n = n_star(ν,θ,0,w,k)\n",
    "    n_excess = N_rep - n\n",
    "    return n_excess\n",
    "\n",
    "\n",
    "# Value function iteration\n",
    "def VFI(cf,w,k_grid,parameters,ϵ):\n",
    "    ν,θ,δ,φ,tol = parameters\n",
    "    π = lambda ν,θ,ϵ,w,k: math.exp(ϵ)*k**θ*n_star(ν,θ,ϵ,w,k)**ν-w*n_star(ν,θ,ϵ,w,k)\n",
    "    \n",
    "    nϵ,nk = len(ϵ.state_values),len(k_grid)\n",
    "    V = np.zeros((nϵ*nk,1))\n",
    "    max_diff = np.inf\n",
    "    niter = 1\n",
    "    \n",
    "    while max_diff > tol:\n",
    "        ev = np.zeros((nϵ*nk,1))\n",
    "        for iϵ in range(nϵ):\n",
    "            for ik in range(nk):\n",
    "                idx = iϵ*nk + ik \n",
    "                idxp = np.arange(ik,nϵ*nk+ik,nk)\n",
    "                ev[idx] = ev[idx] + ϵ.P[iϵ,:].dot(V[idxp])\n",
    "                \n",
    "        tempV, gk = (1-δ)*np.ones((nϵ,1)).dot(k_grid.T).reshape(nϵ*nk,1), np.zeros((nϵ*nk,1))        \n",
    "        for iϵ,ϵ_curr in enumerate(ϵ.state_values):\n",
    "            for ik,k in enumerate(k_grid):\n",
    "                idx = iϵ*nk + ik \n",
    "                \n",
    "                vv = (1-δ)*k\n",
    "                for ikp,kp in enumerate(k_grid):\n",
    "                    idxp = iϵ*nk + ikp\n",
    "                    investment = kp - (1-δ)*k\n",
    "                    v_temp = π(ν,θ,ϵ_curr,w,k) - investment - φ/2*(investment/k)**2 -cf + β*ev[idxp]\n",
    "                    \n",
    "                    if v_temp > vv:\n",
    "                        vv = v_temp\n",
    "                        tempV[idx] = v_temp\n",
    "                        gk[idx] = kp\n",
    "                        \n",
    "        max_diff = max(np.abs(V-tempV))\n",
    "        V = tempV\n",
    "        if niter == 1 or niter % 50 == 0:\n",
    "            print('Iteration %d: max diff = %1.7f' % (niter,max_diff))\n",
    "                  \n",
    "        niter = niter + 1\n",
    "    return V,gk\n",
    "\n",
    "def euler_solvek(kp,ikp,gk,w,ν,θ,β,φ,δ,ϵ,iϵ):\n",
    "    E_Vk = 0\n",
    "    nϵ = len(ϵ.state_values)\n",
    "    nk = np.int(len(gk) / nϵ)\n",
    "    \n",
    "    for iϵp,ϵp in enumerate(ϵ.state_values):\n",
    "        idxp = iϵp*nk + ikp \n",
    "        E_Vk = E_Vk + ϵ.P[iϵ,iϵp]*(π_k(ν,θ,ϵp,w,kp)+(1-δ)-φ/2*((gk[idxp]/kp-(1-δ))**2-2*gk[idxp]/kp*(gk[idxp]/kp-(1-δ))))\n",
    "       \n",
    "    if kp != 0:\n",
    "        k = kp / (1/φ * (β*E_Vk-1) + 1-δ)\n",
    "    else:\n",
    "        k = 0\n",
    "    \n",
    "    return k\n",
    "                "
   ]
  },
  {
   "cell_type": "code",
   "execution_count": 56,
   "metadata": {},
   "outputs": [],
   "source": [
    "# Solve for representative agent steady state\n",
    "w = 1\n",
    "parameters = [β,ν,θ,δ,φ,N_rep]\n",
    "wss = fsolve(excess_labor_supply,.25,args=parameters)\n",
    "kss = get_Kss(wss,[β,ν,θ,δ,φ,0])\n",
    "\n",
    "k_grid = np.linspace([1e-3],[5],50)\n",
    "parameters = [ν,θ,δ,φ,tol]"
   ]
  },
  {
   "cell_type": "code",
   "execution_count": 57,
   "metadata": {},
   "outputs": [
    {
     "name": "stdout",
     "output_type": "stream",
     "text": [
      "Iteration 1: max diff = 5.2436817\n",
      "Iteration 50: max diff = 0.0153600\n",
      "Iteration 100: max diff = 0.0019826\n",
      "Iteration 150: max diff = 0.0002575\n",
      "Iteration 200: max diff = 0.0000334\n",
      "Iteration 250: max diff = 0.0000043\n"
     ]
    }
   ],
   "source": [
    "# Solve for incumbent firm's decision rules\n",
    "cf = .01\n",
    "V,kp = VFI(cf,wss,k_grid,parameters,ϵ)"
   ]
  },
  {
   "cell_type": "code",
   "execution_count": 58,
   "metadata": {},
   "outputs": [
    {
     "data": {
      "text/plain": [
       "[<matplotlib.lines.Line2D at 0x131d0eba58>]"
      ]
     },
     "execution_count": 58,
     "metadata": {},
     "output_type": "execute_result"
    },
    {
     "data": {
      "image/png": "[encoded data removed]",
      "text/plain": [
       "<Figure size 432x288 with 1 Axes>"
      ]
     },
     "metadata": {
      "needs_background": "light"
     },
     "output_type": "display_data"
    }
   ],
   "source": [
    "plt.plot(gk)"
   ]
  },
  {
   "cell_type": "code",
   "execution_count": 49,
   "metadata": {},
   "outputs": [],
   "source": [
    "# Endogenous grid method for incumbent firm's decision rules\n",
    "def EGM(cf,w,k_grid,parameters,ϵ):\n",
    "    ν,θ,δ,φ,tol = parameters\n",
    "    π = lambda ν,θ,ϵ,w,k: math.exp(ϵ)*k**θ*n_star(ν,θ,ϵ,w,k)**ν-w*n_star(ν,θ,ϵ,w,k)\n",
    "    \n",
    "    nϵ,nk = len(ϵ.state_values),len(k_grid)\n",
    "    k_end = np.zeros((nϵ*nk,1))\n",
    "    \n",
    "    max_diff = np.inf\n",
    "    niter = 1\n",
    "    \n",
    "    # Guess value functions\n",
    "    V_e = (1-δ)*np.ones((nϵ,1)).dot(k_grid.T).reshape(nϵ*nk,1)\n",
    "    V_tilde = V_e + np.ones((nϵ,1)).dot(np.linspace(-.1,.1,nk).reshape(1,nk)).reshape(nϵ*nk,1)\n",
    "    V = np.maximum(V_tilde-cf,V_e)\n",
    "\n",
    "    # Guess a policy function of k' defined on the original grid\n",
    "    gk = np.ones((nϵ,1)).dot(k_grid.T).reshape(nϵ*nk,1)\n",
    "    \n",
    "    while max_diff > tol:\n",
    "\n",
    "        ev = np.zeros((nϵ*nk,1))\n",
    "        for iϵ in range(nϵ):\n",
    "            for ik in range(nk):\n",
    "                idx = iϵ*nk + ik \n",
    "                idxp = np.arange(ik,nϵ*nk+ik,nk)\n",
    "                ev[idx] = ev[idx] + ϵ.P[iϵ,:].dot(V[idxp])\n",
    "                        \n",
    "#         k_end = k1_end * (V_tilde - cf < V_e) + k2_end *(V_tilde - cf >= V_e)\n",
    "#         V_tilde_end,V_tilde_new = np.zeros((nϵ*nk,1)),np.zeros((nϵ*nk,1))\n",
    "        k_end,V_tilde_end,V_tilde_new = np.zeros((nϵ*nk,1)),np.zeros((nϵ*nk,1)),np.zeros((nϵ*nk,1))\n",
    "        \n",
    "        for iϵ, ϵ_curr in enumerate(ϵ.state_values):\n",
    "            grid_range = np.arange(iϵ*nk,iϵ*nk+nk,1)\n",
    "            ev_interp = interpolate.interp1d(k_grid.reshape(nk,),ev[grid_range].reshape(nk,),fill_value='extrapolate')\n",
    "            \n",
    "            # Iterate over k'\n",
    "            ik_cutoff = -np.inf\n",
    "            for ikp,kp in enumerate(k_grid):\n",
    "                idxp = iϵ*nk + ikp \n",
    "                k = euler_solvek(kp,ikp,gk,w,ν,θ,β,φ,δ,ϵ,iϵ)\n",
    "                k_end[idxp] = k\n",
    "                if k != 0:\n",
    "                    V_tilde_end[idxp] = π(ν,θ,ϵ_curr,w,k) - (kp-(1-δ)*k) - φ/2*(kp/k-(1-δ))**2 *k + β*ev_interp(k)\n",
    "                else:\n",
    "                    V_tilde_end[idxp] = - (kp-(1-δ)*k) + β*ev_interp(k)\n",
    "                    \n",
    "                if V_tilde_end[idxp] - cf < (1-δ)*k:\n",
    "                    ik_cutoff = ikp\n",
    "                        \n",
    "            V_tilde_end_interp = interpolate.interp1d(k_end[grid_range].reshape(nk,),V_tilde_end[grid_range].reshape(nk,),fill_value='extrapolate')\n",
    "            gk_interp = interpolate.interp1d(k_end[grid_range].reshape(nk,),k_grid.reshape(nk,),fill_value='extrapolate')\n",
    "            for ik,k in enumerate(k_grid):\n",
    "                idx = iϵ*nk + ik                \n",
    "                V_tilde_new[idx] = V_tilde_end_interp(k)\n",
    "                \n",
    "#                 if ik <= ik_cutoff:\n",
    "#                     gk[idx] = 0                    \n",
    "#                 else:\n",
    "#                     gk[idx] = gk_interp(k)   \n",
    "                gk[idx] = gk_interp(k)\n",
    "        \n",
    "#         V_new = np.maximum(V_tilde_new-cf,V_e)\n",
    "#         max_diff = max(np.abs(V_new-V))\n",
    "#         V = V_new.copy()\n",
    "        V_new = V_tilde_new.copy()\n",
    "        max_diff = max(np.abs(V_new-V))\n",
    "        V = V_new.copy()\n",
    "        if niter == 1 or niter % 50 == 0:\n",
    "            print('Iteration %d: max diff = %1.7f' % (niter,max_diff))\n",
    "                  \n",
    "        niter = niter + 1\n",
    "\n",
    "    return V,gk"
   ]
  },
  {
   "cell_type": "code",
   "execution_count": 50,
   "metadata": {},
   "outputs": [
    {
     "name": "stdout",
     "output_type": "stream",
     "text": [
      "Iteration 1: max diff = 0.8557027\n",
      "Iteration 50: max diff = 0.2144091\n",
      "Iteration 100: max diff = 0.0278195\n",
      "Iteration 150: max diff = 0.0036133\n",
      "Iteration 200: max diff = 0.0004693\n",
      "Iteration 250: max diff = 0.0000610\n",
      "Iteration 300: max diff = 0.0000079\n",
      "Iteration 350: max diff = 0.0000010\n"
     ]
    }
   ],
   "source": [
    "cf = .01\n",
    "parameters = ν,θ,δ,φ,tol\n",
    "V,gk = EGM(cf,wss,k_grid,parameters,ϵ)\n"
   ]
  },
  {
   "cell_type": "code",
   "execution_count": 54,
   "metadata": {},
   "outputs": [
    {
     "data": {
      "text/plain": [
       "[<matplotlib.lines.Line2D at 0x131d203588>]"
      ]
     },
     "execution_count": 54,
     "metadata": {},
     "output_type": "execute_result"
    },
    {
     "data": {
      "image/png": "[encoded data removed]",
      "text/plain": [
       "<Figure size 432x288 with 1 Axes>"
      ]
     },
     "metadata": {
      "needs_background": "light"
     },
     "output_type": "display_data"
    }
   ],
   "source": [
    "plt.plot(gk)"
   ]
  },
  {
   "cell_type": "code",
   "execution_count": null,
   "metadata": {},
   "outputs": [],
   "source": []
  }
 ],
 "metadata": {
  "kernelspec": {
   "display_name": "Python 3",
   "language": "python",
   "name": "python3"
  }
 },
 "nbformat": 4,
 "nbformat_minor": 2
}
