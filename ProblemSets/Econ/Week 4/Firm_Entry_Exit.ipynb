{
 "cells": [
  {
   "cell_type": "code",
   "execution_count": 1,
   "metadata": {},
   "outputs": [],
   "source": [
    "#pip install quantecon"
   ]
  },
  {
   "cell_type": "code",
   "execution_count": 3,
   "metadata": {},
   "outputs": [],
   "source": [
    "import numpy as np\n",
    "import math\n",
    "from scipy.optimize import fsolve\n",
    "from quantecon.markov.approximation import tauchen\n",
    "import matplotlib.pyplot as plt\n",
    "from scipy import interpolate"
   ]
  },
  {
   "cell_type": "code",
   "execution_count": 4,
   "metadata": {},
   "outputs": [],
   "source": [
    "# Define parameter values\n",
    "θ = .21\n",
    "ν = .64\n",
    "δ = .1\n",
    "β = .96\n",
    "φ = .5\n",
    "ρ = .9\n",
    "σ = .02\n",
    "N_rep = .6   # assume steady state labor supply from rep. household\n",
    "tol = 1e-6\n",
    "ϵ = tauchen(ρ,σ,0,3,10)"
   ]
  },
  {
   "cell_type": "code",
   "execution_count": 81,
   "metadata": {},
   "outputs": [],
   "source": [
    "'''\n",
    "------------------------------------------------------------------------\n",
    "Steady state functions\n",
    "------------------------------------------------------------------------\n",
    "'''\n",
    "\n",
    "# Firm labor demand given w and k\n",
    "n_star = lambda ν,θ,ϵ,w,k: (k>0)*(w/(math.exp(ϵ)*ν*k**θ))**(1/(ν-1))\n",
    "# Derivative of firm profit wrt k\n",
    "π_k = lambda ν,θ,ϵ,w,k: θ*math.exp(ϵ)*k**(θ-1)*n_star(ν,θ,ϵ,w,k)**ν\n",
    "# Derivative of value function V wrt k\n",
    "V_k = lambda ν,θ,δ,φ,ϵ,w,k: π_k(ν,θ,ϵ,w,k) - φ/2*δ**2-(φ+1)*δ+1\n",
    "\n",
    "# Left hand side of firm FOC\n",
    "def foc(k,w,parameters):\n",
    "    β,ν,θ,δ,φ,ϵ = parameters\n",
    "    foc_lhs = -1-φ*δ + β*V_k(ν,θ,δ,φ,ϵ,w,k)\n",
    "    return foc_lhs\n",
    "\n",
    "# Solve for steady state capital given w\n",
    "def get_Kss(w,parameters):\n",
    "    kss = fsolve(foc,.1,args=(w,parameters))\n",
    "    return kss\n",
    "\n",
    "# Solve the steady state capital and w\n",
    "def excess_labor_supply(w,parameters):\n",
    "    β,ν,θ,δ,φ,N_rep = parameters\n",
    "    k = get_Kss(w,[β,ν,θ,δ,φ,0])\n",
    "    n = n_star(ν,θ,0,w,k)\n",
    "    n_excess = N_rep - n\n",
    "    return n_excess\n",
    "\n",
    "\n",
    "# Value function iteration\n",
    "def VFI(cf,w,k_grid,parameters,ϵ):\n",
    "    ν,θ,δ,φ,tol = parameters\n",
    "    π = lambda ν,θ,ϵ,w,k: math.exp(ϵ)*k**θ*n_star(ν,θ,ϵ,w,k)**ν-w*n_star(ν,θ,ϵ,w,k)\n",
    "    \n",
    "    nϵ,nk = len(ϵ.state_values),len(k_grid)\n",
    "    V = np.zeros((nϵ*nk,1))\n",
    "    max_diff = np.inf\n",
    "    niter = 1\n",
    "    \n",
    "    while max_diff > tol:\n",
    "        ev = np.zeros((nϵ*nk,1))\n",
    "        for iϵ in range(nϵ):\n",
    "            for ik in range(nk):\n",
    "                idx = iϵ*nk + ik \n",
    "                idxp = np.arange(ik,nϵ*nk+ik,nk)\n",
    "                ev[idx] = ev[idx] + ϵ.P[iϵ,:].dot(V[idxp])\n",
    "                \n",
    "        tempV, gk = (1-δ)*np.ones((nϵ,1)).dot(k_grid.T).reshape(nϵ*nk,1), np.zeros((nϵ*nk,1))        \n",
    "        for iϵ,ϵ_curr in enumerate(ϵ.state_values):\n",
    "            for ik,k in enumerate(k_grid):\n",
    "                idx = iϵ*nk + ik \n",
    "                \n",
    "                vv = (1-δ)*k\n",
    "                for ikp,kp in enumerate(k_grid):\n",
    "                    idxp = iϵ*nk + ikp\n",
    "                    investment = kp - (1-δ)*k\n",
    "                    v_temp = π(ν,θ,ϵ_curr,w,k) - investment - φ/2*(investment/k)**2 -cf + β*ev[idxp]\n",
    "                    \n",
    "                    if v_temp > vv:\n",
    "                        vv = v_temp\n",
    "                        tempV[idx] = v_temp\n",
    "                        gk[idx] = kp\n",
    "                        \n",
    "        max_diff = max(np.abs(V-tempV))\n",
    "        V = tempV\n",
    "        if niter == 1 or niter % 10 == 0:\n",
    "            print('Iteration %d: max diff = %1.7f' % (niter,max_diff))\n",
    "                  \n",
    "        niter = niter + 1\n",
    "    return V,gk\n",
    "\n",
    "def euler_lhs(k,kp,kpp,w,ν,θ,β,φ,δ,ϵ,iϵ):\n",
    "    if k != 0 and kp != 0:\n",
    "        lhs = -1 -φ*(kp/k-(1-δ)) + β * sum([b*(π_k(ν,θ,a,w,kp)+(1-δ)- (kp>0)*φ/2*((kpp/kp-(1-δ))**2-2*kpp/kp*(kpp/kp-(1-δ)))) \\\n",
    "         for a,b in zip(ϵ.state_values, ϵ.P[iϵ,:]) ])\n",
    "    elif k == 0 and kp != 0:\n",
    "        lhs = -1 + β * sum([b*(π_k(ν,θ,a,w,kp)+(1-δ)- (kp>0)*φ/2*((kpp/kp-(1-δ))**2-2*kpp/kp*(kpp/kp-(1-δ)))) \\\n",
    "         for a,b in zip(ϵ.state_values, ϵ.P[iϵ,:]) ])\n",
    "    elif k != 0 and kp == 0:\n",
    "        lhs = -1 -φ*(kp/k-(1-δ))\n",
    "    else:\n",
    "        lhs = 0\n",
    "    \n",
    "    return lhs\n",
    "                \n",
    "\n",
    "# Endogenous grid method for incumbent firm's decision rules\n",
    "def EGM(cf,w,k_grid,parameters,ϵ):\n",
    "    ν,θ,δ,φ,tol = parameters\n",
    "    π = lambda ν,θ,ϵ,w,k: math.exp(ϵ)*k**θ*n_star(ν,θ,ϵ,w,k)**ν-w*n_star(ν,θ,ϵ,w,k)\n",
    "    π_k = lambda ν,θ,ϵ,w,k: θ*math.exp(ϵ)*k**(θ-1)*n_star(ν,θ,ϵ,w,k)**ν\n",
    "    \n",
    "    nϵ,nk = len(ϵ.state_values),len(k_grid)\n",
    "    k_end, k1_end, k2_end = np.zeros((nϵ*nk,1)), np.zeros((nϵ*nk,1)), np.zeros((nϵ*nk,1))\n",
    "#     euler1_lhs = lambda k,kp,β,φ,δ: -1-φ*(kp/k-(1-δ))+β*(1-δ)\n",
    "#     euler2_lhs = lambda k,kp,kpp,w,ν,θ,β,φ,δ,ϵ,iϵ: -1-(k>0)*φ*(kp/k-(1-δ))+β* \\\n",
    "#     sum([b*(π_k(ν,θ,a,w,kp)+1-δ- (kp>0)*φ/2*((kpp/kp-(1-δ))**2-2*kpp/kp*(kpp/kp-(1-δ)))) \\\n",
    "#          for a,b in zip(ϵ.state_values, ϵ.P[iϵ,:]) ])\n",
    "    \n",
    "#     # Create choice-specific endogenous grid for k\n",
    "#     for iϵ in range(nϵ):\n",
    "#         for ikp,kp in enumerate(k_grid):\n",
    "#             idx = iϵ*nk + ikp \n",
    "#             k1_end[idx] = fsolve(euler1_lhs,.1,args=(kp,β,φ,δ))\n",
    "#             k2_end[idx] = fsolve(euler2_lhs,.1,args=(kp,w,ν,θ,β,φ,δ,ϵ,iϵ))\n",
    "    \n",
    "    max_diff = np.inf\n",
    "    niter = 1\n",
    "    \n",
    "    # Guess value functions\n",
    "    V_e = (1-δ)*np.ones((nϵ,1)).dot(k_grid.T).reshape(nϵ*nk,1)\n",
    "    V_tilde = V_e + np.ones((nϵ,1)).dot(np.linspace(-.1,.1,nk).reshape(1,nk)).reshape(nϵ*nk,1)\n",
    "    V = np.maximum(V_tilde-cf,V_e)\n",
    "\n",
    "    # Guess a policy function of k' defined on the original grid\n",
    "    gk = np.ones((nϵ,1)).dot(k_grid.T).reshape(nϵ*nk,1)\n",
    "    \n",
    "    while max_diff > tol:\n",
    "\n",
    "        ev = np.zeros((nϵ*nk,1))\n",
    "        for iϵ in range(nϵ):\n",
    "            for ik in range(nk):\n",
    "                idx = iϵ*nk + ik \n",
    "                idxp = np.arange(ik,nϵ*nk+ik,nk)\n",
    "                ev[idx] = ev[idx] + ϵ.P[iϵ,:].dot(V[idxp])\n",
    "                        \n",
    "#         k_end = k1_end * (V_tilde - cf < V_e) + k2_end *(V_tilde - cf >= V_e)\n",
    "#         V_tilde_end,V_tilde_new = np.zeros((nϵ*nk,1)),np.zeros((nϵ*nk,1))\n",
    "        k_end,V_tilde_end,V_tilde_new = np.zeros((nϵ*nk,1)),np.zeros((nϵ*nk,1)),np.zeros((nϵ*nk,1))\n",
    "        \n",
    "        for iϵ, ϵ_curr in enumerate(ϵ.state_values):\n",
    "            grid_range = np.arange(iϵ*nk,iϵ*nk+nk,1)\n",
    "            ev_interp = interpolate.interp1d(k_grid.reshape(nk,),ev[grid_range].reshape(nk,),fill_value='extrapolate')\n",
    "            \n",
    "            # Iterate over k'\n",
    "            ik_cutoff = -np.inf\n",
    "            for ikp,kp in enumerate(k_grid):\n",
    "                idxp = iϵ*nk + ikp \n",
    "                kpp = gk[idxp]\n",
    "                k = max(fsolve(euler_lhs,.1,args=(kp,kpp,w,ν,θ,β,φ,δ,ϵ,iϵ)),0)\n",
    "                k_end[idxp] = k\n",
    "#                 k = k_end[idx] \n",
    "                if k != 0:\n",
    "                    V_tilde_end[idxp] = π(ν,θ,ϵ_curr,w,k) - (kp-(1-δ)*k) - φ/2*(kp/k-(1-δ))**2 *k + β*ev_interp(k)\n",
    "                else:\n",
    "                    V_tilde_end[idxp] = - (kp-(1-δ)*k) + β*ev_interp(k)\n",
    "                    \n",
    "                if V_tilde_end[idxp] - cf < (1-δ)*k:\n",
    "                    ik_cutoff = ikp\n",
    "                        \n",
    "            V_tilde_end_interp = interpolate.interp1d(k_end[grid_range].reshape(nk,),V_tilde_end[grid_range].reshape(nk,),fill_value='extrapolate')\n",
    "            grid_range = np.arange(iϵ*nk+ik_cutoff+1,iϵ*nk+nk,1)\n",
    "            gk_interp = interpolate.interp1d(k_end[grid_range].reshape(nk-ik_cutoff-1,),k_grid[ik_cutoff+1:].reshape(nk-ik_cutoff-1,),fill_value='extrapolate')\n",
    "            for ik,k in enumerate(k_grid):\n",
    "                idx = iϵ*nk + ik                \n",
    "                V_tilde_new[idx] = V_tilde_end_interp(k)\n",
    "#                 if np.isnan(V_tilde_new[idx]):\n",
    "#                     V_tilde_new[idx] = -np.inf\n",
    "                if ik <= ik_cutoff:\n",
    "                    gk[idx] = 0                    \n",
    "                else:\n",
    "                    gk[idx] = gk_interp(k)                        \n",
    "        \n",
    "        V_new = np.maximum(V_tilde_new-cf,V_e)\n",
    "        max_diff = max(np.abs(V_new-V))\n",
    "        V = V_new.copy()\n",
    "        if niter == 1 or niter % 1 == 0:\n",
    "            print('Iteration %d: max diff = %1.7f' % (niter,max_diff))\n",
    "                  \n",
    "        niter = niter + 1\n",
    "        if niter == 4:\n",
    "            plt.plot(gk)\n",
    "    return V,gk"
   ]
  },
  {
   "cell_type": "code",
   "execution_count": 6,
   "metadata": {},
   "outputs": [],
   "source": [
    "# Solve for representative agent steady state\n",
    "w = 1\n",
    "parameters = [β,ν,θ,δ,φ,N_rep]\n",
    "wss = fsolve(excess_labor_supply,.25,args=parameters)\n",
    "kss = get_Kss(w,[β,ν,θ,δ,φ,0])\n",
    "\n",
    "k_grid = np.linspace(0,5*kss,50)\n",
    "parameters = [ν,θ,δ,φ,tol]"
   ]
  },
  {
   "cell_type": "code",
   "execution_count": 208,
   "metadata": {},
   "outputs": [
    {
     "name": "stderr",
     "output_type": "stream",
     "text": [
      "/anaconda3/lib/python3.7/site-packages/ipykernel_launcher.py:8: RuntimeWarning: divide by zero encountered in true_divide\n",
      "  \n",
      "/anaconda3/lib/python3.7/site-packages/ipykernel_launcher.py:61: RuntimeWarning: invalid value encountered in true_divide\n",
      "/anaconda3/lib/python3.7/site-packages/ipykernel_launcher.py:61: RuntimeWarning: divide by zero encountered in true_divide\n"
     ]
    },
    {
     "name": "stdout",
     "output_type": "stream",
     "text": [
      "Iteration 1: max diff = 1.8738515\n",
      "Iteration 10: max diff = 0.0388894\n",
      "Iteration 20: max diff = 0.0171801\n",
      "Iteration 30: max diff = 0.0097648\n",
      "Iteration 40: max diff = 0.0061470\n",
      "Iteration 50: max diff = 0.0040021\n",
      "Iteration 60: max diff = 0.0026393\n",
      "Iteration 70: max diff = 0.0017493\n",
      "Iteration 80: max diff = 0.0011616\n",
      "Iteration 90: max diff = 0.0007719\n",
      "Iteration 100: max diff = 0.0005131\n",
      "Iteration 110: max diff = 0.0003411\n",
      "Iteration 120: max diff = 0.0002268\n",
      "Iteration 130: max diff = 0.0001508\n",
      "Iteration 140: max diff = 0.0001002\n",
      "Iteration 150: max diff = 0.0000666\n",
      "Iteration 160: max diff = 0.0000443\n",
      "Iteration 170: max diff = 0.0000295\n",
      "Iteration 180: max diff = 0.0000196\n",
      "Iteration 190: max diff = 0.0000130\n",
      "Iteration 200: max diff = 0.0000087\n",
      "Iteration 210: max diff = 0.0000058\n",
      "Iteration 220: max diff = 0.0000038\n",
      "Iteration 230: max diff = 0.0000025\n",
      "Iteration 240: max diff = 0.0000017\n",
      "Iteration 250: max diff = 0.0000011\n"
     ]
    }
   ],
   "source": [
    "# Solve for incumbent firm's decision rules\n",
    "cf = .01\n",
    "V,kp = VFI(cf,w,k_grid,parameters,ϵ)"
   ]
  },
  {
   "cell_type": "code",
   "execution_count": 209,
   "metadata": {},
   "outputs": [
    {
     "data": {
      "text/plain": [
       "[<matplotlib.lines.Line2D at 0x10c03ea58>]"
      ]
     },
     "execution_count": 209,
     "metadata": {},
     "output_type": "execute_result"
    },
    {
     "data": {
      "image/png": "[encoded data removed]",
      "text/plain": [
       "<Figure size 432x288 with 1 Axes>"
      ]
     },
     "metadata": {
      "needs_background": "light"
     },
     "output_type": "display_data"
    }
   ],
   "source": [
    "plt.plot(V)"
   ]
  },
  {
   "cell_type": "code",
   "execution_count": 82,
   "metadata": {},
   "outputs": [
    {
     "name": "stdout",
     "output_type": "stream",
     "text": [
      "Iteration 1: max diff = 0.0680746\n",
      "Iteration 2: max diff = 0.0780506\n",
      "Iteration 3: max diff = 0.1554312\n",
      "Iteration 4: max diff = 0.2541947\n",
      "Iteration 5: max diff = 0.5146671\n",
      "Iteration 6: max diff = 0.1974712\n"
     ]
    },
    {
     "ename": "KeyboardInterrupt",
     "evalue": "",
     "output_type": "error",
     "traceback": [
      "\u001b[0;31m---------------------------------------------------------------------------\u001b[0m",
      "\u001b[0;31mKeyboardInterrupt\u001b[0m                         Traceback (most recent call last)",
      "\u001b[0;32m<ipython-input-82-b1bebc64f40c>\u001b[0m in \u001b[0;36m<module>\u001b[0;34m\u001b[0m\n\u001b[1;32m      1\u001b[0m \u001b[0mcf\u001b[0m \u001b[0;34m=\u001b[0m \u001b[0;36m.01\u001b[0m\u001b[0;34m\u001b[0m\u001b[0;34m\u001b[0m\u001b[0m\n\u001b[1;32m      2\u001b[0m \u001b[0mparameters\u001b[0m \u001b[0;34m=\u001b[0m \u001b[0mν\u001b[0m\u001b[0;34m,\u001b[0m\u001b[0mθ\u001b[0m\u001b[0;34m,\u001b[0m\u001b[0mδ\u001b[0m\u001b[0;34m,\u001b[0m\u001b[0mφ\u001b[0m\u001b[0;34m,\u001b[0m\u001b[0mtol\u001b[0m\u001b[0;34m\u001b[0m\u001b[0;34m\u001b[0m\u001b[0m\n\u001b[0;32m----> 3\u001b[0;31m \u001b[0maa\u001b[0m \u001b[0;34m=\u001b[0m \u001b[0mEGM\u001b[0m\u001b[0;34m(\u001b[0m\u001b[0mcf\u001b[0m\u001b[0;34m,\u001b[0m\u001b[0mw\u001b[0m\u001b[0;34m,\u001b[0m\u001b[0mk_grid\u001b[0m\u001b[0;34m,\u001b[0m\u001b[0mparameters\u001b[0m\u001b[0;34m,\u001b[0m\u001b[0mϵ\u001b[0m\u001b[0;34m)\u001b[0m\u001b[0;34m\u001b[0m\u001b[0;34m\u001b[0m\u001b[0m\n\u001b[0m",
      "\u001b[0;32m<ipython-input-81-e0c6caf4e154>\u001b[0m in \u001b[0;36mEGM\u001b[0;34m(cf, w, k_grid, parameters, ε)\u001b[0m\n\u001b[1;32m    142\u001b[0m                 \u001b[0midxp\u001b[0m \u001b[0;34m=\u001b[0m \u001b[0miϵ\u001b[0m\u001b[0;34m*\u001b[0m\u001b[0mnk\u001b[0m \u001b[0;34m+\u001b[0m \u001b[0mikp\u001b[0m\u001b[0;34m\u001b[0m\u001b[0;34m\u001b[0m\u001b[0m\n\u001b[1;32m    143\u001b[0m                 \u001b[0mkpp\u001b[0m \u001b[0;34m=\u001b[0m \u001b[0mgk\u001b[0m\u001b[0;34m[\u001b[0m\u001b[0midxp\u001b[0m\u001b[0;34m]\u001b[0m\u001b[0;34m\u001b[0m\u001b[0;34m\u001b[0m\u001b[0m\n\u001b[0;32m--> 144\u001b[0;31m                 \u001b[0mk\u001b[0m \u001b[0;34m=\u001b[0m \u001b[0mmax\u001b[0m\u001b[0;34m(\u001b[0m\u001b[0mfsolve\u001b[0m\u001b[0;34m(\u001b[0m\u001b[0meuler_lhs\u001b[0m\u001b[0;34m,\u001b[0m\u001b[0;36m.1\u001b[0m\u001b[0;34m,\u001b[0m\u001b[0margs\u001b[0m\u001b[0;34m=\u001b[0m\u001b[0;34m(\u001b[0m\u001b[0mkp\u001b[0m\u001b[0;34m,\u001b[0m\u001b[0mkpp\u001b[0m\u001b[0;34m,\u001b[0m\u001b[0mw\u001b[0m\u001b[0;34m,\u001b[0m\u001b[0mν\u001b[0m\u001b[0;34m,\u001b[0m\u001b[0mθ\u001b[0m\u001b[0;34m,\u001b[0m\u001b[0mβ\u001b[0m\u001b[0;34m,\u001b[0m\u001b[0mφ\u001b[0m\u001b[0;34m,\u001b[0m\u001b[0mδ\u001b[0m\u001b[0;34m,\u001b[0m\u001b[0mϵ\u001b[0m\u001b[0;34m,\u001b[0m\u001b[0miϵ\u001b[0m\u001b[0;34m)\u001b[0m\u001b[0;34m)\u001b[0m\u001b[0;34m,\u001b[0m\u001b[0;36m0\u001b[0m\u001b[0;34m)\u001b[0m\u001b[0;34m\u001b[0m\u001b[0;34m\u001b[0m\u001b[0m\n\u001b[0m\u001b[1;32m    145\u001b[0m                 \u001b[0mk_end\u001b[0m\u001b[0;34m[\u001b[0m\u001b[0midxp\u001b[0m\u001b[0;34m]\u001b[0m \u001b[0;34m=\u001b[0m \u001b[0mk\u001b[0m\u001b[0;34m\u001b[0m\u001b[0;34m\u001b[0m\u001b[0m\n\u001b[1;32m    146\u001b[0m \u001b[0;31m#                 k = k_end[idx]\u001b[0m\u001b[0;34m\u001b[0m\u001b[0;34m\u001b[0m\u001b[0;34m\u001b[0m\u001b[0m\n",
      "\u001b[0;32m/anaconda3/lib/python3.7/site-packages/scipy/optimize/minpack.py\u001b[0m in \u001b[0;36mfsolve\u001b[0;34m(func, x0, args, fprime, full_output, col_deriv, xtol, maxfev, band, epsfcn, factor, diag)\u001b[0m\n\u001b[1;32m    145\u001b[0m                'diag': diag}\n\u001b[1;32m    146\u001b[0m \u001b[0;34m\u001b[0m\u001b[0m\n\u001b[0;32m--> 147\u001b[0;31m     \u001b[0mres\u001b[0m \u001b[0;34m=\u001b[0m \u001b[0m_root_hybr\u001b[0m\u001b[0;34m(\u001b[0m\u001b[0mfunc\u001b[0m\u001b[0;34m,\u001b[0m \u001b[0mx0\u001b[0m\u001b[0;34m,\u001b[0m \u001b[0margs\u001b[0m\u001b[0;34m,\u001b[0m \u001b[0mjac\u001b[0m\u001b[0;34m=\u001b[0m\u001b[0mfprime\u001b[0m\u001b[0;34m,\u001b[0m \u001b[0;34m**\u001b[0m\u001b[0moptions\u001b[0m\u001b[0;34m)\u001b[0m\u001b[0;34m\u001b[0m\u001b[0;34m\u001b[0m\u001b[0m\n\u001b[0m\u001b[1;32m    148\u001b[0m     \u001b[0;32mif\u001b[0m \u001b[0mfull_output\u001b[0m\u001b[0;34m:\u001b[0m\u001b[0;34m\u001b[0m\u001b[0;34m\u001b[0m\u001b[0m\n\u001b[1;32m    149\u001b[0m         \u001b[0mx\u001b[0m \u001b[0;34m=\u001b[0m \u001b[0mres\u001b[0m\u001b[0;34m[\u001b[0m\u001b[0;34m'x'\u001b[0m\u001b[0;34m]\u001b[0m\u001b[0;34m\u001b[0m\u001b[0;34m\u001b[0m\u001b[0m\n",
      "\u001b[0;32m/anaconda3/lib/python3.7/site-packages/scipy/optimize/minpack.py\u001b[0m in \u001b[0;36m_root_hybr\u001b[0;34m(func, x0, args, jac, col_deriv, xtol, maxfev, band, eps, factor, diag, **unknown_options)\u001b[0m\n\u001b[1;32m    223\u001b[0m             \u001b[0mmaxfev\u001b[0m \u001b[0;34m=\u001b[0m \u001b[0;36m200\u001b[0m \u001b[0;34m*\u001b[0m \u001b[0;34m(\u001b[0m\u001b[0mn\u001b[0m \u001b[0;34m+\u001b[0m \u001b[0;36m1\u001b[0m\u001b[0;34m)\u001b[0m\u001b[0;34m\u001b[0m\u001b[0;34m\u001b[0m\u001b[0m\n\u001b[1;32m    224\u001b[0m         retval = _minpack._hybrd(func, x0, args, 1, xtol, maxfev,\n\u001b[0;32m--> 225\u001b[0;31m                                  ml, mu, epsfcn, factor, diag)\n\u001b[0m\u001b[1;32m    226\u001b[0m     \u001b[0;32melse\u001b[0m\u001b[0;34m:\u001b[0m\u001b[0;34m\u001b[0m\u001b[0;34m\u001b[0m\u001b[0m\n\u001b[1;32m    227\u001b[0m         \u001b[0m_check_func\u001b[0m\u001b[0;34m(\u001b[0m\u001b[0;34m'fsolve'\u001b[0m\u001b[0;34m,\u001b[0m \u001b[0;34m'fprime'\u001b[0m\u001b[0;34m,\u001b[0m \u001b[0mDfun\u001b[0m\u001b[0;34m,\u001b[0m \u001b[0mx0\u001b[0m\u001b[0;34m,\u001b[0m \u001b[0margs\u001b[0m\u001b[0;34m,\u001b[0m \u001b[0mn\u001b[0m\u001b[0;34m,\u001b[0m \u001b[0;34m(\u001b[0m\u001b[0mn\u001b[0m\u001b[0;34m,\u001b[0m \u001b[0mn\u001b[0m\u001b[0;34m)\u001b[0m\u001b[0;34m)\u001b[0m\u001b[0;34m\u001b[0m\u001b[0;34m\u001b[0m\u001b[0m\n",
      "\u001b[0;32m<ipython-input-81-e0c6caf4e154>\u001b[0m in \u001b[0;36meuler_lhs\u001b[0;34m(k, kp, kpp, w, ν, θ, β, φ, δ, ε, iε)\u001b[0m\n\u001b[1;32m     77\u001b[0m     \u001b[0;32mif\u001b[0m \u001b[0mk\u001b[0m \u001b[0;34m!=\u001b[0m \u001b[0;36m0\u001b[0m \u001b[0;32mand\u001b[0m \u001b[0mkp\u001b[0m \u001b[0;34m!=\u001b[0m \u001b[0;36m0\u001b[0m\u001b[0;34m:\u001b[0m\u001b[0;34m\u001b[0m\u001b[0;34m\u001b[0m\u001b[0m\n\u001b[1;32m     78\u001b[0m         lhs = -1 -φ*(kp/k-(1-δ)) + β * sum([b*(π_k(ν,θ,a,w,kp)+(1-δ)- (kp>0)*φ/2*((kpp/kp-(1-δ))**2-2*kpp/kp*(kpp/kp-(1-δ)))) \\\n\u001b[0;32m---> 79\u001b[0;31m          for a,b in zip(ϵ.state_values, ϵ.P[iϵ,:]) ])\n\u001b[0m\u001b[1;32m     80\u001b[0m     \u001b[0;32melif\u001b[0m \u001b[0mk\u001b[0m \u001b[0;34m==\u001b[0m \u001b[0;36m0\u001b[0m \u001b[0;32mand\u001b[0m \u001b[0mkp\u001b[0m \u001b[0;34m!=\u001b[0m \u001b[0;36m0\u001b[0m\u001b[0;34m:\u001b[0m\u001b[0;34m\u001b[0m\u001b[0;34m\u001b[0m\u001b[0m\n\u001b[1;32m     81\u001b[0m         lhs = -1 + β * sum([b*(π_k(ν,θ,a,w,kp)+(1-δ)- (kp>0)*φ/2*((kpp/kp-(1-δ))**2-2*kpp/kp*(kpp/kp-(1-δ)))) \\\n",
      "\u001b[0;32m<ipython-input-81-e0c6caf4e154>\u001b[0m in \u001b[0;36m<listcomp>\u001b[0;34m(.0)\u001b[0m\n\u001b[1;32m     77\u001b[0m     \u001b[0;32mif\u001b[0m \u001b[0mk\u001b[0m \u001b[0;34m!=\u001b[0m \u001b[0;36m0\u001b[0m \u001b[0;32mand\u001b[0m \u001b[0mkp\u001b[0m \u001b[0;34m!=\u001b[0m \u001b[0;36m0\u001b[0m\u001b[0;34m:\u001b[0m\u001b[0;34m\u001b[0m\u001b[0;34m\u001b[0m\u001b[0m\n\u001b[1;32m     78\u001b[0m         lhs = -1 -φ*(kp/k-(1-δ)) + β * sum([b*(π_k(ν,θ,a,w,kp)+(1-δ)- (kp>0)*φ/2*((kpp/kp-(1-δ))**2-2*kpp/kp*(kpp/kp-(1-δ)))) \\\n\u001b[0;32m---> 79\u001b[0;31m          for a,b in zip(ϵ.state_values, ϵ.P[iϵ,:]) ])\n\u001b[0m\u001b[1;32m     80\u001b[0m     \u001b[0;32melif\u001b[0m \u001b[0mk\u001b[0m \u001b[0;34m==\u001b[0m \u001b[0;36m0\u001b[0m \u001b[0;32mand\u001b[0m \u001b[0mkp\u001b[0m \u001b[0;34m!=\u001b[0m \u001b[0;36m0\u001b[0m\u001b[0;34m:\u001b[0m\u001b[0;34m\u001b[0m\u001b[0;34m\u001b[0m\u001b[0m\n\u001b[1;32m     81\u001b[0m         lhs = -1 + β * sum([b*(π_k(ν,θ,a,w,kp)+(1-δ)- (kp>0)*φ/2*((kpp/kp-(1-δ))**2-2*kpp/kp*(kpp/kp-(1-δ)))) \\\n",
      "\u001b[0;31mKeyboardInterrupt\u001b[0m: "
     ]
    },
    {
     "data": {
      "image/png": "[encoded data removed]",
      "text/plain": [
       "<Figure size 432x288 with 1 Axes>"
      ]
     },
     "metadata": {
      "needs_background": "light"
     },
     "output_type": "display_data"
    }
   ],
   "source": [
    "cf = .01\n",
    "parameters = ν,θ,δ,φ,tol\n",
    "aa = EGM(cf,w,k_grid,parameters,ϵ)\n"
   ]
  },
  {
   "cell_type": "code",
   "execution_count": null,
   "metadata": {},
   "outputs": [],
   "source": []
  }
 ],
 "metadata": {
  "kernelspec": {
   "display_name": "Python 3",
   "language": "python",
   "name": "python3"
  },
  "language_info": {
   "codemirror_mode": {
    "name": "ipython",
    "version": 3
   },
   "file_extension": ".py",
   "mimetype": "text/x-python",
   "name": "python",
   "nbconvert_exporter": "python",
   "pygments_lexer": "ipython3",
   "version": "3.7.3"
  }
 },
 "nbformat": 4,
 "nbformat_minor": 2
}
