{
 "cells": [
  {
   "cell_type": "markdown",
   "metadata": {},
   "source": [
    "# Week 3 Day 1: Introduction to DSGE by Kerk Philips\n",
    "## Jincheng(Eric) Huang"
   ]
  },
  {
   "cell_type": "markdown",
   "metadata": {},
   "source": [
    "1. For the Brock and Mirman model, find the value of A in the policy function.\n"
   ]
  },
  {
   "cell_type": "markdown",
   "metadata": {},
   "source": [
    "Solution: The Euler equation for the Brock and Mriman model is\n",
    "$$\n",
    "\\frac{1}{e^{z_{t}} K_{t}^{\\alpha}-K_{t+1}}=\\beta E_{t}\\left\\{\\frac{\\alpha e^{z_{t+1}} K_{t+1}^{\\alpha-1}}{e^{z_{t+1}} K_{t+1}^{\\alpha}-K_{t+2}}\\right\\}\n",
    "$$\n",
    "We conjecture that the policy function takes the following form:\n",
    "$$\n",
    "K_{t+1}=A e^{z_{t}} K_{t}^{\\alpha}\n",
    "$$\n",
    "Then we know by induction that \n",
    "\\begin{align}\n",
    "K_{t+2}&=A e^{z_{t+1}} K_{t+1}^{\\alpha}\n",
    "\\end{align}"
   ]
  },
  {
   "cell_type": "markdown",
   "metadata": {},
   "source": [
    "Plugging the previous two expressions into the Euler equation, we have\n",
    "\\begin{align}\n",
    "\\frac{1}{e^{z_{t}} K_{t}^{\\alpha}-A e^{z_{t}} K_{t}^{\\alpha}} &= \\beta E_{t}\\left\\{\\frac{\\alpha e^{z_{t+1}} K_{t+1}^{\\alpha-1}}{e^{z_{t+1}} K_{t+1}^{\\alpha}-A e^{z_{t+1}} K_{t+1}^{\\alpha}}\\right\\} \\\\\n",
    "&= \\frac{\\alpha \\beta}{K_{t+1}-AK_{t+1}}\n",
    "\\end{align}\n",
    "Multiply both the numerator and denominator by $A$ on the left hand side, and note that $K_{t+1} = A e^{z_t}K_t^{\\alpha}$, we have \n",
    "$$\n",
    "\\frac{A}{K_{t+1}-AK_{t+1}} = \\frac{\\alpha \\beta}{K_{t+1}-AK_{t+1}}\n",
    "$$\n",
    "Therefore $A = \\alpha \\beta$."
   ]
  },
  {
   "cell_type": "markdown",
   "metadata": {},
   "source": [
    "2. For the model in section 3, consider the following functional form:\n",
    "$$\n",
    "\\begin{aligned} u\\left(c_{t}, \\ell_{t}\\right) &=\\ln c_{t}+a \\ln \\left(1-\\ell_{t}\\right) \\\\ F\\left(K_{t}, L_{t}, z_{t}\\right) &=e^{z_{t}} K_{t}^{\\alpha} L_{t}^{1-\\alpha} \\end{aligned}\n",
    "$$\n",
    "Write out all the characterizing equations for the model using these functional forms. Can you use the same tricks as in Exercise 1 to solve for the policy function in this case? Why or why not?"
   ]
  },
  {
   "cell_type": "markdown",
   "metadata": {},
   "source": [
    "Solution: The equations that characterize the equilibrium of the model are: \n",
    "<br> 1) First order conditions:\n",
    "$$\n",
    "\\frac{w_t(1-\\tau)}{c_t} = \\frac{a}{1-\\ell_t} \\\\\n",
    "\\frac{1}{c_t} = \\beta E_t \\left\\{V_k(k_{t+1,\\theta_{t+1}}) \\right\\}\n",
    "$$\n",
    "\n",
    "<br> 2) The envelope condition:\n",
    "$$\n",
    "V_{k}\\left(k_{t} ; \\theta_{t}\\right)= \\frac{\\left[\\left(r_{t}-\\delta\\right)(1-\\tau)+1\\right]}{c_t}\n",
    "$$\n",
    "\n",
    "<br> 3) The intertemporal Euler condition, and the consumption-leisure condition:\n",
    "$$\n",
    "\\frac{1}{c_t} =\\beta E_{t}\\left\\{\\frac{1}{c_{t+1}}\\left[\\left(r_{t+1}-\\delta\\right)(1-\\tau)+1\\right]\\right\\} \\\\\n",
    "\\frac{a}{1-\\ell_1} = \\frac{w_t (1-\\tau)}{c_t}\n",
    "$$\n",
    "\n",
    "<br> 4) Firm's first order condition:\n",
    "$$\n",
    "r_t = \\alpha e^{z_t} K_t^{\\alpha-1} L_t^{1-\\alpha} \\\\\n",
    "w_t = (1-\\alpha) e^{z_t} K_t^{\\alpha} L_t^{-\\alpha}\n",
    "$$\n",
    "\n",
    "<br> 5) Government budget balance:\n",
    "$$\n",
    "\\tau \\left[w_t l_t + r_t k_t \\right] = T_t\n",
    "$$\n",
    "\n",
    "<br> 6) Market clearing:\n",
    "$$\n",
    "\\ell_t = L_t \\\\\n",
    "k_t = K_t\n",
    "$$"
   ]
  },
  {
   "cell_type": "markdown",
   "metadata": {},
   "source": [
    "In Problem 1, we assumed that $K_{t+1}$ is a fixed fraction $A$ of total output at time $t$. The same trick would not work in this case, because after using the budget constraint and substituting the expression for consumption into the intertemporal Euler equation, we will find that the right hand side cannot be simplified. If $\\delta \\neq 1$ and $\\tau \\neq 0$, there will be a constant term $\\delta(1-\\tau)+1$ on the numerator of the right hand side, which makes it impossible to solve for the expression of $A$ in terms of parameters."
   ]
  },
  {
   "cell_type": "markdown",
   "metadata": {},
   "source": [
    "3. For the model in section 3 assume the following forms:\n",
    "$$\n",
    "\\begin{aligned} u\\left(c_{t}, \\ell_{t}\\right) &=\\frac{c_{t}^{1-\\gamma}-1}{1-\\gamma}+a \\ln \\left(1-\\ell_{t}\\right) \\\\ F\\left(K_{t}, L_{t}, z_{t}\\right) &=e^{z_{t}} K_{t}^{\\alpha} L_{t}^{1-\\alpha} \\end{aligned}\n",
    "$$"
   ]
  },
  {
   "cell_type": "markdown",
   "metadata": {},
   "source": [
    "Solution: The characterizing equations are:\n",
    "$$\n",
    "\\begin{array}{c}{c_{t}=(1-\\tau)\\left[w_{t} \\ell_{t}+\\left(r_{t}-\\delta\\right) k_{t}\\right]+k_{t}+T_{t}-k_{t+1}} \\\\ {c_{t}^{-\\gamma}=\\beta E_{t}\\left\\{c_{t+1}-\\gamma\\left[\\left(r_{t+1}-\\delta\\right)(1-\\tau)+1\\right]\\right\\}} \\\\ {\\frac{\\alpha}{1-\\ell_{t}}=c_{t}^{-\\gamma} w_{t}(1-\\tau)} \\\\ {r_{t}=\\alpha e^{z_{t}} K_{t}^{\\alpha-1} L_{t}^{1-\\alpha}} \\\\ {w_{t}=(1-\\alpha) e^{z_{t}} K_{t}^{\\alpha} L_{t}^{-\\alpha}} \\\\ {\\tau\\left[w_{t} \\ell_{t}+\\left(r_{t}-\\delta\\right) k_{t}\\right]=T_{t}} \\\\ {z_{t}=\\left(1-\\rho_{z}\\right) \\overline{z}+\\rho_{z} z_{t-1}+\\epsilon_{t}^{z} ; \\quad \\epsilon_{t}^{z} \\sim \\text { i.i.d. }\\left(0, \\sigma_{z}^{2}\\right)}\\end{array}\n",
    "$$"
   ]
  },
  {
   "cell_type": "markdown",
   "metadata": {},
   "source": [
    "4. For the model in section 3 assume the following forms:\n",
    "$$\n",
    "\\begin{aligned} u\\left(c_{t}, \\ell_{t}\\right) &=\\frac{c_{t}^{1-\\gamma}-1}{1-\\gamma}+a \\frac{\\left(1-\\ell_{t}\\right)^{1-\\xi}-1}{1-\\xi} \\\\ F\\left(K_{t}, L_{t}, z_{t}\\right) &=e^{z_{t}}\\left[\\alpha K_{t}^{\\eta}+(1-\\alpha) L_{t}^{\\eta}\\right]^{\\frac{1}{\\eta}} \\end{aligned}\n",
    "$$"
   ]
  },
  {
   "cell_type": "markdown",
   "metadata": {},
   "source": [
    "Solution: The characterizing equations are:\n",
    "$$\n",
    "\\begin{array}{c}{c_{t}=(1-\\tau)\\left[w_{t} \\ell_{t}+\\left(r_{t}-\\delta\\right) k_{t}\\right]+k_{t}+T_{t}-k_{t+1}} \\\\ {c_{t}^{-\\gamma}=\\beta E_{t}\\left\\{c_{t+1}-\\gamma\\left[\\left(r_{t+1}-\\delta\\right)(1-\\tau)+1\\right]\\right\\}} \\\\ {-\\alpha\\left(1-\\ell_{t}\\right)^{-\\epsilon}=c_{t}^{-\\gamma} w_{t}(1-\\tau)} \\\\ {r_{t}=\\alpha e^{z_{t}} K_{t}^{\\eta-1}\\left[\\alpha K_{t}^{\\eta}+(1-\\alpha) L_{t}^{\\eta}\\right]^{\\frac{1-\\eta}{\\eta}}} \\\\ {w_{t}=(1-\\alpha) e^{z_{t}} L_{t}^{\\eta-1}\\left[\\alpha K_{t}^{\\eta}+(1-\\alpha) L_{t}^{\\eta}\\right]^{\\frac{1-\\eta}{\\eta}}} \\\\ {\\tau\\left[w_{t} \\ell_{t}+\\left(r_{t}-\\delta\\right) k_{t}\\right]=T_{t}} \\\\ {z_{t}=\\left(1-\\rho_{z}\\right) \\overline{z}+\\rho_{z} z_{t-1}+\\epsilon_{t}^{z} ; \\quad \\epsilon_{t}^{z} \\sim \\text { i.i.d. }\\left(0, \\sigma_{z}^{2}\\right)}\\end{array}\n",
    "$$"
   ]
  },
  {
   "cell_type": "markdown",
   "metadata": {},
   "source": [
    "5. For the model in section 3 assume the following forms:\n",
    "$$\n",
    "\\begin{aligned} u\\left(c_{t}\\right) &=\\frac{c_{t}^{1-\\gamma}-1}{1-\\gamma} \\\\ F\\left(K_{t}, L_{t}, z_{t}\\right) &=K_{t}^{\\alpha}\\left(L_{t} e^{z_{t}}\\right)^{1-\\alpha} \\end{aligned}\n",
    "$$"
   ]
  },
  {
   "cell_type": "markdown",
   "metadata": {},
   "source": [
    "Solution: The characterizing equations are:\n",
    "$$\n",
    "\\begin{array}{c}{c_{t}=(1-\\tau)\\left[w_{t}+\\left(r_{t}-\\delta\\right) k_{t}\\right]+k_{t}+T_{t}-k_{t+1}} \\\\ {c_{t}^{-\\gamma}=\\beta E_{t}\\left\\{c_{t+1}-\\gamma\\left[\\left(r_{t+1}-\\delta\\right)(1-\\tau)+1\\right]\\right\\}} \\\\ {0=c_{t}^{-\\gamma} w_{t}(1-\\tau)} \\\\ {r_{t}=\\alpha e^{z_{t}} K_{t}^{\\alpha-1} L_{t}^{1-\\alpha}} \\\\ {w_{t}=(1-\\alpha) e^{z_{t}(1-\\alpha)} K_{t}^{\\alpha} L_{t}^{-\\alpha}} \\\\ {\\tau\\left[w_{t}+\\left(r_{t}-\\delta\\right) k_{t}\\right]=T_{t}} \\\\ {z_{t}=\\left(1-\\rho_{z}\\right) \\overline{z}+\\rho_{z} z_{t-1}+\\epsilon_{t}^{z} ; \\quad \\epsilon_{t}^{z} \\sim \\text { i.i.d. }\\left(0, \\sigma_{z}^{2}\\right)}\\end{array}\n",
    "$$\n",
    "The steady-state versions are:\n",
    "$$\n",
    "\\begin{array}{c}{c=(1-\\tau)[w+(r-\\delta) k]+T} \\\\ {c^{-\\gamma}=\\beta\\left\\{c^{-\\gamma}[(r-\\delta)(1-\\tau)+1]\\right\\}} \\\\ {0=c^{-\\gamma} w(1-\\tau)} \\\\ {r=\\alpha k^{\\alpha-1}} \\\\ {w=(1-\\alpha) k^{\\alpha}} \\\\ {\\tau[w+(r-\\delta) k]=T}\\end{array}\n",
    "$$"
   ]
  },
  {
   "cell_type": "markdown",
   "metadata": {},
   "source": [
    "6. For the model in section 3 assume the following forms:\n",
    "$$\n",
    "\\begin{aligned} u\\left(c_{t}, \\ell_{t}\\right) &=\\frac{c_{t}^{1-\\gamma}-1}{1-\\gamma}+a \\frac{\\left(1-\\ell_{t}\\right)^{1-\\xi}-1}{1-\\xi} \\\\ F\\left(K_{t}, L_{t}, z_{t}\\right) &=K_{t}^{\\alpha}\\left(L_{t} e^{z_{t}}\\right)^{1-\\alpha} \\end{aligned}\n",
    "$$"
   ]
  },
  {
   "cell_type": "markdown",
   "metadata": {},
   "source": [
    "Solution: The characterizing equations are:\n",
    "$$\n",
    "\\begin{array}{c}{c_{t}=(1-\\tau)\\left[w_{t} \\ell_{t}+\\left(r_{t}-\\delta\\right) k_{t}\\right]+k_{t}+T_{t}-k_{t+1}} \\\\ {c_{t}^{-\\gamma}=\\beta E_{t}\\left\\{c_{t+1}-\\gamma\\left[\\left(r_{t+1}-\\delta\\right)(1-\\tau)+1\\right]\\right\\}} \\\\ {-a\\left(1-\\ell_{t}\\right)^{-\\epsilon}=c_{t}^{-\\gamma} w_{t}(1-\\tau)} \\\\ {r_{t}=\\alpha e^{z_{t}} K_{t}^{\\alpha-1} L_{t}^{1-\\alpha}} \\\\ {w_{t}=(1-\\alpha) e^{z_{t}(1-\\alpha)} K_{t}^{\\alpha} L_{t}^{-\\alpha}} \\\\ {\\tau\\left[w_{t}+\\left(r_{t}-\\delta\\right) k_{t}\\right]=T_{t}} \\\\ {z_{t}=\\left(1-\\rho_{z}\\right) \\overline{z}+\\rho_{z} z_{t-1}+\\epsilon_{t}^{z} ; \\quad \\epsilon_{t}^{z} \\sim \\text { i.i.d. }\\left(0, \\sigma_{z}^{2}\\right)}\\end{array}\n",
    "$$\n",
    "The steady-state versions are:\n",
    "$$\n",
    "\\begin{array}{c}{c=(1-\\tau)[w \\ell+(r-\\delta) k]+T} \\\\ {c^{-\\gamma}=\\beta c^{-\\gamma}[(r-\\delta)(1-\\tau)+1]} \\\\ {-a\\left(1-\\ell_{t}\\right)^{-\\epsilon}=c^{-\\gamma} w(1-\\tau)} \\\\ {r=\\alpha k^{\\alpha-1} \\ell^{1-\\alpha}} \\\\ {w=(1-\\alpha) k^{\\alpha} \\ell^{-\\alpha}} \\\\ {\\tau[w+(r-\\delta) k]=T}\\end{array}\n",
    "$$"
   ]
  },
  {
   "cell_type": "code",
   "execution_count": 1,
   "metadata": {},
   "outputs": [],
   "source": [
    "import numpy as np\n",
    "from scipy import optimize"
   ]
  },
  {
   "cell_type": "code",
   "execution_count": 2,
   "metadata": {},
   "outputs": [
    {
     "name": "stdout",
     "output_type": "stream",
     "text": [
      "Steady state output is 1.8569\n",
      "Steady state investment is 0.4698\n"
     ]
    }
   ],
   "source": [
    "# Exercise 6\n",
    "output = lambda k,l,z: k**α*(l*np.exp(z))**(1-α)\n",
    "investment = lambda k: k - (1-δ)*k\n",
    "\n",
    "uc6 = lambda c, γ: c**(-γ)\n",
    "ul6 = lambda c, γ, l: - a * (1 - l)**(-ϵ)\n",
    "r6 = lambda α, k, l: α * k**(α - 1) * l**(1 - α)\n",
    "w6 = lambda α, k, l: (1-α) * k**α * l**(1 - α)\n",
    "T6 = lambda τ, w, r, δ, k, l: τ * (w * l + (r - δ) * k)\n",
    "\n",
    "def funcs_6(x):\n",
    "    c,k,l = x[0],x[1],x[2]\n",
    "    \n",
    "    r = r6(α, k, l)\n",
    "    w = w6(α, k, l)\n",
    "    uc = uc6(c, γ)\n",
    "    ul = ul6(c, γ, l)\n",
    "    T = T6(τ, w, r, δ, k, l)\n",
    "    \n",
    "    f1 = c - (w*l + (r-δ)*k)\n",
    "    f2 = uc - β * uc * ((r-δ)*(1.-τ)+1.)\n",
    "    f3 = -ul - uc * w * (1.-τ) \n",
    "    return (f1, f2, f3)\n",
    "    \n",
    "γ = 2.5\n",
    "ϵ = 1.5\n",
    "β = 0.98\n",
    "α = 0.4\n",
    "a = 0.5\n",
    "δ = 0.1\n",
    "τ = 0.05\n",
    "z = 0\n",
    "\n",
    "(c,k,l) = optimize.fsolve(funcs_6, (0.5, 1, 0.5))\n",
    "\n",
    "print('Steady state output is %1.4f' % output(k,1,0))\n",
    "print('Steady state investment is %1.4f' % investment(k))"
   ]
  },
  {
   "cell_type": "markdown",
   "metadata": {},
   "source": [
    "7. For the steady state of the baseline tax model in section 3.7.3 use numerical differentiation to solve for the full set of comparative statics and sign them where possible."
   ]
  },
  {
   "cell_type": "code",
   "execution_count": 3,
   "metadata": {},
   "outputs": [
    {
     "name": "stdout",
     "output_type": "stream",
     "text": [
      "dr/dα: 0.5450\n"
     ]
    }
   ],
   "source": [
    "# Exercise 7\n",
    "r = r6(α, k, l)\n",
    "w = w6(α, k, l)\n",
    "uc = uc6(c, γ)\n",
    "ul = ul6(c, γ, l)\n",
    "T = T6(τ, w, r, δ, k, l)\n",
    "y = output(k,l,0)\n",
    "i = investment(k)\n",
    "\n",
    "# use numerical diff, i.e. (f(x+ϵ) - f(x))/2ϵ\n",
    "import autograd.numpy as np\n",
    "from autograd import grad\n",
    "\n",
    "def funcs_7(x):\n",
    "    c,k,l = x[0],x[1],x[2]\n",
    "    \n",
    "    r = r6(α, k, l)\n",
    "    w = w6(α, k, l)\n",
    "    uc = uc6(c, γ)\n",
    "    ul = ul6(c, γ, l)\n",
    "    T = T6(τ, w, r, δ, k, l)\n",
    "    \n",
    "    f1 = c - (w*l + (r-δ)*k)\n",
    "    f2 = uc - β * uc * ((r-δ)*(1.-τ)+1.)\n",
    "    f3 = -ul - uc * w * (1.-τ) \n",
    "    return (f1, f2, f3)\n",
    "    \n",
    "γ = 2.5\n",
    "ϵ = 1.5\n",
    "β = 0.98\n",
    "α = 0.4\n",
    "a = 0.5\n",
    "δ = 0.1\n",
    "τ = 0.05\n",
    "z = 0\n",
    "\n",
    "c, k, l = optimize.fsolve(funcs_7, (0.5, 1, 0.5))\n",
    "r = r6(α, k, l)\n",
    "w = w6(α, k, l)\n",
    "uc = uc6(c, γ)\n",
    "ul = ul6(c, γ, l)\n",
    "T = T6(τ, w, r, δ, k, l)\n",
    "y = output(k,l,0)\n",
    "i = investment(k)\n",
    "\n",
    "r_α = grad(r6, 0)\n",
    "r_k = grad(r6, 1)\n",
    "r_l = grad(r6, 2)\n",
    "print('dr/dα: %1.4f'% r_α(α, k, l))"
   ]
  },
  {
   "cell_type": "code",
   "execution_count": null,
   "metadata": {},
   "outputs": [],
   "source": []
  }
 ],
 "metadata": {
  "kernelspec": {
   "display_name": "Python 3",
   "language": "python",
   "name": "python3"
  },
  "language_info": {
   "codemirror_mode": {
    "name": "ipython",
    "version": 3
   },
   "file_extension": ".py",
   "mimetype": "text/x-python",
   "name": "python",
   "nbconvert_exporter": "python",
   "pygments_lexer": "ipython3",
   "version": "3.7.3"
  }
 },
 "nbformat": 4,
 "nbformat_minor": 2
}
