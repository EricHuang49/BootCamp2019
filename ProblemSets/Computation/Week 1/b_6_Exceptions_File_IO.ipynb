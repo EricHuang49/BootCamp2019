{
 "cells": [
  {
   "cell_type": "markdown",
   "metadata": {},
   "source": [
    "# Computation Problems: Exceptions and File Input/Output\n",
    "## Jincheng(Eric) Huang"
   ]
  },
  {
   "cell_type": "code",
   "execution_count": 1,
   "metadata": {},
   "outputs": [],
   "source": [
    "import math\n",
    "import numpy as np\n",
    "import sympy as sy\n",
    "from matplotlib import pyplot as plt"
   ]
  },
  {
   "cell_type": "markdown",
   "metadata": {},
   "source": [
    "## Problem 1"
   ]
  },
  {
   "cell_type": "code",
   "execution_count": 2,
   "metadata": {},
   "outputs": [
    {
     "name": "stdout",
     "output_type": "stream",
     "text": [
      "Enter a 3-digit number where the first and last digits differ by 2 or more: 135\n",
      "Enter the reverse of the first number, obtained by reading it backwards: 531\n",
      "Enter the positive difference of these numbers: 396\n",
      "Enter the reverse of the previous result: 693\n",
      "396 + 693 = 1089\n"
     ]
    }
   ],
   "source": [
    "def arithmagic():\n",
    "    step_1 = input(\"Enter a 3-digit number where the first and last \"\n",
    "                   \"digits differ by 2 or more: \")\n",
    "    # check error in step 1\n",
    "    if len(step_1) != 3:\n",
    "        raise ValueError(\"The number is not 3-digit!\")\n",
    "    elif abs(int(step_1[0])-int(step_1[2])) < 2:\n",
    "        raise ValueError(\"The number's first and last digits \"\n",
    "                         \"differ by less than 2\")\n",
    "        \n",
    "    step_2 = input(\"Enter the reverse of the first number, obtained \"\n",
    "                   \"by reading it backwards: \")\n",
    "    # check error in step 2\n",
    "    if int(step_2) != int(step_1[::-1]):\n",
    "        raise ValueError(\"This is not the reverse of \"\n",
    "                         \"the first number\")  \n",
    "    \n",
    "    step_3 = input(\"Enter the positive difference of these numbers: \")\n",
    "    # check error in step 3\n",
    "    if abs(int(step_1)-int(step_2)) != int(step_3):\n",
    "        raise ValueError(\"This is not the positive difference\"\n",
    "                        \"of the first two numbers\")   \n",
    "    \n",
    "    step_4 = input(\"Enter the reverse of the previous result: \")\n",
    "    # check error in step 4\n",
    "    if int(step_4) != int(step_3[::-1]):\n",
    "        raise ValueError(\"This is not the reverse of \"\n",
    "                         \"the third number\")\n",
    "    \n",
    "    print(str(step_3), \"+\", str(step_4), \"= 1089\")\n",
    "    \n",
    "arithmagic()"
   ]
  },
  {
   "cell_type": "markdown",
   "metadata": {},
   "source": [
    "## Problem 2"
   ]
  },
  {
   "cell_type": "code",
   "execution_count": 5,
   "metadata": {},
   "outputs": [],
   "source": [
    "from random import choice\n",
    "\n",
    "def random_walk(max_iters=1e12):\n",
    "    try:\n",
    "        walk = 0\n",
    "        directions = [1,-1]\n",
    "        for i in range(int(max_iters)):\n",
    "            walk += choice(directions)\n",
    "    except KeyboardInterrupt:\n",
    "        print(\"Process interrupted at iteration \",i)\n",
    "    else:\n",
    "        print(\"Process completed\")\n",
    "    return walk"
   ]
  },
  {
   "cell_type": "code",
   "execution_count": 7,
   "metadata": {},
   "outputs": [
    {
     "name": "stdout",
     "output_type": "stream",
     "text": [
      "Process interrupted at iteration  3732166\n"
     ]
    },
    {
     "data": {
      "text/plain": [
       "3542"
      ]
     },
     "execution_count": 7,
     "metadata": {},
     "output_type": "execute_result"
    }
   ],
   "source": [
    "random_walk()"
   ]
  },
  {
   "cell_type": "markdown",
   "metadata": {},
   "source": [
    "# Problem 3"
   ]
  },
  {
   "cell_type": "code",
   "execution_count": 10,
   "metadata": {},
   "outputs": [],
   "source": [
    "class ContentFilter:\n",
    "    def __init__(self,FileName):\n",
    "        try:\n",
    "            with open(FileName,'r') as f:\n",
    "                self.name = FileName\n",
    "                self.contents = f.readlines()\n",
    "                \n",
    "        except (FileNotFoundError,TypeError,OSError) as e:\n",
    "            ValidName = input(\"Please enter a valid file name: \")\n",
    "            self.__init__(ValidName)"
   ]
  },
  {
   "cell_type": "code",
   "execution_count": 11,
   "metadata": {},
   "outputs": [
    {
     "name": "stdout",
     "output_type": "stream",
     "text": [
      "Please enter a valid file name: Hello_World\n",
      "Please enter a valid file name: Hello_World.txt\n"
     ]
    }
   ],
   "source": [
    "cf1 = ContentFilter(\"Hello_World.txt\") # File exists"
   ]
  },
  {
   "cell_type": "code",
   "execution_count": 12,
   "metadata": {},
   "outputs": [
    {
     "name": "stdout",
     "output_type": "stream",
     "text": [
      "Please enter a valid file name: Hello_World.txt\n"
     ]
    }
   ],
   "source": [
    "cf2 = ContentFilter(\"not-a-file.txt\") # File doesn't exist"
   ]
  },
  {
   "cell_type": "code",
   "execution_count": 13,
   "metadata": {},
   "outputs": [
    {
     "name": "stdout",
     "output_type": "stream",
     "text": [
      "Please enter a valid file name: Hello_World.txt\n"
     ]
    }
   ],
   "source": [
    "cf3 = ContentFilter([1,2,3]) # Not even a string"
   ]
  },
  {
   "cell_type": "code",
   "execution_count": 14,
   "metadata": {},
   "outputs": [
    {
     "data": {
      "text/plain": [
       "'Hello_World.txt'"
      ]
     },
     "execution_count": 14,
     "metadata": {},
     "output_type": "execute_result"
    }
   ],
   "source": [
    "cf1.name"
   ]
  },
  {
   "cell_type": "code",
   "execution_count": 15,
   "metadata": {},
   "outputs": [
    {
     "data": {
      "text/plain": [
       "['hello\\n']"
      ]
     },
     "execution_count": 15,
     "metadata": {},
     "output_type": "execute_result"
    }
   ],
   "source": [
    "cf1.contents"
   ]
  },
  {
   "cell_type": "markdown",
   "metadata": {},
   "source": [
    "## Problem 4"
   ]
  },
  {
   "cell_type": "code",
   "execution_count": 17,
   "metadata": {},
   "outputs": [
    {
     "ename": "FileNotFoundError",
     "evalue": "[Errno 2] No such file or directory: 'cf_example1.txt'",
     "output_type": "error",
     "traceback": [
      "\u001b[0;31m---------------------------------------------------------------------------\u001b[0m",
      "\u001b[0;31mFileNotFoundError\u001b[0m                         Traceback (most recent call last)",
      "\u001b[0;32m<ipython-input-17-2ac0001143cc>\u001b[0m in \u001b[0;36m<module>\u001b[0;34m\u001b[0m\n\u001b[1;32m     56\u001b[0m \u001b[0;31m# check the original content\u001b[0m\u001b[0;34m\u001b[0m\u001b[0;34m\u001b[0m\u001b[0;34m\u001b[0m\u001b[0m\n\u001b[1;32m     57\u001b[0m \u001b[0;34m\u001b[0m\u001b[0m\n\u001b[0;32m---> 58\u001b[0;31m \u001b[0mf\u001b[0m \u001b[0;34m=\u001b[0m \u001b[0mopen\u001b[0m\u001b[0;34m(\u001b[0m\u001b[0;34m'cf_example1.txt'\u001b[0m\u001b[0;34m,\u001b[0m\u001b[0;34m'r'\u001b[0m\u001b[0;34m)\u001b[0m\u001b[0;34m\u001b[0m\u001b[0;34m\u001b[0m\u001b[0m\n\u001b[0m\u001b[1;32m     59\u001b[0m \u001b[0moriginal_contents\u001b[0m \u001b[0;34m=\u001b[0m \u001b[0mf\u001b[0m\u001b[0;34m.\u001b[0m\u001b[0mread\u001b[0m\u001b[0;34m(\u001b[0m\u001b[0;34m)\u001b[0m\u001b[0;34m\u001b[0m\u001b[0;34m\u001b[0m\u001b[0m\n\u001b[1;32m     60\u001b[0m \u001b[0mprint\u001b[0m\u001b[0;34m(\u001b[0m\u001b[0moriginal_contents\u001b[0m\u001b[0;34m)\u001b[0m\u001b[0;34m\u001b[0m\u001b[0;34m\u001b[0m\u001b[0m\n",
      "\u001b[0;31mFileNotFoundError\u001b[0m: [Errno 2] No such file or directory: 'cf_example1.txt'"
     ]
    }
   ],
   "source": [
    "class ContentFilter:\n",
    "    def __init__(self,FileName):\n",
    "        try:\n",
    "            with open(FileName,'r') as f:\n",
    "                self.name = FileName\n",
    "                self.content = f.readlines()\n",
    "                self.totalChar = sum([len(line) for line in self.content])\n",
    "                self.alphaChar = sum([word.isalpha() for line in self.content for word in line])\n",
    "                self.numerChar = sum([word.isdigit() for line in self.content for word in line])\n",
    "                self.spaceChar = sum([word.isspace() for line in self.content for word in line])\n",
    "                self.numLine = len(self.content)\n",
    "                \n",
    "        except (FileNotFoundError,TypeError,OSError) as e:\n",
    "            print(e)\n",
    "            ValidName = input(\"Please enter a valid file name: \")\n",
    "            self.__init__(ValidName)\n",
    "\n",
    "    def uniform(self,outfile,mode='w',case='upper'):\n",
    "        if mode not in ['w','x','a']:\n",
    "            raise ValueError(\"Mode must be 'w', 'r', or 'a '\")\n",
    "        elif case.strip() not in ['lower','upper']:\n",
    "            raise ValueError(\"Case must be 'upper' or 'lower'\")\n",
    "            \n",
    "        with open(outfile,mode) as outfile:\n",
    "            if case.strip() == 'upper':\n",
    "                for line in self.content:\n",
    "                    outfile.write(line.upper())\n",
    "            else:\n",
    "                for line in self.content:\n",
    "                    outfile.write(line.lower())\n",
    "                    \n",
    "    def reverse(self,outfile,mode='w',unit='line'):\n",
    "        if unit.strip() not in ['word','line']:\n",
    "            raise ValueError(\"Unit must be 'line' or 'word'\")\n",
    "            \n",
    "        with open(outfile,mode) as outfile:\n",
    "            if unit.strip() == 'line':\n",
    "                outfile.writelines(reversed(self.content))\n",
    "            else:\n",
    "                outfile.writelines(self.content[::-1])\n",
    "                    \n",
    "    def transpose(self,outfile,mode='w'):\n",
    "        with open(outfile,mode) as outfile:\n",
    "            outfile.writelines(' '.join(line) + \"\\n\" for line in zip(*self.content))\n",
    "                \n",
    "    def __str__(self):\n",
    "        text =  \"Source file:\\t\\t <{}>\\n\".format(self.name)\n",
    "        text += \"Total characters:\\t < {} >\\n\".format(self.totalChar)\n",
    "        text += \"Alphabetic characters:\\t < {} >\\n\".format(self.alphaChar)\n",
    "        text += \"Numerical characters:\\t < {} >\\n\".format(self.numerChar)\n",
    "        text += \"Whitespace characters:\\t < {} >\\n\".format(self.spaceChar)\n",
    "        text += \"Number of lines:\\t < {} >\\n\".format(self.numLine)\n",
    "        \n",
    "        return text\n",
    "    \n",
    "# check the original content\n",
    "\n",
    "f = open('cf_example1.txt','r')\n",
    "original_contents = f.read()\n",
    "print(original_contents)\n",
    "f.close"
   ]
  },
  {
   "cell_type": "code",
   "execution_count": null,
   "metadata": {},
   "outputs": [],
   "source": [
    "cf = ContentFilter(\"cf_example1.txt\")\n",
    "cf.uniform(\"uniform.txt\",mode=\"w\",case=\"upper\")\n",
    "cf.uniform(\"uniform.txt\",mode=\"a\",case=\"lower\")\n",
    "cf.reverse(\"reverse.txt\",mode=\"w\",unit=\"word\")\n",
    "cf.reverse(\"reverse.txt\",mode=\"a\",unit=\"line\")\n",
    "cf.transpose(\"transpose.txt\",mode=\"w\")\n",
    "\n",
    "# check the uniform.txt file\n",
    "f = open('uniform.txt','r')\n",
    "contents = f.read()\n",
    "print(contents)\n",
    "f.close"
   ]
  },
  {
   "cell_type": "code",
   "execution_count": null,
   "metadata": {},
   "outputs": [],
   "source": [
    "# check the transpose.txt file\n",
    "f = open('transpose.txt','r')\n",
    "contents = f.read()\n",
    "print(contents)\n",
    "f.close\n"
   ]
  },
  {
   "cell_type": "code",
   "execution_count": null,
   "metadata": {},
   "outputs": [],
   "source": [
    "print(cf)"
   ]
  }
 ],
 "metadata": {
  "kernelspec": {
   "display_name": "Python 3",
   "language": "python",
   "name": "python3"
  },
  "language_info": {
   "codemirror_mode": {
    "name": "ipython",
    "version": 3
   },
   "file_extension": ".py",
   "mimetype": "text/x-python",
   "name": "python",
   "nbconvert_exporter": "python",
   "pygments_lexer": "ipython3",
   "version": "3.7.3"
  }
 },
 "nbformat": 4,
 "nbformat_minor": 2
}
