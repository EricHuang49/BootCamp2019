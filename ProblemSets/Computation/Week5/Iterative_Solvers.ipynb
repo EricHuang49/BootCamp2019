{
 "cells": [
  {
   "cell_type": "markdown",
   "metadata": {},
   "source": [
    "# ACME: Iterative Solvers\n",
    "## Jincheng(Eric) Huang"
   ]
  },
  {
   "cell_type": "markdown",
   "metadata": {},
   "source": [
    "1. Write a function that accepts a matrix $A$, a vector $b$, a convergence tolerance tol, and a maximum number of iterations `maxiters`. Implement the Jacobi method using (16.2), returning the approximate solution to the equation $Ax = b$.\n",
    "\n",
    "    Run the iteration until $\\left\\|\\mathbf{x}^{(k-1)}-\\mathbf{x}^{(k)}\\right\\|_{\\infty}<tol$, and only iterate at most maxiters times. Avoid using `la.inv()` to calculate $D^{-1}$, but use `la.norm()` to calculate the vector $\\infty$-norm $\\|\\mathbf{x}\\|_{\\infty}=\\sup \\left|x_{i}\\right|$.\n",
    "    \n",
    "    Your function should be robust enough to accept systems of any size. To test your function, generate a random $\\mathbb{b}$ with `np.random.random()` and use the following function to generate an $n\\times n$ matrix $A$ for which the Jacobi method is guaranteed to converge. Run the iteration, then check that $Ax(k)$ and $b$ are close using `np.allclose()`."
   ]
  },
  {
   "cell_type": "code",
   "execution_count": 1,
   "metadata": {},
   "outputs": [],
   "source": [
    "def diag_dom(n, num_entries=None):\n",
    "    \"\"\"Generate a strictly diagonally dominant (n, n) matrix.\n",
    "    Parameters:\n",
    "    n (int): The dimension of the system.\n",
    "    num_entries (int): The number of nonzero values.\n",
    "    Defaults to n^(3/2)-n.\n",
    "    Returns:\n",
    "    A ((n,n) ndarray): A (n, n) strictly diagonally dominant matrix.\n",
    "    \"\"\"\n",
    "    if num_entries is None:\n",
    "        num_entries = int(n**1.5) - n\n",
    "    A = np.zeros((n,n))\n",
    "    rows = np.random.choice(np.arange(0,n), size=num_entries)\n",
    "    cols = np.random.choice(np.arange(0,n), size=num_entries)\n",
    "    data = np.random.randint(-4, 4, size=num_entries)\n",
    "    for i in range(num_entries):\n",
    "        A[rows[i], cols[i]] = data[i]\n",
    "    for i in range(n):\n",
    "        A[i,i] = np.sum(np.abs(A[i])) + 1\n",
    "    return A"
   ]
  },
  {
   "cell_type": "markdown",
   "metadata": {},
   "source": [
    "Also test your function on random $n \\times n$ matrices. If the iteration is non-convergent, the successive approximations will have increasingly large entries."
   ]
  },
  {
   "cell_type": "code",
   "execution_count": 2,
   "metadata": {},
   "outputs": [],
   "source": [
    "def jacobi_solver(A,b,tol,maxiters,plot=False):\n",
    "    \"\"\"Use the Jacobi method to solve for a system of linear equations Ax = b\n",
    "    Parameters:\n",
    "    A: An n by n matrix of coefficients\n",
    "    b: An n by 1 vector\n",
    "    Returns:\n",
    "    x: solution to the system\n",
    "    robust: whether the convergence criterion is met\n",
    "    \"\"\"\n",
    "    n = A.shape[0]\n",
    "    x = np.ones((n,1))\n",
    "    b = b.reshape((n,1))\n",
    "    D = np.diag(A)\n",
    "    D_inv = np.diag(1/D)\n",
    "    diff = np.inf\n",
    "    abs_error = []\n",
    "    niter = 1\n",
    "    \n",
    "    while diff > tol and niter <= maxiters:\n",
    "        x_new = x + D_inv.dot(b-A.dot(x))\n",
    "        diff = la.norm(x_new-x,np.inf)\n",
    "        x = x_new.copy()\n",
    "        abs_error.append(diff)\n",
    "        \n",
    "        niter = niter + 1\n",
    "        \n",
    "    robust = np.allclose(diff, 0)\n",
    "    \n",
    "    if plot:\n",
    "        plt.semilogy(np.arange(1,niter,1),abs_error)\n",
    "        plt.title('Convergence of Jacobi Method')\n",
    "        plt.xlabel('Iteration')\n",
    "        plt.ylabel('Absolute Error of Approximation')\n",
    "        plt.show()\n",
    "    return x,robust"
   ]
  },
  {
   "cell_type": "markdown",
   "metadata": {},
   "source": [
    "2. Modify your Jacobi method function in the following ways.\n",
    "\n",
    "    1) Add a keyword argument called `plot`, defaulting to `False`.\n",
    "    \n",
    "    2) Keep track of the absolute error $\\left\\|A \\mathbf{x}^{(k)}-\\mathbf{b}\\right\\|_{\\infty}$ of the approximation at each iteration.\n",
    "    \n",
    "    3) If `plot` is True, produce a lin-log plot (use `plt.semilogy())` of the error against iteration count. Remember to still return the approximate solution $x$."
   ]
  },
  {
   "cell_type": "code",
   "execution_count": 3,
   "metadata": {},
   "outputs": [],
   "source": [
    "import numpy as np\n",
    "import scipy as sp\n",
    "import scipy.linalg as la\n",
    "import matplotlib.pyplot as plt"
   ]
  },
  {
   "cell_type": "code",
   "execution_count": 4,
   "metadata": {},
   "outputs": [
    {
     "data": {
      "image/png": "[encoded data removed]",
      "text/plain": [
       "<Figure size 432x288 with 1 Axes>"
      ]
     },
     "metadata": {
      "needs_background": "light"
     },
     "output_type": "display_data"
    }
   ],
   "source": [
    "A = diag_dom(5)\n",
    "x,robust = jacobi_solver(A,np.random.random(5),1e-6,100,plot=True)"
   ]
  },
  {
   "cell_type": "code",
   "execution_count": 5,
   "metadata": {},
   "outputs": [
    {
     "name": "stdout",
     "output_type": "stream",
     "text": [
      "[[ 0.28671186]\n",
      " [-0.00166867]\n",
      " [ 0.21181361]\n",
      " [-0.01877712]\n",
      " [ 0.30467043]]\n",
      "The Jacobi method has converged: False\n"
     ]
    }
   ],
   "source": [
    "# Print the result\n",
    "print(x)\n",
    "print('The Jacobi method has converged: %r' %robust)"
   ]
  },
  {
   "cell_type": "markdown",
   "metadata": {},
   "source": [
    "3. Write a function that accepts a matrix $A$, a vector $b$, a convergence tolerance `tol`, a maximum number of iterations maxiters, and a keyword argument plot that defaults to `False`. Implement the Gauss-Seidel method using (16.4), returning the approximate solution to the equation $Ax = b$."
   ]
  },
  {
   "cell_type": "code",
   "execution_count": 6,
   "metadata": {},
   "outputs": [],
   "source": [
    "def gauss_seidel_solver(A, b, tol = 1e-6, maxiter = 500, plot = False):\n",
    "    \n",
    "    b = b.reshape(len(b), 1)\n",
    "    x = np.zeros_like(b)\n",
    "    xp = np.zeros_like(b)\n",
    "    abserror = []\n",
    "    \n",
    "    for i in range(maxiter):\n",
    "        for j in range(len(A)):\n",
    "            xp[j, :] = x[j, :] + 1/A[j, j] * (b[j, :] - A[j, :] @ x)\n",
    "        \n",
    "        diff = la.norm(xp - x, np.inf)\n",
    "        x = xp.copy()\n",
    "        abserror.append(la.norm(A@x - b, np.inf))\n",
    "        \n",
    "        if diff < tol:\n",
    "            break\n",
    "            \n",
    "    if plot:\n",
    "        plt.semilogy(np.arange(1, i+2, 1), abserror)\n",
    "        plt.title('Convergence of Guass_Seidel Method')\n",
    "        plt.xlabel('Iteration')\n",
    "        plt.ylabel('Absolute Error of Approximation')\n",
    "        plt.show()\n",
    "        \n",
    "    robust = np.allclose(A @ x, b)\n",
    "        \n",
    "    return x,robust"
   ]
  },
  {
   "cell_type": "code",
   "execution_count": 7,
   "metadata": {},
   "outputs": [
    {
     "data": {
      "image/png": "[encoded data removed]",
      "text/plain": [
       "<Figure size 432x288 with 1 Axes>"
      ]
     },
     "metadata": {
      "needs_background": "light"
     },
     "output_type": "display_data"
    }
   ],
   "source": [
    "x,robust = gauss_seidel_solver(diag_dom(5), np.random.random(5), plot = True)"
   ]
  },
  {
   "cell_type": "code",
   "execution_count": 8,
   "metadata": {},
   "outputs": [
    {
     "name": "stdout",
     "output_type": "stream",
     "text": [
      "[[0.05645351]\n",
      " [0.15600087]\n",
      " [0.72305985]\n",
      " [0.36134397]\n",
      " [0.06858943]]\n",
      "The Gauss-Seidel method has converged: True\n"
     ]
    }
   ],
   "source": [
    "# Print results\n",
    "print(x)\n",
    "print('The Gauss-Seidel method has converged: %r' %robust)"
   ]
  },
  {
   "cell_type": "markdown",
   "metadata": {},
   "source": [
    "4. Write a new function that accepts a sparse matrix $A$, a vector $b$, a convergence tolerance $tol$, and a maximum number of iterations `maxiters` (plotting the convergence is not required for this problem). Implement the Gauss-Seidel method using (16.4), returning the approximate solution to the equation $Ax = b$. Use the usual stopping criterion.\n",
    "\n",
    "    The Gauss-Seidel method requires extracting the rows $A_i$ from the matrix $A$ and computing $A^T_ix$. There are many ways to do this that cause some fairly serious runtime issues, so we provide the code for this specific portion of the algorithm.\n",
    "    \n",
    "    To test your function, cast the result of diag_dom() as a sparse matrix."
   ]
  },
  {
   "cell_type": "code",
   "execution_count": 9,
   "metadata": {},
   "outputs": [],
   "source": [
    "from scipy import sparse"
   ]
  },
  {
   "cell_type": "code",
   "execution_count": 14,
   "metadata": {},
   "outputs": [],
   "source": [
    "def GS_sparse(A, b, tol = 1e-6, maxiter = 1000):\n",
    "    \n",
    "    b = b.reshape(len(b), 1)\n",
    "    x = np.zeros_like(b)\n",
    "    xp = np.zeros_like(b)\n",
    "    abserror = []\n",
    "    \n",
    "    for i in range(maxiter):\n",
    "        for j in range(len(b)):\n",
    "            # deal with sparse matrix\n",
    "            rowstart = A.indptr[j]\n",
    "            rowend = A.indptr[j+1]\n",
    "            Aix = A.data[rowstart: rowend] @ x[A.indices[rowstart: rowend]]\n",
    "            xp[j, :] = x[j, :] + 1/A[j, j] * (b[j, :] - Aix)\n",
    "        \n",
    "        diff = la.norm(xp - x, np.inf)\n",
    "        x = xp.copy()\n",
    "        abserror.append(la.norm(A@x - b, np.inf))\n",
    "        \n",
    "        if diff < tol:\n",
    "            break\n",
    "            \n",
    "        \n",
    "    robust = np.allclose(A @ x, b)\n",
    "        \n",
    "    return x,robust"
   ]
  },
  {
   "cell_type": "code",
   "execution_count": 15,
   "metadata": {},
   "outputs": [],
   "source": [
    "C = sp.sparse.csr_matrix(diag_dom(5000))"
   ]
  },
  {
   "cell_type": "code",
   "execution_count": 16,
   "metadata": {},
   "outputs": [],
   "source": [
    "x,robust = GS_sparse(C, np.random.random(5000))"
   ]
  },
  {
   "cell_type": "code",
   "execution_count": 17,
   "metadata": {},
   "outputs": [
    {
     "name": "stdout",
     "output_type": "stream",
     "text": [
      "[[0.00776347]\n",
      " [0.00446686]\n",
      " [0.00116636]\n",
      " ...\n",
      " [0.0043238 ]\n",
      " [0.00739404]\n",
      " [0.00456112]]\n",
      "The Gauss-Seidel method has converged: False\n"
     ]
    }
   ],
   "source": [
    "# Print results\n",
    "print(x)\n",
    "print('The Gauss-Seidel method has converged: %r' %robust)"
   ]
  },
  {
   "cell_type": "markdown",
   "metadata": {},
   "source": [
    "5. Write a function that accepts a sparse matrix $A$, a vector $b$, a relaxation factor $\\omega$, a convergence tolerance $tol$, and a maximum number of iterations maxiters. Implement SOR using (16.5), compute the approximate solution to the equation $Ax = b$. Use the usual stopping criterion. Return the approximate solution x as well as the number of iterations computed. (Hint: this requires changing only one line of code from the sparse Gauss-Seidel function.)"
   ]
  },
  {
   "cell_type": "code",
   "execution_count": 18,
   "metadata": {},
   "outputs": [],
   "source": [
    "def SOR_sparse(A, b, tol = 1e-6, ω = 1, maxiter = 1000, plot = False):\n",
    "    \n",
    "    b = b.reshape(len(b), 1)\n",
    "    x = np.zeros_like(b)\n",
    "    xp = np.zeros_like(b)\n",
    "    abserror = []\n",
    "    \n",
    "    for i in range(maxiter):\n",
    "        for j in range(len(b)):\n",
    "            # deal with sparse matrix\n",
    "            rowstart = A.indptr[j]\n",
    "            rowend = A.indptr[j+1]\n",
    "            Ai = A.data[rowstart: rowend].reshape(1, len(A.indices[rowstart: rowend]))\n",
    "            Aix = Ai @ x[A.indices[rowstart: rowend]]\n",
    "            xp[j, :] = x[j, :] + (ω/A[j, j]) * (b[j, :] - Aix)\n",
    "        \n",
    "        diff = la.norm(xp - x, np.inf)\n",
    "        x = xp.copy()\n",
    "        abserror.append(la.norm(A@x - b, np.inf))\n",
    "        \n",
    "        if diff < tol:\n",
    "            break\n",
    "            \n",
    "    if plot:\n",
    "        plt.semilogy(np.arange(1, i+2, 1), abserror)\n",
    "        plt.title('Convergence of Guass_Seidel Method')\n",
    "        plt.xlabel('Iteration')\n",
    "        plt.ylabel('Absolute Error of Approximation')\n",
    "        plt.show()\n",
    "        \n",
    "    iterations = i+1\n",
    "    \n",
    "    return x, iterations"
   ]
  },
  {
   "cell_type": "code",
   "execution_count": 19,
   "metadata": {},
   "outputs": [
    {
     "data": {
      "image/png": "[encoded data removed]",
      "text/plain": [
       "<Figure size 432x288 with 1 Axes>"
      ]
     },
     "metadata": {
      "needs_background": "light"
     },
     "output_type": "display_data"
    }
   ],
   "source": [
    "x,iterations = SOR_sparse(C, np.random.random(5000), plot = True)"
   ]
  },
  {
   "cell_type": "markdown",
   "metadata": {},
   "source": [
    "6. Write a function that accepts an integer $n$, a relaxation factor $\\omega$, a convergence tolerance $tol$ that defaults to $10^{-8}$, a maximum number of iterations maxiters that defaults to 100, and a bool plot that defaults to `False`. Generate and solve the corresponding system $Au = b$ using Problem 5. Also return the number of iterations computed. (Hint: see Problem 5 of the Linear Systems lab for the construction of $A$. Also, `np.tile()` may be useful for constructing $b$.)\n",
    "\n",
    "    If `plot=True`, visualize the solution $u$ with a heatmap using `plt.pcolormesh()` (the colormap \"coolwarm\" is a good choice in this case). This shows the distribution of heat over the hot plate after it has reached its steady state. Note that the $u$ must be reshaped as an $n \\times n$ array to properly visualize the result."
   ]
  },
  {
   "cell_type": "code",
   "execution_count": 20,
   "metadata": {},
   "outputs": [],
   "source": [
    "def heat_finite_difference(n, ω, tol = 1e-2, maxiter = 1000, plot = False):\n",
    "    \n",
    "    # B\n",
    "    B = sp.sparse.diags([1, -4, 1], [-1, 0, 1], shape = (n, n))\n",
    "    \n",
    "    # A\n",
    "    I = sp.sparse.diags([1], shape = (n, n)) # identity\n",
    "\n",
    "    Amat = []\n",
    "    for i in range(n):\n",
    "        Arow = []\n",
    "        for j in range(n):\n",
    "            if j < i - 1:\n",
    "                Arow.append(None)\n",
    "            elif j == i - 1:\n",
    "                Arow.append(I)\n",
    "            elif j == i:\n",
    "                Arow.append(B)\n",
    "            elif j == i + 1:\n",
    "                Arow.append(I)\n",
    "            else:\n",
    "                Arow.append(None)\n",
    "        Amat.append(Arow)\n",
    "        \n",
    "    A = sp.sparse.bmat(Amat, format = 'csr')\n",
    "    lilb = np.zeros(n)\n",
    "    lilb[0] = -100\n",
    "    lilb[-1] = -100\n",
    "    b = np.tile(lilb, n)\n",
    "\n",
    "    u, iterations = SOR_sparse(A, b, tol, ω, maxiter, plot = False)\n",
    "    \n",
    "    if plot:\n",
    "        xx = np.linspace(0, n ,n+1)\n",
    "        yy = np.linspace(0, n, n+1)\n",
    "        X, Y = np.meshgrid(xx, yy)\n",
    "        u_2d = u.reshape((n, n))\n",
    "        plt.figure(figsize = (9,7))\n",
    "        plt.pcolormesh(X, Y, u_2d, cmap = 'coolwarm')\n",
    "        plt.title('heat')\n",
    "        plt.colorbar()\n",
    "        plt.show()\n",
    "    \n",
    "    return u, iterations"
   ]
  },
  {
   "cell_type": "code",
   "execution_count": 21,
   "metadata": {},
   "outputs": [
    {
     "data": {
      "image/png": "[encoded data removed]",
      "text/plain": [
       "<Figure size 648x504 with 2 Axes>"
      ]
     },
     "metadata": {
      "needs_background": "light"
     },
     "output_type": "display_data"
    }
   ],
   "source": [
    "u, iterations = heat_finite_difference(20, 1, plot = True)"
   ]
  },
  {
   "cell_type": "markdown",
   "metadata": {},
   "source": [
    "7. To demonstrate how convergence is affected by the value of the relaxation factor $\\omega$ in SOR, run your function from Problem 6 with $\\omega = 1, 1.05, 1.1, ... , 1.9, 1.95$ and $n = 20$. Plot the number of computed iterations as a function of $\\omega$. Return the value of $\\omega$ that results in the least number of iterations.\n",
    "\n",
    "    Note that the matrix $A$ from Problem 6 is not strictly diagonally dominant. However, $A$ is positive definite, so the algorithm will converge. Unfortunately, convergence for these kinds of systems usually requires more iterations than for strictly diagonally dominant systems. Therefore, set $tol=1e-2$ and $maxiters=1000$. Recall that $\\omega = 1$ corresponds to the Gauss-Seidel method. Choosing a more optimal relaxation factor saves a large number of iterations. This could translate to saving days or weeks of computation time while solving extremely large linear systems on a supercomputer."
   ]
  },
  {
   "cell_type": "code",
   "execution_count": 26,
   "metadata": {},
   "outputs": [],
   "source": [
    "def compare_relaxation(n):\n",
    "    ωlist = np.arange(0.01, 1, 0.05)\n",
    "    iterations = []\n",
    "    \n",
    "    for ω in ωlist:\n",
    "        u, iters = heat_finite_difference(n, ω, plot = False)\n",
    "        iterations.append(iters)\n",
    "    \n",
    "    fig = plt.figure(figsize=(7, 7))\n",
    "    plt.plot(ωlist, iterations)\n",
    "    plt.xlabel('$\\omega$')\n",
    "    plt.ylabel('Number of Iterations')\n",
    "    plt.title('convergence rate vs relaxation factor')\n",
    "    plt.show()\n",
    "    \n",
    "    iterations = np.array(iterations)\n",
    "    return ωlist[np.argmin(iterations)]"
   ]
  },
  {
   "cell_type": "code",
   "execution_count": 27,
   "metadata": {},
   "outputs": [
    {
     "data": {
      "image/png": "[encoded data removed]",
      "text/plain": [
       "<Figure size 504x504 with 1 Axes>"
      ]
     },
     "metadata": {
      "needs_background": "light"
     },
     "output_type": "display_data"
    }
   ],
   "source": [
    "ωlist = compare_relaxation(10)"
   ]
  },
  {
   "cell_type": "code",
   "execution_count": null,
   "metadata": {},
   "outputs": [],
   "source": []
  }
 ],
 "metadata": {
  "kernelspec": {
   "display_name": "Python 3",
   "language": "python",
   "name": "python3"
  },
  "language_info": {
   "codemirror_mode": {
    "name": "ipython",
    "version": 3
   },
   "file_extension": ".py",
   "mimetype": "text/x-python",
   "name": "python",
   "nbconvert_exporter": "python",
   "pygments_lexer": "ipython3",
   "version": "3.7.3"
  }
 },
 "nbformat": 4,
 "nbformat_minor": 2
}
