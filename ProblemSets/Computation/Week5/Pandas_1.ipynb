{
 "cells": [
  {
   "cell_type": "markdown",
   "metadata": {},
   "source": [
    "# ACME: Pandas 1\n",
    "## Jincheng(Eric) Huang"
   ]
  },
  {
   "cell_type": "code",
   "execution_count": 1,
   "metadata": {},
   "outputs": [],
   "source": [
    "import pandas as pd\n",
    "import numpy as np"
   ]
  },
  {
   "cell_type": "markdown",
   "metadata": {},
   "source": [
    "1. Create a pandas `Series` where the index labels are even integers $0,2,...,50$, and the entries are $n^2-1$, where $n$ is the entry's label. Set all of the entries equal to zero whose labels are divisible by $3$."
   ]
  },
  {
   "cell_type": "code",
   "execution_count": 2,
   "metadata": {},
   "outputs": [],
   "source": [
    "entries = np.arange(0,26,1)**2-1\n",
    "idx = 2*np.arange(0,26,1)\n",
    "s1 = pd.Series(entries,index=idx)\n",
    "s1[[i for i in s1.index if i%3==0]] = 0"
   ]
  },
  {
   "cell_type": "markdown",
   "metadata": {},
   "source": [
    "2. Suppose you make an investment of $d$ dollars in a particularly volatile stock. Every day the value of your stock goes up by $\\$1$ with probability $p$, or down by $\\$1$ with probability $1-p$ (this is an example of a _random walk_).\n",
    "\n",
    "    Write a function that accepts a probability parameter $p$ and an initial amount of money $d$, defaulting to 100. Use `pd.date_range()` to create an index of the days from 1 January 2000 to 31 December 2000. Simulate the daily change of the stock by making one draw from a Bernoulli distribution with parameter $p$ (a binomial distribution with one draw) for each day.\n",
    "\n",
    "    Store the draws in a pandas `Series` with the date index and set the first draw to the initial amount $d$. Sum the entries cumulatively to get the stock value by day. Set any negative values to 0, then plot the series using the `plot()` method of the `Series` object.\n",
    "\n",
    "    Call your function with a few different values of $p$ and $d$ to observe the different possible kinds of behavior."
   ]
  },
  {
   "cell_type": "code",
   "execution_count": 3,
   "metadata": {},
   "outputs": [
    {
     "name": "stdout",
     "output_type": "stream",
     "text": [
      "2000-01-01    100.0\n",
      "2000-01-02    101.0\n",
      "2000-01-03    102.0\n",
      "2000-01-04    103.0\n",
      "2000-01-05    104.0\n",
      "2000-01-06    103.0\n",
      "2000-01-07    104.0\n",
      "2000-01-08    103.0\n",
      "2000-01-09    102.0\n",
      "2000-01-10    103.0\n",
      "2000-01-11    102.0\n",
      "2000-01-12    103.0\n",
      "2000-01-13    102.0\n",
      "2000-01-14    103.0\n",
      "2000-01-15    104.0\n",
      "2000-01-16    103.0\n",
      "2000-01-17    104.0\n",
      "2000-01-18    105.0\n",
      "2000-01-19    104.0\n",
      "2000-01-20    103.0\n",
      "2000-01-21    104.0\n",
      "2000-01-22    105.0\n",
      "2000-01-23    106.0\n",
      "2000-01-24    107.0\n",
      "2000-01-25    106.0\n",
      "2000-01-26    107.0\n",
      "2000-01-27    108.0\n",
      "2000-01-28    109.0\n",
      "2000-01-29    108.0\n",
      "2000-01-30    109.0\n",
      "              ...  \n",
      "2000-12-02    112.0\n",
      "2000-12-03    113.0\n",
      "2000-12-04    114.0\n",
      "2000-12-05    115.0\n",
      "2000-12-06    116.0\n",
      "2000-12-07    115.0\n",
      "2000-12-08    116.0\n",
      "2000-12-09    117.0\n",
      "2000-12-10    116.0\n",
      "2000-12-11    115.0\n",
      "2000-12-12    116.0\n",
      "2000-12-13    117.0\n",
      "2000-12-14    118.0\n",
      "2000-12-15    117.0\n",
      "2000-12-16    118.0\n",
      "2000-12-17    119.0\n",
      "2000-12-18    118.0\n",
      "2000-12-19    117.0\n",
      "2000-12-20    118.0\n",
      "2000-12-21    119.0\n",
      "2000-12-22    120.0\n",
      "2000-12-23    119.0\n",
      "2000-12-24    120.0\n",
      "2000-12-25    119.0\n",
      "2000-12-26    120.0\n",
      "2000-12-27    119.0\n",
      "2000-12-28    118.0\n",
      "2000-12-29    119.0\n",
      "2000-12-30    118.0\n",
      "2000-12-31    119.0\n",
      "Freq: D, Length: 366, dtype: float64\n"
     ]
    }
   ],
   "source": [
    "def simulate_wealth(p,d=None):\n",
    "    if d is None:\n",
    "        d = 100\n",
    "    \n",
    "    dates = pd.date_range(\"1/1/2000\",\"12/31/2000\",freq='D')\n",
    "    nDates = len(dates)\n",
    "    bernoulli_draws = pd.Series(np.random.binomial(1,p,nDates),index=dates)\n",
    "    bernoulli_draws = bernoulli_draws+ (-1)*(bernoulli_draws==0)\n",
    "    bernoulli_draws[0] = 0\n",
    "    cum_draws = bernoulli_draws.cumsum()\n",
    "    wealth_series = pd.Series(d*np.ones(nDates),index=dates)\n",
    "    wealth_series = wealth_series + cum_draws\n",
    "    wealth_series[wealth_series<0] = 0\n",
    "    print(wealth_series)\n",
    "    wealth_series.plot()\n",
    "    \n",
    "simulate_wealth(.5)"
   ]
  },
  {
   "cell_type": "markdown",
   "metadata": {},
   "source": [
    "3. Use pandas to execute the query using the example in _Pandas1.pdf_:\n",
    "\n",
    "    SELECT ID, Name from studentInfo WHERE Age > 19 AND Sex = 'M'"
   ]
  },
  {
   "cell_type": "code",
   "execution_count": 4,
   "metadata": {},
   "outputs": [],
   "source": [
    "#build toy data for SQL operations\n",
    "name = ['Mylan', 'Regan', 'Justin', 'Jess', 'Jason', 'Remi', 'Matt', 'Alexander', 'JeanMarie']\n",
    "sex = ['M', 'F', 'M', 'F', 'M', 'F', 'M', 'M', 'F']\n",
    "age = [20, 21, 18, 22, 19, 20, 20, 19, 20]\n",
    "rank = ['Sp', 'Se', 'Fr', 'Se', 'Sp', 'J', 'J', 'J', 'Se']\n",
    "ID = range(9)\n",
    "aid = ['y', 'n', 'n', 'y', 'n', 'n', 'n', 'y', 'n']\n",
    "GPA = [3.8, 3.5, 3.0, 3.9, 2.8, 2.9, 3.8, 3.4, 3.7]\n",
    "mathID = [0, 1, 5, 6, 3]\n",
    "mathGd = [4.0, 3.0, 3.5, 3.0, 4.0]\n",
    "major = ['y', 'n', 'y', 'n', 'n']\n",
    "studentInfo = pd.DataFrame({'ID': ID, 'Name': name, 'Sex': sex, 'Age': age,'Class': rank})\n",
    "otherInfo = pd.DataFrame({'ID': ID, 'GPA': GPA, 'Financial_Aid': aid})\n",
    "mathInfo = pd.DataFrame({'ID': mathID, 'Grade': mathGd, 'Math_Major': major})"
   ]
  },
  {
   "cell_type": "code",
   "execution_count": 5,
   "metadata": {},
   "outputs": [
    {
     "data": {
      "text/html": [
       "<div>\n",
       "<style scoped>\n",
       "    .dataframe tbody tr th:only-of-type {\n",
       "        vertical-align: middle;\n",
       "    }\n",
       "\n",
       "    .dataframe tbody tr th {\n",
       "        vertical-align: top;\n",
       "    }\n",
       "\n",
       "    .dataframe thead th {\n",
       "        text-align: right;\n",
       "    }\n",
       "</style>\n",
       "<table border=\"1\" class=\"dataframe\">\n",
       "  <thead>\n",
       "    <tr style=\"text-align: right;\">\n",
       "      <th></th>\n",
       "      <th>ID</th>\n",
       "      <th>Name</th>\n",
       "    </tr>\n",
       "  </thead>\n",
       "  <tbody>\n",
       "    <tr>\n",
       "      <th>0</th>\n",
       "      <td>0</td>\n",
       "      <td>Mylan</td>\n",
       "    </tr>\n",
       "    <tr>\n",
       "      <th>6</th>\n",
       "      <td>6</td>\n",
       "      <td>Matt</td>\n",
       "    </tr>\n",
       "  </tbody>\n",
       "</table>\n",
       "</div>"
      ],
      "text/plain": [
       "   ID   Name\n",
       "0   0  Mylan\n",
       "6   6   Matt"
      ]
     },
     "execution_count": 5,
     "metadata": {},
     "output_type": "execute_result"
    }
   ],
   "source": [
    "studentInfo[(studentInfo['Age']>19) & (studentInfo['Sex']=='M')][['ID','Name']]"
   ]
  },
  {
   "cell_type": "markdown",
   "metadata": {},
   "source": [
    "4. Using a join operation, create a `DataFrame` containing the ID, age, and GPA of all male individuals. You ought to be able to accomplish this in one line of code."
   ]
  },
  {
   "cell_type": "code",
   "execution_count": 6,
   "metadata": {},
   "outputs": [
    {
     "data": {
      "text/html": [
       "<div>\n",
       "<style scoped>\n",
       "    .dataframe tbody tr th:only-of-type {\n",
       "        vertical-align: middle;\n",
       "    }\n",
       "\n",
       "    .dataframe tbody tr th {\n",
       "        vertical-align: top;\n",
       "    }\n",
       "\n",
       "    .dataframe thead th {\n",
       "        text-align: right;\n",
       "    }\n",
       "</style>\n",
       "<table border=\"1\" class=\"dataframe\">\n",
       "  <thead>\n",
       "    <tr style=\"text-align: right;\">\n",
       "      <th></th>\n",
       "      <th>ID</th>\n",
       "      <th>Age</th>\n",
       "      <th>GPA</th>\n",
       "    </tr>\n",
       "  </thead>\n",
       "  <tbody>\n",
       "    <tr>\n",
       "      <th>0</th>\n",
       "      <td>0</td>\n",
       "      <td>20</td>\n",
       "      <td>3.8</td>\n",
       "    </tr>\n",
       "    <tr>\n",
       "      <th>1</th>\n",
       "      <td>2</td>\n",
       "      <td>18</td>\n",
       "      <td>3.0</td>\n",
       "    </tr>\n",
       "    <tr>\n",
       "      <th>2</th>\n",
       "      <td>4</td>\n",
       "      <td>19</td>\n",
       "      <td>2.8</td>\n",
       "    </tr>\n",
       "    <tr>\n",
       "      <th>3</th>\n",
       "      <td>6</td>\n",
       "      <td>20</td>\n",
       "      <td>3.8</td>\n",
       "    </tr>\n",
       "    <tr>\n",
       "      <th>4</th>\n",
       "      <td>7</td>\n",
       "      <td>19</td>\n",
       "      <td>3.4</td>\n",
       "    </tr>\n",
       "  </tbody>\n",
       "</table>\n",
       "</div>"
      ],
      "text/plain": [
       "   ID  Age  GPA\n",
       "0   0   20  3.8\n",
       "1   2   18  3.0\n",
       "2   4   19  2.8\n",
       "3   6   20  3.8\n",
       "4   7   19  3.4"
      ]
     },
     "execution_count": 6,
     "metadata": {},
     "output_type": "execute_result"
    }
   ],
   "source": [
    "pd.merge(studentInfo[studentInfo['Sex']=='M'],otherInfo[studentInfo['Sex']=='M'],on='ID')[['ID','Age','GPA']]"
   ]
  },
  {
   "cell_type": "code",
   "execution_count": null,
   "metadata": {},
   "outputs": [],
   "source": []
  }
 ],
 "metadata": {
  "kernelspec": {
   "display_name": "Python 3",
   "language": "python",
   "name": "python3"
  },
  "language_info": {
   "codemirror_mode": {
    "name": "ipython",
    "version": 3
   },
   "file_extension": ".py",
   "mimetype": "text/x-python",
   "name": "python",
   "nbconvert_exporter": "python",
   "pygments_lexer": "ipython3",
   "version": "3.7.3"
  }
 },
 "nbformat": 4,
 "nbformat_minor": 2
}
