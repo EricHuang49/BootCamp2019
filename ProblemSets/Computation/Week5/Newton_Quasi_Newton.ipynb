{
 "cells": [
  {
   "cell_type": "markdown",
   "metadata": {},
   "source": [
    "# ACME: Newton and Quasi-Newton Method\n",
    "## Jincheng(Eric) Huang"
   ]
  },
  {
   "cell_type": "markdown",
   "metadata": {},
   "source": [
    "1. Write a function that accepts functions $D f : \\mathbb{R}^{n} \\rightarrow \\mathbb{R}^{n}$ and $D^{2} f : \\mathbb{R}^{n} \\rightarrow \\mathbb{R}^{n \\times n}$, a starting point $\\mathbf{x}_{0} \\in \\mathbb{R}^{n}$ an integer $maxiter$, and a stopping tolerance $tol$. Use Newton’s method in (12.4) to optimize $f$. Return the final estimate $x_k$, whether or not the method converged (True or False), and the number of iterations computed.\n",
    "\n",
    "    Your implementation should include the following items.\n",
    "    \n",
    "    • Iterate until either $\\left\\|D f\\left(\\mathbf{x}_{k}\\right)\\right\\|_{\\infty}<\\operatorname{tol}$ or $k > maxiter$. The criteria $\\left\\|\\mathbf{x}_{k}-\\mathbf{x}_{k-1}\\right\\|<\\text { to } 1$ is also common, but making sure $Df$ is near zero works better in many circumstances.\n",
    "    \n",
    "    • Instead of inverting $D^{2} f\\left(\\mathbf{x}_{k}\\right)$ at each step, solve the equation $D^{2} f\\left(\\mathbf{x}_{k}\\right) \\mathbf{z}_{k}=D f\\left(\\mathbf{x}_{k}\\right)^{\\top}$ and compute $\\mathbf{x}_{k+1}=\\mathbf{x}_{k}-\\mathbf{z}_{k}$. In other words, use `la.solve()` instead of `la.inv()`.\n",
    "    \n",
    "    • Avoid recomputing values by only computing $Df(x_k)$ and $D^2f(x_k)$ once for each $k$.\n",
    "    \n",
    "    The Rosenbrock function is a common test function for optimization methods.\n",
    "    \n",
    "    $$ f(x, y)=100\\left(y-x^{2}\\right)^{2}+(1-x)^{2} $$\n",
    "    \n",
    "    The minimizer is $x^* = (1, 1)$ with minimum value $f(1, 1) = 0$. Test your function by minimizing the Rosenbrock function using an initial guess $\\mathbf{x}_{0}=(-2,2)$. The function and its derivatives are implemented as `rosen()`, `rosen_der()`, and `rosen_hess()` in `scipy.optimize`. Compare your results to `scipy.optimize.fmin_bfgs()`."
   ]
  },
  {
   "cell_type": "code",
   "execution_count": 1,
   "metadata": {},
   "outputs": [],
   "source": [
    "def Newton(df, d2f, x_guess, maxiter = 1000, tol = 1e-6):\n",
    "    \n",
    "    xk = x_guess.copy()\n",
    "    xkp1 = np.zeros_like(x0)\n",
    "    converge = False\n",
    "    \n",
    "    for i in range(np.int(maxiter)):\n",
    "        \n",
    "        threshold = la.norm(df(xk), np.inf)\n",
    "        \n",
    "        if threshold < tol:\n",
    "            converge = True\n",
    "            break\n",
    "        \n",
    "        else:\n",
    "            zk = la.solve(d2f(xk), df(xk))\n",
    "            xk -= zk\n",
    "    \n",
    "    \n",
    "    return xk, converge,i+1"
   ]
  },
  {
   "cell_type": "code",
   "execution_count": 2,
   "metadata": {},
   "outputs": [],
   "source": [
    "import numpy as np\n",
    "import scipy as sp\n",
    "from scipy import optimize as opt\n",
    "from scipy import linalg as la\n",
    "import time\n",
    "import matplotlib.pyplot as plt"
   ]
  },
  {
   "cell_type": "code",
   "execution_count": 3,
   "metadata": {},
   "outputs": [],
   "source": [
    "# Rosenbrock function\n",
    "x0 = np.array([-2.,2.])\n",
    "f = opt.rosen\n",
    "df = opt.rosen_der\n",
    "d2f = opt.rosen_hess \n",
    "\n",
    "x,convergence,niter = Newton(df,d2f,x0)"
   ]
  },
  {
   "cell_type": "code",
   "execution_count": 4,
   "metadata": {},
   "outputs": [
    {
     "name": "stdout",
     "output_type": "stream",
     "text": [
      "[1. 1.]\n",
      "Newton method has converged: True\n",
      "Number of iterations 6\n"
     ]
    }
   ],
   "source": [
    "# Print the results\n",
    "print(x)\n",
    "print('Newton method has converged: %r' %convergence)\n",
    "print('Number of iterations %d' %niter)"
   ]
  },
  {
   "cell_type": "markdown",
   "metadata": {},
   "source": [
    "2. Write a function that accepts a function $D f : \\mathbb{R}^{n} \\rightarrow \\mathbb{R}^{n}$, a starting point $\\mathbf{x}_{0} \\in \\mathbb{R}^{n}$, an integer $maxiter$, and a stopping tolerance $tol$. Use BFGS as given in (12.6) and (12.7) to optimize $f$, with $A_{0}^{-1}=I$ (the $n\\times n$ identity matrix) as the initial approximation to the inverse of the Hessian. Return the final estimate $x_k$, whether or not the method converged, and the number of iterations computed.\n",
    "\n",
    "    This method is a little tricky and can have issues if $x_0$ is chosen poorly. Consider the following as you implement your function.\n",
    "    \n",
    "    • Use the same stopping criteria as in Problem 1, iterating until either $\\left\\|D f\\left(\\mathbf{x}_{k}\\right)\\right\\|_{\\infty}<\\mathrm{tol}$ or $k > maxiter$. The usual criteria $\\left\\|\\mathbf{x}_{k}-\\mathbf{x}_{k-1}\\right\\|<\\text { to } 1$ is not a good choice for BFGS.\n",
    "    \n",
    "    • Avoid recomputing values by only calculating each $Df(xk), s_k, y_k$, and $s^T_k y_k$ once.\n",
    "    \n",
    "    • Note that $s_ks^T_k, y_ks^T_k$, and $s_ky^T_k$ are all outer products that result in $n \\times n$ matrices. Use `np.outer()` instead of `np.dot()` or the @ operator for these computations. Carefully identify which parts of (12.7) are scalars and which parts are matrices.\n",
    "    \n",
    "    • If $(s^T_ky_k)^2 = 0$, terminate the iteration early to avoid dividing by zero.\n",
    "\n",
    "    Test your function on the Rosenbrock function as in Problem 1."
   ]
  },
  {
   "cell_type": "code",
   "execution_count": 5,
   "metadata": {},
   "outputs": [],
   "source": [
    "def BFGS(gradient,x0,maxiter = 1e+4,tol = 1e-6):\n",
    "    dfnorm = 1\n",
    "    numiter = 0\n",
    "    isconverged = False\n",
    "    n = len(x0)\n",
    "    Ainv0 = np.eye(n)\n",
    "    \n",
    "    while dfnorm > tol and numiter < maxiter:\n",
    "        dfx0 = gradient(x0)\n",
    "        x1 = x0 - Ainv0 @ dfx0\n",
    "        s = x1 - x0\n",
    "        dfx1 = gradient(x1)\n",
    "        y = dfx1 - dfx0\n",
    "        if (s @ y)**2 < 1e-20:\n",
    "            break  \n",
    "        Ainv1 = Ainv0 + (s@y + y @ Ainv0 @ y)*np.outer(s,s)/((s@y)**2) - (Ainv0@np.outer(y,s)+np.outer(s,y)@Ainv0)/(s@y) \n",
    "        numiter += 1\n",
    "        x0 = x1\n",
    "        Ainv0 = Ainv1\n",
    "        dfnorm = la.norm(dfx1,np.inf)\n",
    "        \n",
    "    if la.norm(dfx1,np.inf) < tol:\n",
    "        isconverged = True\n",
    "        \n",
    "    return x1, isconverged, numiter"
   ]
  },
  {
   "cell_type": "code",
   "execution_count": 6,
   "metadata": {},
   "outputs": [],
   "source": [
    "x,convergence,niter = BFGS(df,x0)"
   ]
  },
  {
   "cell_type": "code",
   "execution_count": 7,
   "metadata": {},
   "outputs": [
    {
     "name": "stdout",
     "output_type": "stream",
     "text": [
      "[0.99999999 0.99999998]\n",
      "BFGS method has converged: True\n",
      "Number of iterations 148\n"
     ]
    }
   ],
   "source": [
    "# Print results\n",
    "print(x)\n",
    "print('BFGS method has converged: %r' %convergence)\n",
    "print('Number of iterations %d' %niter)"
   ]
  },
  {
   "cell_type": "markdown",
   "metadata": {},
   "source": [
    "3. Write a function that accepts an integer $N$ and performs the following $N$ times.\n",
    "    1. Sample a random initial guess x0 from the 2-D uniform distribution over $[-3,3] \\times[-3,3]$. (Hint: Use `np.random.uniform()` or `np.random.random()`.)\n",
    "    2. Time (separately) your implementation of Newton’s method from Problem 1, your BFGS routine from Problem 2, and `scipy.optimize.bfgs_fmin()` for minimizing the Rosenbrock function with an initial guess of $x0$.\n",
    "    3. Record the number of iterations from each method. For `scipy.optimize.fmin_bfgs()`, set `disp=False` to suppress printing the convergence message and `retall=True` to get the list of $x_k$ at each iteration (to count the number of iterations).\n",
    "        \n",
    "    Plot the computation times versus the number of iterations with a log-log scale, using different colors for each method. For $N = 100$, your plot should resemble the following figure. Note that Newton’s method consistently converges much faster than BFGS. In addition, SciPy’s BFGS algorithm will likely converge faster than your BFGS implementation because it employs a line search to choose an intelligent step size at each iteration."
   ]
  },
  {
   "cell_type": "code",
   "execution_count": 8,
   "metadata": {},
   "outputs": [],
   "source": [
    "def Compare(N):\n",
    "\n",
    "    numiter_newton = np.zeros(N)\n",
    "    time_newton = np.zeros(N)\n",
    "    numiter_bfgs = np.zeros(N)\n",
    "    time_bfgs = np.zeros(N)\n",
    "    numiter_spbfgs = np.zeros(N)\n",
    "    time_spbfgs = np.zeros(N)\n",
    "\n",
    "    for i in range(N):\n",
    "        # Sample a random initial guess\n",
    "        x0 = np.random.uniform(-3,3,2)\n",
    "\n",
    "        # Newton's method\n",
    "        start_newton = time.perf_counter()\n",
    "        result = Newton(df,d2f,x0,maxiter = 1e5,tol = 1e-6)\n",
    "        time_newton[i] = time.perf_counter() - start_newton\n",
    "        numiter_newton[i] = result[2]\n",
    "\n",
    "        # BFGS\n",
    "        start_bfgs = time.perf_counter()\n",
    "        result = BFGS(df,x0,maxiter = 1e5,tol = 1e-6)\n",
    "        time_bfgs[i] = time.perf_counter() - start_bfgs\n",
    "        numiter_bfgs[i] = result[2]\n",
    "\n",
    "        # SciPy's BFGS\n",
    "        start_spbfgs = time.perf_counter()\n",
    "        result = opt.fmin_bfgs(f, x0, df, disp=False, retall=True)\n",
    "        time_spbfgs[i] =  time.perf_counter() - start_spbfgs\n",
    "        numiter_spbfgs[i] = len(result[1])\n",
    "\n",
    "\n",
    "    fig = plt.figure(figsize=(8,8))\n",
    "    plt.loglog()\n",
    "    plt.scatter(time_newton, numiter_newton, alpha=0.5, label='Newton\\'s Method')\n",
    "    plt.scatter(time_bfgs, numiter_bfgs, alpha=0.5, label='BFGS')\n",
    "    plt.scatter(time_spbfgs, numiter_spbfgs, alpha=0.5, label='scipy.optimize.fmin_bfgs()')\n",
    "    plt.xlabel('Time (seconds)')\n",
    "    plt.ylabel('Iterations')\n",
    "    plt.legend()\n",
    "    plt.show()"
   ]
  },
  {
   "cell_type": "code",
   "execution_count": 9,
   "metadata": {},
   "outputs": [
    {
     "data": {
      "image/png": "[encoded data removed]",
      "text/plain": [
       "<Figure size 576x576 with 1 Axes>"
      ]
     },
     "metadata": {
      "needs_background": "light"
     },
     "output_type": "display_data"
    }
   ],
   "source": [
    "Compare(100)"
   ]
  },
  {
   "cell_type": "markdown",
   "metadata": {},
   "source": [
    "4. Write a function that accepts a function for the proposed model $\\phi(x)$, the model derivative $D_{\\phi}(x)$, a function that returns the residual vector $r(x)$, a callable function that returns the Jacobian of the residual $Dr(x) = J(x)$, a starting point $x_0$, a max number of iterations $maxiter$, and a stopping tolerance $tol$. This method should implement the Gauss-Newton Method and return a list containing: the minimizing x value, the number of iterationsperformed, and if the method converged as a boolean.\n",
    "\n",
    "    Test your function by using the Jacobian function, residual function, and starting point given in the example above. Compare your results to `scipy.optimize.leastsq()`."
   ]
  },
  {
   "cell_type": "code",
   "execution_count": 10,
   "metadata": {},
   "outputs": [],
   "source": [
    "def gauss_newton(r,J,x0,maxiter,tol):\n",
    "    numiter = 0\n",
    "    diff = 1\n",
    "    isconverged = False\n",
    "    \n",
    "    while numiter < maxiter and diff > tol:\n",
    "        rxk = r(x0)\n",
    "        Jxk = J(x0)\n",
    "        zk = la.solve(Jxk.T @ Jxk, Jxk.T @ rxk)\n",
    "        x1 = x0 - zk\n",
    "        diff = la.norm(x1-x0,np.inf)\n",
    "        numiter += 1\n",
    "        x0 = x1\n",
    "        \n",
    "    if diff < tol:\n",
    "        isconverged = True\n",
    "    \n",
    "    return x1,numiter,isconverged"
   ]
  },
  {
   "cell_type": "code",
   "execution_count": 11,
   "metadata": {},
   "outputs": [],
   "source": [
    "# Generate random data for t = 0, 1, ..., 10.\n",
    "T = np.arange(10)\n",
    "y = 3*np.sin(0.5*T)+ 0.5*np.random.randn(10) # Perturbed data.\n",
    "\n",
    "# Define the model function and the residual (based on the data).\n",
    "model = lambda x, t: x[0]*np.sin(x[1]*t) # phi(x,t)\n",
    "residual = lambda x: model(x, T) - y # r(x) = phi(x,t) - y\n",
    "\n",
    "# Define the Jacobian of the residual function, computed by hand.\n",
    "jac = lambda x: np.column_stack((np.sin(x[1]*T), x[0]*T*np.cos(x[1]*T)))\n",
    "\n",
    "x0 = np.array([2.5,.6])\n",
    "x,niter,convergence = gauss_newton(residual,jac,x0,maxiter=1e4,tol=1e-6)"
   ]
  },
  {
   "cell_type": "code",
   "execution_count": 12,
   "metadata": {},
   "outputs": [
    {
     "name": "stdout",
     "output_type": "stream",
     "text": [
      "[3.45005772 0.49728041]\n",
      "Gauss-Newton method has converged: True\n",
      "Number of iterations 6\n"
     ]
    }
   ],
   "source": [
    "# Print results\n",
    "print(x)\n",
    "print('Gauss-Newton method has converged: %r' %convergence)\n",
    "print('Number of iterations %d' %niter)"
   ]
  },
  {
   "cell_type": "code",
   "execution_count": 13,
   "metadata": {},
   "outputs": [
    {
     "name": "stdout",
     "output_type": "stream",
     "text": [
      "[3.45005769 0.49728042]\n"
     ]
    }
   ],
   "source": [
    "# Compare the result with opt.leastsq\n",
    "x_ls,_ = opt.leastsq(func=residual, x0=np.array([2.5,.6]), Dfun=jac)\n",
    "print(x_ls)"
   ]
  },
  {
   "cell_type": "markdown",
   "metadata": {},
   "source": [
    "5. The file `population.npy` contains census data from the United States every ten years since 1790 for 16 decades. The first column $(t)$ gives the number of decades since 1790 in the decade $(0, 1, ...)$ and the second column $(y)$ gives the population count in millions of people.\n",
    "\n",
    "    By plotting the data, and with a little knowledge about population growth, it is reasonable to hypothesize an exponential model for the population:    \n",
    "    $$\n",
    "    \\phi\\left(x_{1}, x_{2}, x_{3}, t\\right)=x_{1} \\exp \\left(x_{2}\\left(t+x_{3}\\right)\\right)\n",
    "    $$    \n",
    "    Use the initial guess $(1.5, .4, 2.5)$ for the parameters $(x1, x2, x3)$ and your Gauss Newton function or `scipy.optimize.leastsq()` to fit this model. Plot the resulting curve along with the actual data points.\n",
    "    \n",
    "    Unfortunately, the exponential model isn’t a very good fit for the data because the population grows exponentially for only the first 8 or so decades.a Instead, consider the following logistic model.\n",
    "    $$\n",
    "    \\phi\\left(x_{1}, x_{2}, x_{3}, t\\right)=\\frac{x_{1}}{1+\\exp \\left(-x_{2}\\left(t+x_{3}\\right)\\right)}\n",
    "    $$\n",
    "    A reasonable initial guess for the parameters $(x_1, x_2, x_3)$ is $(150, .4,-15)$. Write functions for the model and the corresponding residual vector, then fit the model. Plot the data against the fitted curve (in the same plot as before). It should be a much better fit than the exponential curve."
   ]
  },
  {
   "cell_type": "code",
   "execution_count": 14,
   "metadata": {},
   "outputs": [
    {
     "data": {
      "image/png": "[encoded data removed]",
      "text/plain": [
       "<Figure size 432x288 with 1 Axes>"
      ]
     },
     "metadata": {
      "needs_background": "light"
     },
     "output_type": "display_data"
    }
   ],
   "source": [
    "pop = np.load('population.npy')\n",
    "y = pop[:,1]\n",
    "T = pop[:,0]\n",
    "\n",
    "model_exp = lambda x, t: x[0]*np.exp(x[1]*(t+x[2]))\n",
    "residual_exp = lambda x: model_exp(x,T) - y\n",
    "jac_exp = lambda x: np.column_stack((np.exp(x[1]*(T+x[2])),\n",
    "                                     x[0]*(T+x[2])*np.exp(x[1]*(T+x[2])),\n",
    "                                     x[0]*x[1]*np.exp(x[1]*(T+x[2]))))\n",
    "\n",
    "x_exp = opt.leastsq(func=residual_exp, x0=np.array([1.5,.4,2.5]), Dfun=jac_exp)[0]\n",
    "Tdom = np.linspace(0,15,100)\n",
    "yfit_exp = model_exp(x_exp,Tdom)\n",
    "\n",
    "# plot the resulting curve along with the actual data points\n",
    "plt.scatter(T, y, label='Data', s=6, marker='o')\n",
    "plt.plot(Tdom, yfit_exp, 'g--', label='Normal Equations')\n",
    "plt.title(\"Exponential Model\")\n",
    "plt.show()"
   ]
  },
  {
   "cell_type": "code",
   "execution_count": 15,
   "metadata": {},
   "outputs": [
    {
     "data": {
      "image/png": "[encoded data removed]",
      "text/plain": [
       "<Figure size 432x288 with 1 Axes>"
      ]
     },
     "metadata": {
      "needs_background": "light"
     },
     "output_type": "display_data"
    }
   ],
   "source": [
    "model_logit = lambda x, t: x[0]/(1+np.exp(-x[1]*(t+x[2])))\n",
    "residual_logit = lambda x: model_logit(x,T) - y\n",
    "jac_logit = lambda x: np.column_stack((1/(1+np.exp(-x[1]*(T+x[2]))),\n",
    "                                     x[0]*np.exp(-x[1]*(T+x[2]))*(T+x[2])/(1+np.exp(-x[1]*(T+x[2])))**2,\n",
    "                                     x[0]*np.exp(-x[1]*(T+x[2]))*x[1]/(1+np.exp(-x[1]*(T+x[2])))**2))\n",
    "\n",
    "x_logit = opt.leastsq(func=residual_logit, x0=np.array([150,.4,-15]), Dfun=jac_logit)[0]\n",
    "yfit_logit = model_logit(x_logit,Tdom)\n",
    "\n",
    "# plot the resulting curve along with the actual data points\n",
    "plt.scatter(T, y, label='Data', s=6, marker='o')\n",
    "plt.plot(Tdom, yfit_logit, 'r--', label='Normal Equations')\n",
    "plt.title(\"Logistic Model\")\n",
    "plt.show()"
   ]
  },
  {
   "cell_type": "code",
   "execution_count": null,
   "metadata": {},
   "outputs": [],
   "source": []
  }
 ],
 "metadata": {
  "kernelspec": {
   "display_name": "Python 3",
   "language": "python",
   "name": "python3"
  },
  "language_info": {
   "codemirror_mode": {
    "name": "ipython",
    "version": 3
   },
   "file_extension": ".py",
   "mimetype": "text/x-python",
   "name": "python",
   "nbconvert_exporter": "python",
   "pygments_lexer": "ipython3",
   "version": "3.7.3"
  }
 },
 "nbformat": 4,
 "nbformat_minor": 2
}
